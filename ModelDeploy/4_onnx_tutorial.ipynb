{
 "cells": [
  {
   "cell_type": "markdown",
   "id": "c504aa5a",
   "metadata": {
    "toc": true
   },
   "source": [
    "<h1>Table of Contents<span class=\"tocSkip\"></span></h1>\n",
    "<div class=\"toc\"><ul class=\"toc-item\"><li><span><a href=\"#基础模型\" data-toc-modified-id=\"基础模型-1\"><span class=\"toc-item-num\">1&nbsp;&nbsp;</span>基础模型</a></span></li><li><span><a href=\"#常量初始化变量\" data-toc-modified-id=\"常量初始化变量-2\"><span class=\"toc-item-num\">2&nbsp;&nbsp;</span>常量初始化变量</a></span></li><li><span><a href=\"#参考\" data-toc-modified-id=\"参考-3\"><span class=\"toc-item-num\">3&nbsp;&nbsp;</span>参考</a></span></li></ul></div>"
   ]
  },
  {
   "cell_type": "markdown",
   "id": "a48887a5",
   "metadata": {},
   "source": [
    "## 基础模型"
   ]
  },
  {
   "cell_type": "code",
   "execution_count": 21,
   "id": "ec18c8f6",
   "metadata": {},
   "outputs": [
    {
     "name": "stdout",
     "output_type": "stream",
     "text": [
      "pytorch-lightning                 1.9.0\r\n",
      "torch                             1.13.0\r\n",
      "torchaudio                        0.13.0\r\n",
      "torchmetrics                      0.11.0\r\n"
     ]
    }
   ],
   "source": [
    "! pip list|grep torch"
   ]
  },
  {
   "cell_type": "code",
   "execution_count": 6,
   "id": "a3ac6b94",
   "metadata": {},
   "outputs": [],
   "source": [
    "import onnx\n",
    "from onnx import helper\n",
    "from onnx import TensorProto"
   ]
  },
  {
   "cell_type": "markdown",
   "id": "644b7fe7",
   "metadata": {},
   "source": [
    "基于onnx实现一个线性函数`y=a*x+b`，输入类型为int，大小为`2*3`"
   ]
  },
  {
   "cell_type": "code",
   "execution_count": 3,
   "id": "57c864c5",
   "metadata": {},
   "outputs": [],
   "source": [
    "# 定义张量\n",
    "a = helper.make_tensor_value_info(\"a\", TensorProto.INT32, [2, 3])\n",
    "x = helper.make_tensor_value_info(\"x\", TensorProto.INT32, [3, 2])\n",
    "b = helper.make_tensor_value_info(\"b\", TensorProto.INT32, [2, 2])\n",
    "y = helper.make_tensor_value_info(\"y\", TensorProto.INT32, [2, 2])"
   ]
  },
  {
   "cell_type": "code",
   "execution_count": 4,
   "id": "ec5aae53",
   "metadata": {},
   "outputs": [],
   "source": [
    "# 定义算子\n",
    "node_mul = helper.make_node(\"Mul\", [\"a\", \"x\"], [\"c\"])\n",
    "node_add = helper.make_node(\"Add\", [\"c\", \"b\"], [\"y\"])"
   ]
  },
  {
   "cell_type": "code",
   "execution_count": 6,
   "id": "9bfc3744",
   "metadata": {},
   "outputs": [],
   "source": [
    "# 定义计算图\n",
    "graph = helper.make_graph([node_mul, node_add], \"linear_func\", [a, x, b], [y])"
   ]
  },
  {
   "cell_type": "code",
   "execution_count": 7,
   "id": "5dcf85d7",
   "metadata": {},
   "outputs": [],
   "source": [
    "# 定义模型\n",
    "model = helper.make_model(graph)"
   ]
  },
  {
   "cell_type": "code",
   "execution_count": 8,
   "id": "b098055a",
   "metadata": {},
   "outputs": [],
   "source": [
    "onnx.checker.check_model(model)\n",
    "onnx.save(model, \"linear_func.onnx\")"
   ]
  },
  {
   "cell_type": "code",
   "execution_count": 9,
   "id": "52f91284",
   "metadata": {},
   "outputs": [
    {
     "name": "stdout",
     "output_type": "stream",
     "text": [
      "ir_version: 9\n",
      "graph {\n",
      "  node {\n",
      "    input: \"a\"\n",
      "    input: \"x\"\n",
      "    output: \"c\"\n",
      "    op_type: \"Mul\"\n",
      "  }\n",
      "  node {\n",
      "    input: \"c\"\n",
      "    input: \"b\"\n",
      "    output: \"y\"\n",
      "    op_type: \"Add\"\n",
      "  }\n",
      "  name: \"linear_func\"\n",
      "  input {\n",
      "    name: \"a\"\n",
      "    type {\n",
      "      tensor_type {\n",
      "        elem_type: 6\n",
      "        shape {\n",
      "          dim {\n",
      "            dim_value: 2\n",
      "          }\n",
      "          dim {\n",
      "            dim_value: 3\n",
      "          }\n",
      "        }\n",
      "      }\n",
      "    }\n",
      "  }\n",
      "  input {\n",
      "    name: \"x\"\n",
      "    type {\n",
      "      tensor_type {\n",
      "        elem_type: 6\n",
      "        shape {\n",
      "          dim {\n",
      "            dim_value: 3\n",
      "          }\n",
      "          dim {\n",
      "            dim_value: 2\n",
      "          }\n",
      "        }\n",
      "      }\n",
      "    }\n",
      "  }\n",
      "  input {\n",
      "    name: \"b\"\n",
      "    type {\n",
      "      tensor_type {\n",
      "        elem_type: 6\n",
      "        shape {\n",
      "          dim {\n",
      "            dim_value: 2\n",
      "          }\n",
      "          dim {\n",
      "            dim_value: 2\n",
      "          }\n",
      "        }\n",
      "      }\n",
      "    }\n",
      "  }\n",
      "  output {\n",
      "    name: \"y\"\n",
      "    type {\n",
      "      tensor_type {\n",
      "        elem_type: 6\n",
      "        shape {\n",
      "          dim {\n",
      "            dim_value: 2\n",
      "          }\n",
      "          dim {\n",
      "            dim_value: 2\n",
      "          }\n",
      "        }\n",
      "      }\n",
      "    }\n",
      "  }\n",
      "}\n",
      "opset_import {\n",
      "  version: 19\n",
      "}\n",
      "\n"
     ]
    }
   ],
   "source": [
    "print(model)"
   ]
  },
  {
   "cell_type": "markdown",
   "id": "7134cbd0",
   "metadata": {},
   "source": [
    "TypeProto"
   ]
  },
  {
   "attachments": {
    "%E6%88%AA%E5%B1%8F2023-06-07%2022.00.19.png": {
     "image/png": "[encoded data removed]"
    }
   },
   "cell_type": "markdown",
   "id": "a20097ff",
   "metadata": {},
   "source": [
    "![%E6%88%AA%E5%B1%8F2023-06-07%2022.00.19.png](attachment:%E6%88%AA%E5%B1%8F2023-06-07%2022.00.19.png)"
   ]
  },
  {
   "cell_type": "markdown",
   "id": "6166532b",
   "metadata": {},
   "source": [
    "## 常量初始化变量"
   ]
  },
  {
   "cell_type": "markdown",
   "id": "20d679ae",
   "metadata": {},
   "source": [
    "初始化a和b为常量"
   ]
  },
  {
   "cell_type": "code",
   "execution_count": 24,
   "id": "72cae4ed",
   "metadata": {},
   "outputs": [],
   "source": [
    "import numpy as np"
   ]
  },
  {
   "cell_type": "code",
   "execution_count": 25,
   "id": "4172b13f",
   "metadata": {},
   "outputs": [],
   "source": [
    "# 定义张量\n",
    "weight = np.random.randn(2, 3).astype(np.int32)\n",
    "bias = np.random.randn(2, 2).astype(np.int32)\n",
    "\n",
    "a = helper.make_tensor(\"a\", TensorProto.INT32, [2, 3], weight.flatten().tolist())\n",
    "x = helper.make_tensor_value_info(\"x\", TensorProto.INT32, [3, 2])\n",
    "b = helper.make_tensor(\"b\", TensorProto.INT32, [2, 2], bias.flatten().tolist())\n",
    "y = helper.make_tensor_value_info(\"y\", TensorProto.INT32, [2, 2])"
   ]
  },
  {
   "cell_type": "code",
   "execution_count": 26,
   "id": "f87e8e2e",
   "metadata": {},
   "outputs": [],
   "source": [
    "# 定义算子\n",
    "node_mul = helper.make_node(\"Mul\", [\"a\", \"x\"], [\"c\"])  # ！！ a和x的顺序决定了是a*x 不是x*a\n",
    "node_add = helper.make_node(\"Add\", [\"c\", \"b\"], [\"y\"])"
   ]
  },
  {
   "cell_type": "code",
   "execution_count": 27,
   "id": "545b4d76",
   "metadata": {},
   "outputs": [],
   "source": [
    "# 定义计算图\n",
    "# !!! 这里只有x是输入，a和b则成为了initializer\n",
    "graph = helper.make_graph([node_mul, node_add], \"linear_func\", [x], [y], [a, b])"
   ]
  },
  {
   "cell_type": "code",
   "execution_count": 28,
   "id": "1f812948",
   "metadata": {},
   "outputs": [],
   "source": [
    "# 定义模型\n",
    "model = helper.make_model(graph)"
   ]
  },
  {
   "cell_type": "code",
   "execution_count": 29,
   "id": "9b3f97b3",
   "metadata": {},
   "outputs": [],
   "source": [
    "onnx.checker.check_model(model)\n",
    "onnx.save(model, \"linear_func_initialize.onnx\")"
   ]
  },
  {
   "cell_type": "code",
   "execution_count": 30,
   "id": "fc789097",
   "metadata": {},
   "outputs": [
    {
     "name": "stdout",
     "output_type": "stream",
     "text": [
      "ir_version: 8\n",
      "graph {\n",
      "  node {\n",
      "    input: \"a\"\n",
      "    input: \"x\"\n",
      "    output: \"c\"\n",
      "    op_type: \"Mul\"\n",
      "  }\n",
      "  node {\n",
      "    input: \"c\"\n",
      "    input: \"b\"\n",
      "    output: \"y\"\n",
      "    op_type: \"Add\"\n",
      "  }\n",
      "  name: \"linear_func\"\n",
      "  initializer {\n",
      "    dims: 2\n",
      "    dims: 3\n",
      "    data_type: 6\n",
      "    int32_data: 0\n",
      "    int32_data: 0\n",
      "    int32_data: 1\n",
      "    int32_data: 1\n",
      "    int32_data: -1\n",
      "    int32_data: 1\n",
      "    name: \"a\"\n",
      "  }\n",
      "  initializer {\n",
      "    dims: 2\n",
      "    dims: 2\n",
      "    data_type: 6\n",
      "    int32_data: 0\n",
      "    int32_data: 0\n",
      "    int32_data: 0\n",
      "    int32_data: 0\n",
      "    name: \"b\"\n",
      "  }\n",
      "  input {\n",
      "    name: \"x\"\n",
      "    type {\n",
      "      tensor_type {\n",
      "        elem_type: 6\n",
      "        shape {\n",
      "          dim {\n",
      "            dim_value: 3\n",
      "          }\n",
      "          dim {\n",
      "            dim_value: 2\n",
      "          }\n",
      "        }\n",
      "      }\n",
      "    }\n",
      "  }\n",
      "  output {\n",
      "    name: \"y\"\n",
      "    type {\n",
      "      tensor_type {\n",
      "        elem_type: 6\n",
      "        shape {\n",
      "          dim {\n",
      "            dim_value: 2\n",
      "          }\n",
      "          dim {\n",
      "            dim_value: 2\n",
      "          }\n",
      "        }\n",
      "      }\n",
      "    }\n",
      "  }\n",
      "}\n",
      "opset_import {\n",
      "  version: 18\n",
      "}\n",
      "\n"
     ]
    }
   ],
   "source": [
    "print(model)"
   ]
  },
  {
   "attachments": {
    "image.png": {
     "image/png": "[encoded data removed]"
    }
   },
   "cell_type": "markdown",
   "id": "f0dabe95",
   "metadata": {},
   "source": [
    "![image.png](attachment:image.png)"
   ]
  },
  {
   "cell_type": "markdown",
   "id": "1de570b1",
   "metadata": {},
   "source": [
    "## 参考"
   ]
  },
  {
   "cell_type": "markdown",
   "id": "dd42e58d",
   "metadata": {},
   "source": [
    "+ https://zhuanlan.zhihu.com/p/516920606\n",
    "+ https://github.com/onnx/onnx/blob/main/onnx/onnx.proto\n",
    "+ https://zhuanlan.zhihu.com/p/346511883"
   ]
  },
  {
   "cell_type": "code",
   "execution_count": null,
   "id": "618dda80",
   "metadata": {},
   "outputs": [],
   "source": []
  }
 ],
 "metadata": {
  "kernelspec": {
   "display_name": "Python 3 (ipykernel)",
   "language": "python",
   "name": "python3"
  },
  "language_info": {
   "codemirror_mode": {
    "name": "ipython",
    "version": 3
   },
   "file_extension": ".py",
   "mimetype": "text/x-python",
   "name": "python",
   "nbconvert_exporter": "python",
   "pygments_lexer": "ipython3",
   "version": "3.7.2"
  },
  "toc": {
   "base_numbering": 1,
   "nav_menu": {},
   "number_sections": true,
   "sideBar": true,
   "skip_h1_title": false,
   "title_cell": "Table of Contents",
   "title_sidebar": "Contents",
   "toc_cell": true,
   "toc_position": {},
   "toc_section_display": true,
   "toc_window_display": true
  }
 },
 "nbformat": 4,
 "nbformat_minor": 5
}

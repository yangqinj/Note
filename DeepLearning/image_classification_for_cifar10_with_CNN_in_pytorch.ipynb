{
 "cells": [
  {
   "cell_type": "markdown",
   "metadata": {
    "toc": true
   },
   "source": [
    "<h1>Table of Contents<span class=\"tocSkip\"></span></h1>\n",
    "<div class=\"toc\"><ul class=\"toc-item\"><li><span><a href=\"#load-data-and-transformation\" data-toc-modified-id=\"load-data-and-transformation-1\"><span class=\"toc-item-num\">1&nbsp;&nbsp;</span>load data and transformation</a></span></li><li><span><a href=\"#define-a-simple-convolutional-neural-network\" data-toc-modified-id=\"define-a-simple-convolutional-neural-network-2\"><span class=\"toc-item-num\">2&nbsp;&nbsp;</span>define a simple convolutional neural network</a></span></li><li><span><a href=\"#loss-function-and-optimizer\" data-toc-modified-id=\"loss-function-and-optimizer-3\"><span class=\"toc-item-num\">3&nbsp;&nbsp;</span>loss function and optimizer</a></span></li><li><span><a href=\"#train\" data-toc-modified-id=\"train-4\"><span class=\"toc-item-num\">4&nbsp;&nbsp;</span>train</a></span></li><li><span><a href=\"#test\" data-toc-modified-id=\"test-5\"><span class=\"toc-item-num\">5&nbsp;&nbsp;</span>test</a></span></li><li><span><a href=\"#错误记录\" data-toc-modified-id=\"错误记录-6\"><span class=\"toc-item-num\">6&nbsp;&nbsp;</span>错误记录</a></span><ul class=\"toc-item\"><li><span><a href=\"#RuntimeError:-error-executing-torch_shm_manager\" data-toc-modified-id=\"RuntimeError:-error-executing-torch_shm_manager-6.1\"><span class=\"toc-item-num\">6.1&nbsp;&nbsp;</span><code>RuntimeError: error executing torch_shm_manager</code></a></span></li><li><span><a href=\"#Initializing-libiomp5.dylib,-but-found-libiomp5.dylib-already-initialized\" data-toc-modified-id=\"Initializing-libiomp5.dylib,-but-found-libiomp5.dylib-already-initialized-6.2\"><span class=\"toc-item-num\">6.2&nbsp;&nbsp;</span>Initializing libiomp5.dylib, but found libiomp5.dylib already initialized</a></span></li></ul></li></ul></div>"
   ]
  },
  {
   "cell_type": "markdown",
   "metadata": {},
   "source": [
    "CIFRA10数据集总共有60000张32*32的彩色图，其中5w张为训练集，1w张为测试集。样本属于10个类别，"
   ]
  },
  {
   "cell_type": "markdown",
   "metadata": {},
   "source": [
    "# load data and transformation"
   ]
  },
  {
   "cell_type": "code",
   "execution_count": 1,
   "metadata": {},
   "outputs": [],
   "source": [
    "import torch\n",
    "import torchvision\n",
    "import torchvision.transforms as T"
   ]
  },
  {
   "cell_type": "code",
   "execution_count": 2,
   "metadata": {},
   "outputs": [],
   "source": [
    "mean, std = (0.5, 0.5, 0.5), (0.5, 0.5, 0.5)\n",
    "file_root = '../../../../Workspace/Datasets/CIFAR10/'\n",
    "classes = ('airplane', 'automobile', 'bird', 'cat', 'deer', 'dog', 'frog', 'horse', 'ship', 'truck')\n",
    "batch_size = 32\n",
    "num_workers = 2"
   ]
  },
  {
   "cell_type": "code",
   "execution_count": 3,
   "metadata": {},
   "outputs": [],
   "source": [
    "def create_dataset(root, train=True, transform=None):\n",
    "    return torchvision.datasets.CIFAR10(root=root, train=train, transform=transform)"
   ]
  },
  {
   "cell_type": "code",
   "execution_count": 4,
   "metadata": {},
   "outputs": [],
   "source": [
    "transform_train = T.Compose([T.ToTensor(), \n",
    "                             T.Normalize(mean, std)])\n",
    "trainset = create_dataset(file_root, True, transform_train)\n",
    "train_loader = torch.utils.data.DataLoader(trainset, batch_size=batch_size, shuffle=True, num_workers=num_workers)"
   ]
  },
  {
   "cell_type": "code",
   "execution_count": 5,
   "metadata": {},
   "outputs": [],
   "source": [
    "transform_test = T.Compose([T.ToTensor(), \n",
    "                            T.Normalize(mean, std)])\n",
    "\n",
    "testset = create_dataset(file_root, False, transform=transform_test)\n",
    "test_loader = torch.utils.data.DataLoader(testset, batch_size=batch_size, shuffle=True, num_workers=num_workers)"
   ]
  },
  {
   "cell_type": "markdown",
   "metadata": {},
   "source": [
    "# define a simple convolutional neural network"
   ]
  },
  {
   "cell_type": "code",
   "execution_count": 6,
   "metadata": {},
   "outputs": [],
   "source": [
    "import torch.nn as nn\n",
    "import torch.nn.functional as F"
   ]
  },
  {
   "cell_type": "code",
   "execution_count": 7,
   "metadata": {},
   "outputs": [],
   "source": [
    "class Net(nn.Module):\n",
    "    def __init__(self):\n",
    "        super(Net, self).__init__()\n",
    "        self.conv1 = nn.Conv2d(3, 6, 5)\n",
    "        self.pool = nn.MaxPool2d(2, 2)\n",
    "        self.conv2 = nn.Conv2d(6, 16, 5)\n",
    "        self.fc1 = nn.Linear(5 * 5 * 16, 120)\n",
    "        self.fc2 = nn.Linear(120, 84)\n",
    "        self.fc3 = nn.Linear(84, 10)\n",
    "    \n",
    "    def forward(self, x):\n",
    "        x = self.pool(F.relu(self.conv1(x)))\n",
    "        x = self.pool(F.relu(self.conv2(x)))\n",
    "        x = x.view(-1, 16 * 5 *5)\n",
    "        x = F.relu(self.fc1(x))\n",
    "        x = F.relu(self.fc2(x))\n",
    "        x = self.fc3(x)\n",
    "        return x\n",
    "\n",
    "net = Net()"
   ]
  },
  {
   "cell_type": "markdown",
   "metadata": {},
   "source": [
    "# loss function and optimizer"
   ]
  },
  {
   "cell_type": "code",
   "execution_count": 8,
   "metadata": {},
   "outputs": [],
   "source": [
    "from torch import optim"
   ]
  },
  {
   "cell_type": "code",
   "execution_count": 9,
   "metadata": {},
   "outputs": [],
   "source": [
    "criterion = nn.CrossEntropyLoss()\n",
    "opt = optim.SGD(net.parameters(), lr=0.001, momentum=0.9)"
   ]
  },
  {
   "cell_type": "markdown",
   "metadata": {},
   "source": [
    "# train"
   ]
  },
  {
   "cell_type": "code",
   "execution_count": 10,
   "metadata": {},
   "outputs": [],
   "source": [
    "log_interval = 2000"
   ]
  },
  {
   "cell_type": "code",
   "execution_count": 11,
   "metadata": {},
   "outputs": [],
   "source": [
    "import os\n",
    "os.environ[\"KMP_DUPLICATE_LIB_OK\"]=\"TRUE\""
   ]
  },
  {
   "cell_type": "code",
   "execution_count": 12,
   "metadata": {},
   "outputs": [
    {
     "name": "stdout",
     "output_type": "stream",
     "text": [
      "Finished Training\n"
     ]
    }
   ],
   "source": [
    "for epoch in range(10):\n",
    "    interval_loss = 0.0\n",
    "    for x, (batch_images, batch_labels) in enumerate(train_loader):\n",
    "        # clear the gradients of all optimized tensors\n",
    "        opt.zero_grad()\n",
    "        \n",
    "        # forward\n",
    "        outputs = net.forward(batch_images)\n",
    "        # calculate loss\n",
    "        loss = criterion(outputs, batch_labels)\n",
    "        # BP\n",
    "        loss.backward()\n",
    "        opt.step()\n",
    "        \n",
    "        interval_loss += loss.item()\n",
    "        if x % log_interval == (log_interval-1):\n",
    "            print('epoch {}, iter {}, loss {%.6f}'.format(epoch+1, x+1, epoch_loss/log_interval))\n",
    "            interval_loss = 0.0\n",
    "\n",
    "        \n",
    "print('Finished Training')"
   ]
  },
  {
   "cell_type": "code",
   "execution_count": 13,
   "metadata": {},
   "outputs": [],
   "source": [
    "# save the model\n",
    "path = './cifar_net.pth'\n",
    "torch.save(net.state_dict(), path)"
   ]
  },
  {
   "cell_type": "markdown",
   "metadata": {},
   "source": [
    "# test"
   ]
  },
  {
   "cell_type": "code",
   "execution_count": 14,
   "metadata": {},
   "outputs": [
    {
     "data": {
      "text/plain": [
       "<All keys matched successfully>"
      ]
     },
     "execution_count": 14,
     "metadata": {},
     "output_type": "execute_result"
    }
   ],
   "source": [
    "# load back the model\n",
    "net = Net()\n",
    "net.load_state_dict(torch.load(path))"
   ]
  },
  {
   "cell_type": "code",
   "execution_count": 15,
   "metadata": {},
   "outputs": [
    {
     "name": "stdout",
     "output_type": "stream",
     "text": [
      "Accuracy of the network on the 10000 test images: 58 %\n"
     ]
    }
   ],
   "source": [
    "correct = 0\n",
    "total = 0\n",
    "with torch.no_grad():\n",
    "    for (batch_images, batch_labels) in test_loader:\n",
    "        outputs = net(batch_images)\n",
    "        _, predicted = torch.max(outputs.data, 1)\n",
    "        total += batch_labels.size(0)\n",
    "        correct += (predicted == batch_labels).sum().item()\n",
    "\n",
    "print('Accuracy of the network on the 10000 test images: %d %%' % (\n",
    "    100 * correct / total))"
   ]
  },
  {
   "cell_type": "markdown",
   "metadata": {},
   "source": [
    "# 错误记录"
   ]
  },
  {
   "cell_type": "markdown",
   "metadata": {},
   "source": [
    "##  `RuntimeError: error executing torch_shm_manager`\n",
    "torch1.3.0和torchvision0.4.0在MACOS上有问题，可以降低torch版本为1.2.0，或者重新安装torch\n",
    "\n",
    "https://github.com/pytorch/pytorch/issues/2125\n"
   ]
  },
  {
   "cell_type": "markdown",
   "metadata": {},
   "source": [
    "## Initializing libiomp5.dylib, but found libiomp5.dylib already initialized\n",
    "\n",
    "解决方法1：根据后台的日志，可以设置环境变量，允许多个库存在\n",
    "```\n",
    "import os\n",
    "os.environ[\"KMP_DUPLICATE_LIB_OK\"]=\"TRUE\"\n",
    "```\n",
    "\n",
    "解决方法2：\n",
    "安装nomkl库\n",
    "\n",
    "https://stackoverflow.com/questions/53648730/omp-error-15-initializing-libiomp5-dylib-but-found-libiomp5-dylib-already-in"
   ]
  },
  {
   "cell_type": "code",
   "execution_count": null,
   "metadata": {},
   "outputs": [],
   "source": []
  }
 ],
 "metadata": {
  "kernelspec": {
   "display_name": "Python 3",
   "language": "python",
   "name": "python3"
  },
  "language_info": {
   "codemirror_mode": {
    "name": "ipython",
    "version": 3
   },
   "file_extension": ".py",
   "mimetype": "text/x-python",
   "name": "python",
   "nbconvert_exporter": "python",
   "pygments_lexer": "ipython3",
   "version": "3.7.4"
  },
  "toc": {
   "base_numbering": 1,
   "nav_menu": {},
   "number_sections": true,
   "sideBar": true,
   "skip_h1_title": false,
   "title_cell": "Table of Contents",
   "title_sidebar": "Contents",
   "toc_cell": true,
   "toc_position": {},
   "toc_section_display": true,
   "toc_window_display": false
  }
 },
 "nbformat": 4,
 "nbformat_minor": 2
}

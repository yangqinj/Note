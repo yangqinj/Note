{
 "cells": [
  {
   "cell_type": "markdown",
   "metadata": {
    "toc": true
   },
   "source": [
    "<h1>Table of Contents<span class=\"tocSkip\"></span></h1>\n",
    "<div class=\"toc\"><ul class=\"toc-item\"><li><span><a href=\"#类型转换\" data-toc-modified-id=\"类型转换-1\"><span class=\"toc-item-num\">1&nbsp;&nbsp;</span>类型转换</a></span></li><li><span><a href=\"#基本数据类型\" data-toc-modified-id=\"基本数据类型-2\"><span class=\"toc-item-num\">2&nbsp;&nbsp;</span>基本数据类型</a></span><ul class=\"toc-item\"><li><span><a href=\"#list\" data-toc-modified-id=\"list-2.1\"><span class=\"toc-item-num\">2.1&nbsp;&nbsp;</span>list</a></span><ul class=\"toc-item\"><li><span><a href=\"#tuple\" data-toc-modified-id=\"tuple-2.1.1\"><span class=\"toc-item-num\">2.1.1&nbsp;&nbsp;</span>tuple</a></span></li></ul></li><li><span><a href=\"#OrderedDict\" data-toc-modified-id=\"OrderedDict-2.2\"><span class=\"toc-item-num\">2.2&nbsp;&nbsp;</span>OrderedDict</a></span></li></ul></li><li><span><a href=\"#sorted\" data-toc-modified-id=\"sorted-3\"><span class=\"toc-item-num\">3&nbsp;&nbsp;</span>sorted</a></span></li><li><span><a href=\"#迭代器和生成器\" data-toc-modified-id=\"迭代器和生成器-4\"><span class=\"toc-item-num\">4&nbsp;&nbsp;</span>迭代器和生成器</a></span><ul class=\"toc-item\"><li><span><a href=\"#yield-生成器\" data-toc-modified-id=\"yield-生成器-4.1\"><span class=\"toc-item-num\">4.1&nbsp;&nbsp;</span>yield 生成器</a></span></li><li><span><a href=\"#类作为可迭代对象\" data-toc-modified-id=\"类作为可迭代对象-4.2\"><span class=\"toc-item-num\">4.2&nbsp;&nbsp;</span>类作为可迭代对象</a></span></li></ul></li><li><span><a href=\"#变长函数\" data-toc-modified-id=\"变长函数-5\"><span class=\"toc-item-num\">5&nbsp;&nbsp;</span>变长函数</a></span></li><li><span><a href=\"#内置高阶函数\" data-toc-modified-id=\"内置高阶函数-6\"><span class=\"toc-item-num\">6&nbsp;&nbsp;</span>内置高阶函数</a></span></li><li><span><a href=\"#目录\" data-toc-modified-id=\"目录-7\"><span class=\"toc-item-num\">7&nbsp;&nbsp;</span>目录</a></span></li><li><span><a href=\"#正则表达式\" data-toc-modified-id=\"正则表达式-8\"><span class=\"toc-item-num\">8&nbsp;&nbsp;</span>正则表达式</a></span></li><li><span><a href=\"#cheatsheet\" data-toc-modified-id=\"cheatsheet-9\"><span class=\"toc-item-num\">9&nbsp;&nbsp;</span>cheatsheet</a></span></li></ul></div>"
   ]
  },
  {
   "cell_type": "markdown",
   "metadata": {},
   "source": [
    "## 类型转换"
   ]
  },
  {
   "cell_type": "code",
   "execution_count": 1,
   "metadata": {},
   "outputs": [],
   "source": [
    "a = 1.23"
   ]
  },
  {
   "cell_type": "code",
   "execution_count": 2,
   "metadata": {},
   "outputs": [
    {
     "data": {
      "text/plain": [
       "1"
      ]
     },
     "execution_count": 2,
     "metadata": {},
     "output_type": "execute_result"
    }
   ],
   "source": [
    "int(a)"
   ]
  },
  {
   "cell_type": "code",
   "execution_count": 3,
   "metadata": {},
   "outputs": [
    {
     "data": {
      "text/plain": [
       "2"
      ]
     },
     "execution_count": 3,
     "metadata": {},
     "output_type": "execute_result"
    }
   ],
   "source": [
    "int(2.67)"
   ]
  },
  {
   "cell_type": "markdown",
   "metadata": {},
   "source": [
    "可以观察到无论浮点数的小数点是否大于5，int类型转换都只是取其整数部分"
   ]
  },
  {
   "cell_type": "code",
   "execution_count": 10,
   "metadata": {},
   "outputs": [
    {
     "data": {
      "text/plain": [
       "'0b1'"
      ]
     },
     "execution_count": 10,
     "metadata": {},
     "output_type": "execute_result"
    }
   ],
   "source": [
    "bin(int(a))"
   ]
  },
  {
   "cell_type": "code",
   "execution_count": 11,
   "metadata": {},
   "outputs": [
    {
     "data": {
      "text/plain": [
       "'0o1'"
      ]
     },
     "execution_count": 11,
     "metadata": {},
     "output_type": "execute_result"
    }
   ],
   "source": [
    "oct(int(a))"
   ]
  },
  {
   "cell_type": "code",
   "execution_count": 12,
   "metadata": {},
   "outputs": [
    {
     "data": {
      "text/plain": [
       "'0x1'"
      ]
     },
     "execution_count": 12,
     "metadata": {},
     "output_type": "execute_result"
    }
   ],
   "source": [
    "hex(int(a))"
   ]
  },
  {
   "cell_type": "code",
   "execution_count": 13,
   "metadata": {},
   "outputs": [
    {
     "data": {
      "text/plain": [
       "1"
      ]
     },
     "execution_count": 13,
     "metadata": {},
     "output_type": "execute_result"
    }
   ],
   "source": [
    "round(a)"
   ]
  },
  {
   "cell_type": "code",
   "execution_count": 15,
   "metadata": {},
   "outputs": [
    {
     "data": {
      "text/plain": [
       "1.2"
      ]
     },
     "execution_count": 15,
     "metadata": {},
     "output_type": "execute_result"
    }
   ],
   "source": [
    "round(a, 1)"
   ]
  },
  {
   "cell_type": "markdown",
   "metadata": {},
   "source": [
    "## 基本数据类型"
   ]
  },
  {
   "cell_type": "markdown",
   "metadata": {},
   "source": [
    "### list"
   ]
  },
  {
   "cell_type": "code",
   "execution_count": 31,
   "metadata": {},
   "outputs": [],
   "source": [
    "a = [1, 2, 3, 'name', 3, 4, 5]"
   ]
  },
  {
   "cell_type": "code",
   "execution_count": 32,
   "metadata": {},
   "outputs": [
    {
     "data": {
      "text/plain": [
       "[1, 2, 'name', 3, 4, 5]"
      ]
     },
     "execution_count": 32,
     "metadata": {},
     "output_type": "execute_result"
    }
   ],
   "source": [
    "a.remove(3)\n",
    "a"
   ]
  },
  {
   "cell_type": "code",
   "execution_count": 33,
   "metadata": {},
   "outputs": [],
   "source": [
    "try:\n",
    "    a.remove(5)\n",
    "except ValueError:\n",
    "    print('[Error] try to remove non-exist element')"
   ]
  },
  {
   "cell_type": "code",
   "execution_count": 34,
   "metadata": {},
   "outputs": [
    {
     "data": {
      "text/plain": [
       "4"
      ]
     },
     "execution_count": 34,
     "metadata": {},
     "output_type": "execute_result"
    }
   ],
   "source": [
    "a.pop()"
   ]
  },
  {
   "cell_type": "code",
   "execution_count": 35,
   "metadata": {},
   "outputs": [
    {
     "data": {
      "text/plain": [
       "[1, 2, 'name', 3]"
      ]
     },
     "execution_count": 35,
     "metadata": {},
     "output_type": "execute_result"
    }
   ],
   "source": [
    "a"
   ]
  },
  {
   "cell_type": "code",
   "execution_count": 36,
   "metadata": {},
   "outputs": [
    {
     "data": {
      "text/plain": [
       "2"
      ]
     },
     "execution_count": 36,
     "metadata": {},
     "output_type": "execute_result"
    }
   ],
   "source": [
    "a.pop(1)"
   ]
  },
  {
   "cell_type": "code",
   "execution_count": 37,
   "metadata": {},
   "outputs": [
    {
     "data": {
      "text/plain": [
       "[1, 'name', 3]"
      ]
     },
     "execution_count": 37,
     "metadata": {},
     "output_type": "execute_result"
    }
   ],
   "source": [
    "a"
   ]
  },
  {
   "cell_type": "code",
   "execution_count": 38,
   "metadata": {},
   "outputs": [],
   "source": [
    "a.remove('name')"
   ]
  },
  {
   "cell_type": "code",
   "execution_count": 39,
   "metadata": {},
   "outputs": [
    {
     "data": {
      "text/plain": [
       "[1, 3]"
      ]
     },
     "execution_count": 39,
     "metadata": {},
     "output_type": "execute_result"
    }
   ],
   "source": [
    "a"
   ]
  },
  {
   "cell_type": "code",
   "execution_count": 40,
   "metadata": {},
   "outputs": [],
   "source": [
    "del a[1]"
   ]
  },
  {
   "cell_type": "code",
   "execution_count": 41,
   "metadata": {},
   "outputs": [
    {
     "data": {
      "text/plain": [
       "[1]"
      ]
     },
     "execution_count": 41,
     "metadata": {},
     "output_type": "execute_result"
    }
   ],
   "source": [
    "a"
   ]
  },
  {
   "cell_type": "markdown",
   "metadata": {},
   "source": [
    "#### tuple"
   ]
  },
  {
   "cell_type": "code",
   "execution_count": 49,
   "metadata": {},
   "outputs": [],
   "source": [
    "t = (1, 2, 3)"
   ]
  },
  {
   "cell_type": "code",
   "execution_count": 50,
   "metadata": {},
   "outputs": [
    {
     "ename": "TypeError",
     "evalue": "'tuple' object does not support item assignment",
     "output_type": "error",
     "traceback": [
      "\u001b[0;31m---------------------------------------------------------------------------\u001b[0m",
      "\u001b[0;31mTypeError\u001b[0m                                 Traceback (most recent call last)",
      "\u001b[0;32m<ipython-input-50-87b0f225887f>\u001b[0m in \u001b[0;36m<module>\u001b[0;34m\u001b[0m\n\u001b[0;32m----> 1\u001b[0;31m \u001b[0mt\u001b[0m\u001b[0;34m[\u001b[0m\u001b[0;36m1\u001b[0m\u001b[0;34m]\u001b[0m \u001b[0;34m=\u001b[0m \u001b[0;36m4\u001b[0m\u001b[0;34m\u001b[0m\u001b[0;34m\u001b[0m\u001b[0m\n\u001b[0m",
      "\u001b[0;31mTypeError\u001b[0m: 'tuple' object does not support item assignment"
     ]
    }
   ],
   "source": [
    "t[1] = 4"
   ]
  },
  {
   "cell_type": "code",
   "execution_count": 51,
   "metadata": {},
   "outputs": [],
   "source": [
    "# A comma should be append when\n",
    "# there is only one element.\n",
    "t = (3,)"
   ]
  },
  {
   "cell_type": "code",
   "execution_count": 52,
   "metadata": {},
   "outputs": [
    {
     "data": {
      "text/plain": [
       "(3,)"
      ]
     },
     "execution_count": 52,
     "metadata": {},
     "output_type": "execute_result"
    }
   ],
   "source": [
    "t"
   ]
  },
  {
   "cell_type": "markdown",
   "metadata": {},
   "source": [
    "### OrderedDict"
   ]
  },
  {
   "cell_type": "code",
   "execution_count": 54,
   "metadata": {},
   "outputs": [],
   "source": [
    "from collections import OrderedDict"
   ]
  },
  {
   "cell_type": "code",
   "execution_count": 57,
   "metadata": {},
   "outputs": [],
   "source": [
    "d = OrderedDict({'jack': 90, 'mark': 100, 'sally': '98', 'jane': 78})"
   ]
  },
  {
   "cell_type": "code",
   "execution_count": 58,
   "metadata": {},
   "outputs": [
    {
     "data": {
      "text/plain": [
       "OrderedDict([('jack', 90), ('mark', 100), ('sally', '98'), ('jane', 78)])"
      ]
     },
     "execution_count": 58,
     "metadata": {},
     "output_type": "execute_result"
    }
   ],
   "source": [
    "d"
   ]
  },
  {
   "cell_type": "markdown",
   "metadata": {},
   "source": [
    "可以看到OrderedDict内部其实使用了一个tuple的list来存储数据"
   ]
  },
  {
   "cell_type": "markdown",
   "metadata": {},
   "source": [
    "## sorted"
   ]
  },
  {
   "cell_type": "markdown",
   "metadata": {},
   "source": [
    "字典排序"
   ]
  },
  {
   "cell_type": "code",
   "execution_count": 42,
   "metadata": {},
   "outputs": [],
   "source": [
    "b = {'jack': 90, 'mark': 100, 'sally': '98', 'jane': 78}"
   ]
  },
  {
   "cell_type": "code",
   "execution_count": 44,
   "metadata": {},
   "outputs": [
    {
     "data": {
      "text/plain": [
       "['jack', 'jane', 'mark', 'sally']"
      ]
     },
     "execution_count": 44,
     "metadata": {},
     "output_type": "execute_result"
    }
   ],
   "source": [
    "# 默认对字典的key排序\n",
    "sorted(b)"
   ]
  },
  {
   "cell_type": "code",
   "execution_count": 47,
   "metadata": {},
   "outputs": [
    {
     "data": {
      "text/plain": [
       "[('jack', 90), ('jane', 78), ('mark', 100), ('sally', '98')]"
      ]
     },
     "execution_count": 47,
     "metadata": {},
     "output_type": "execute_result"
    }
   ],
   "source": [
    "# 按照字典的key，对字典排序\n",
    "sorted(b.items(), key=lambda x: x[0])"
   ]
  },
  {
   "cell_type": "code",
   "execution_count": 61,
   "metadata": {},
   "outputs": [
    {
     "data": {
      "text/plain": [
       "['jack', 'jane', 'mark', 'sally']"
      ]
     },
     "execution_count": 61,
     "metadata": {},
     "output_type": "execute_result"
    }
   ],
   "source": [
    "sorted(d)"
   ]
  },
  {
   "cell_type": "code",
   "execution_count": 62,
   "metadata": {},
   "outputs": [
    {
     "data": {
      "text/plain": [
       "[('jack', 90), ('jane', 78), ('mark', 100), ('sally', '98')]"
      ]
     },
     "execution_count": 62,
     "metadata": {},
     "output_type": "execute_result"
    }
   ],
   "source": [
    "sorted(d.items())"
   ]
  },
  {
   "cell_type": "markdown",
   "metadata": {},
   "source": [
    "## 迭代器和生成器"
   ]
  },
  {
   "cell_type": "markdown",
   "metadata": {},
   "source": [
    "参考资料\n",
    "+ https://blog.csdn.net/mieleizhi0522/article/details/82142856\n",
    "+ https://luozhaoyu.iteye.com/blog/1513198"
   ]
  },
  {
   "cell_type": "code",
   "execution_count": 7,
   "metadata": {},
   "outputs": [],
   "source": [
    "l = [1, 2, 3]"
   ]
  },
  {
   "cell_type": "code",
   "execution_count": 8,
   "metadata": {},
   "outputs": [],
   "source": [
    "l = iter(l)"
   ]
  },
  {
   "cell_type": "code",
   "execution_count": 9,
   "metadata": {},
   "outputs": [
    {
     "data": {
      "text/plain": [
       "1"
      ]
     },
     "execution_count": 9,
     "metadata": {},
     "output_type": "execute_result"
    }
   ],
   "source": [
    "next(l)"
   ]
  },
  {
   "cell_type": "code",
   "execution_count": 11,
   "metadata": {},
   "outputs": [
    {
     "data": {
      "text/plain": [
       "2"
      ]
     },
     "execution_count": 11,
     "metadata": {},
     "output_type": "execute_result"
    }
   ],
   "source": [
    "next(l)"
   ]
  },
  {
   "cell_type": "code",
   "execution_count": 23,
   "metadata": {},
   "outputs": [
    {
     "data": {
      "text/plain": [
       "<generator object <genexpr> at 0x104642e58>"
      ]
     },
     "execution_count": 23,
     "metadata": {},
     "output_type": "execute_result"
    }
   ],
   "source": [
    "a = (x for x in range(10))\n",
    "a"
   ]
  },
  {
   "cell_type": "code",
   "execution_count": 24,
   "metadata": {},
   "outputs": [
    {
     "data": {
      "text/plain": [
       "0"
      ]
     },
     "execution_count": 24,
     "metadata": {},
     "output_type": "execute_result"
    }
   ],
   "source": [
    "next(a)"
   ]
  },
  {
   "cell_type": "code",
   "execution_count": 25,
   "metadata": {},
   "outputs": [
    {
     "data": {
      "text/plain": [
       "1"
      ]
     },
     "execution_count": 25,
     "metadata": {},
     "output_type": "execute_result"
    }
   ],
   "source": [
    "next(a)"
   ]
  },
  {
   "cell_type": "code",
   "execution_count": 26,
   "metadata": {},
   "outputs": [
    {
     "name": "stdout",
     "output_type": "stream",
     "text": [
      "2\n",
      "3\n",
      "4\n",
      "5\n",
      "6\n",
      "7\n",
      "8\n",
      "9\n"
     ]
    }
   ],
   "source": [
    "for x in a:\n",
    "    print(x)"
   ]
  },
  {
   "cell_type": "markdown",
   "metadata": {},
   "source": [
    "可以看到，由于之前已经调用过两次`next`获取列表中元素的值，所以当执行`for`循环访问a时，此时应该从2开始生成。"
   ]
  },
  {
   "cell_type": "markdown",
   "metadata": {},
   "source": [
    "### yield 生成器"
   ]
  },
  {
   "cell_type": "code",
   "execution_count": 27,
   "metadata": {},
   "outputs": [],
   "source": [
    "def fun(n):\n",
    "    for x in range(n):\n",
    "        yield x        "
   ]
  },
  {
   "cell_type": "code",
   "execution_count": 14,
   "metadata": {},
   "outputs": [
    {
     "data": {
      "text/plain": [
       "<generator object fun at 0x104642de0>"
      ]
     },
     "execution_count": 14,
     "metadata": {},
     "output_type": "execute_result"
    }
   ],
   "source": [
    "fun(2)"
   ]
  },
  {
   "cell_type": "code",
   "execution_count": 28,
   "metadata": {},
   "outputs": [
    {
     "name": "stdout",
     "output_type": "stream",
     "text": [
      "0\n",
      "1\n"
     ]
    }
   ],
   "source": [
    "for x in fun(2):\n",
    "    print(x)"
   ]
  },
  {
   "cell_type": "code",
   "execution_count": 71,
   "metadata": {},
   "outputs": [],
   "source": [
    "def foo():\n",
    "    print('starting...')\n",
    "    while True:\n",
    "        res = yield 4\n",
    "        print('res = ', res)"
   ]
  },
  {
   "cell_type": "code",
   "execution_count": 73,
   "metadata": {},
   "outputs": [
    {
     "data": {
      "text/plain": [
       "<generator object foo at 0x10d71a7c8>"
      ]
     },
     "execution_count": 73,
     "metadata": {},
     "output_type": "execute_result"
    }
   ],
   "source": [
    "g = foo()\n",
    "g"
   ]
  },
  {
   "cell_type": "code",
   "execution_count": 74,
   "metadata": {},
   "outputs": [
    {
     "name": "stdout",
     "output_type": "stream",
     "text": [
      "starting...\n"
     ]
    },
    {
     "data": {
      "text/plain": [
       "4"
      ]
     },
     "execution_count": 74,
     "metadata": {},
     "output_type": "execute_result"
    }
   ],
   "source": [
    "next(g)"
   ]
  },
  {
   "cell_type": "code",
   "execution_count": 75,
   "metadata": {},
   "outputs": [
    {
     "name": "stdout",
     "output_type": "stream",
     "text": [
      "res =  None\n"
     ]
    },
    {
     "data": {
      "text/plain": [
       "4"
      ]
     },
     "execution_count": 75,
     "metadata": {},
     "output_type": "execute_result"
    }
   ],
   "source": [
    "next(g)"
   ]
  },
  {
   "cell_type": "code",
   "execution_count": 76,
   "metadata": {},
   "outputs": [
    {
     "name": "stdout",
     "output_type": "stream",
     "text": [
      "res =  None\n"
     ]
    },
    {
     "data": {
      "text/plain": [
       "4"
      ]
     },
     "execution_count": 76,
     "metadata": {},
     "output_type": "execute_result"
    }
   ],
   "source": [
    "next(g)"
   ]
  },
  {
   "cell_type": "code",
   "execution_count": 77,
   "metadata": {},
   "outputs": [
    {
     "name": "stdout",
     "output_type": "stream",
     "text": [
      "res =  7\n"
     ]
    },
    {
     "data": {
      "text/plain": [
       "4"
      ]
     },
     "execution_count": 77,
     "metadata": {},
     "output_type": "execute_result"
    }
   ],
   "source": [
    "g.send(7)"
   ]
  },
  {
   "cell_type": "code",
   "execution_count": 78,
   "metadata": {},
   "outputs": [
    {
     "name": "stdout",
     "output_type": "stream",
     "text": [
      "res =  None\n"
     ]
    },
    {
     "data": {
      "text/plain": [
       "4"
      ]
     },
     "execution_count": 78,
     "metadata": {},
     "output_type": "execute_result"
    }
   ],
   "source": [
    "next(g)"
   ]
  },
  {
   "cell_type": "code",
   "execution_count": 80,
   "metadata": {},
   "outputs": [
    {
     "name": "stdout",
     "output_type": "stream",
     "text": [
      "res =  10\n"
     ]
    },
    {
     "data": {
      "text/plain": [
       "4"
      ]
     },
     "execution_count": 80,
     "metadata": {},
     "output_type": "execute_result"
    }
   ],
   "source": [
    "g.send(10)"
   ]
  },
  {
   "cell_type": "code",
   "execution_count": 81,
   "metadata": {},
   "outputs": [
    {
     "name": "stdout",
     "output_type": "stream",
     "text": [
      "res =  None\n"
     ]
    },
    {
     "data": {
      "text/plain": [
       "4"
      ]
     },
     "execution_count": 81,
     "metadata": {},
     "output_type": "execute_result"
    }
   ],
   "source": [
    "next(g)"
   ]
  },
  {
   "cell_type": "markdown",
   "metadata": {},
   "source": [
    "+ `foo`函数由于有`yield`语句，所以变成了一个迭代器，因此`g`是一个迭代器。\n",
    "+ 接着，执行`next`函数，迭代器`g`开始执行。当遇到`yield 4`的时候返回4。\n",
    "+ 由于上一步函数在`yield 4`处直接返回，所以这个时候`res`其实是没有值的，即`None`。\n",
    "+ 之后的每一次都是执行到`yield`就直接返回了，所以`res`一直都是`None`\n",
    "+ 然后，使用`send`函数将7传给res，然后接着执行。因此res的值便成为了7.\n",
    "+ 最后，再次调用next从上一次`yield 4`的地方退出。可以看到这个时候res的值还是None，并没有变为7"
   ]
  },
  {
   "cell_type": "markdown",
   "metadata": {},
   "source": [
    "### 类作为可迭代对象"
   ]
  },
  {
   "cell_type": "markdown",
   "metadata": {},
   "source": [
    "要使得类也成为一个可迭代对象，那么必须实现`__iter__`和`__next__`两个函数。\n",
    "+ 首先，`__iter__`函数必须返回一个iterator对象。"
   ]
  },
  {
   "cell_type": "code",
   "execution_count": 116,
   "metadata": {},
   "outputs": [
    {
     "name": "stdout",
     "output_type": "stream",
     "text": [
      "Help on built-in function iter in module builtins:\n",
      "\n",
      "iter(...)\n",
      "    iter(iterable) -> iterator\n",
      "    iter(callable, sentinel) -> iterator\n",
      "    \n",
      "    Get an iterator from an object.  In the first form, the argument must\n",
      "    supply its own iterator, or be a sequence.\n",
      "    In the second form, the callable is called until it returns the sentinel.\n",
      "\n"
     ]
    }
   ],
   "source": [
    "help(iter)"
   ]
  },
  {
   "cell_type": "code",
   "execution_count": 212,
   "metadata": {},
   "outputs": [],
   "source": [
    "class CounterCall(object):\n",
    "    def __init__(self):\n",
    "        self.__counter = 0\n",
    "    \n",
    "    # 实现__call__函数，使其成为`可调用的`，类似重载operator()()\n",
    "    # iter(callable, sentinel) -> iterator\n",
    "    # the callable is called until it returns the sentinel\n",
    "    def __call__(self):\n",
    "        print('invoke __call__')\n",
    "        self.__counter += 1\n",
    "        return self.__counter\n",
    "    \n",
    "    def get_counter(self):\n",
    "        return self.__counter"
   ]
  },
  {
   "cell_type": "code",
   "execution_count": 213,
   "metadata": {},
   "outputs": [
    {
     "data": {
      "text/plain": [
       "0"
      ]
     },
     "execution_count": 213,
     "metadata": {},
     "output_type": "execute_result"
    }
   ],
   "source": [
    "c = CounterCall()\n",
    "c.get_counter()"
   ]
  },
  {
   "cell_type": "code",
   "execution_count": 215,
   "metadata": {},
   "outputs": [
    {
     "name": "stdout",
     "output_type": "stream",
     "text": [
      "invoke __call__\n",
      "**********\n",
      "1\n",
      "----------\n",
      "invoke __call__\n",
      "**********\n",
      "2\n",
      "----------\n",
      "invoke __call__\n",
      "**********\n",
      "3\n",
      "----------\n",
      "invoke __call__\n"
     ]
    }
   ],
   "source": [
    "ci = iter(c, 4)\n",
    "for x in ci:\n",
    "    print('*' * 10)\n",
    "    print(x)\n",
    "    print('-' * 10)"
   ]
  },
  {
   "cell_type": "code",
   "execution_count": 216,
   "metadata": {},
   "outputs": [
    {
     "data": {
      "text/plain": [
       "4"
      ]
     },
     "execution_count": 216,
     "metadata": {},
     "output_type": "execute_result"
    }
   ],
   "source": [
    "c.get_counter()"
   ]
  },
  {
   "cell_type": "code",
   "execution_count": 237,
   "metadata": {},
   "outputs": [],
   "source": [
    "class CounterIter(object):\n",
    "    def __init__(self):\n",
    "        self.__counter = 0\n",
    "    \n",
    "    # iter(iterable) -> iterator\n",
    "    # the argument must supply its own iterator, or be a sequence\n",
    "    def __iter__(self):\n",
    "        print('invoke __iter__')\n",
    "        return self\n",
    "    \n",
    "    # 实现__next__函数，使得可以迭代\n",
    "    def __next__(self):\n",
    "        print('invoke __next__')\n",
    "        if self.__counter >= 5:\n",
    "            raise StopIteration\n",
    "        else :    \n",
    "            self.__counter += 1\n",
    "            return self.__counter\n",
    "    \n",
    "    def get_counter(self):\n",
    "        return self.__counter"
   ]
  },
  {
   "cell_type": "code",
   "execution_count": 238,
   "metadata": {},
   "outputs": [
    {
     "data": {
      "text/plain": [
       "0"
      ]
     },
     "execution_count": 238,
     "metadata": {},
     "output_type": "execute_result"
    }
   ],
   "source": [
    "cc = CounterIter()\n",
    "cc.get_counter()"
   ]
  },
  {
   "cell_type": "code",
   "execution_count": 239,
   "metadata": {},
   "outputs": [
    {
     "name": "stdout",
     "output_type": "stream",
     "text": [
      "invoke __iter__\n",
      "invoke __iter__\n",
      "invoke __next__\n",
      "**********\n",
      "x: 1\n",
      "----------\n",
      "invoke __next__\n",
      "**********\n",
      "x: 2\n",
      "----------\n",
      "invoke __next__\n",
      "**********\n",
      "x: 3\n",
      "----------\n",
      "invoke __next__\n",
      "**********\n",
      "x: 4\n",
      "----------\n",
      "invoke __next__\n",
      "**********\n",
      "x: 5\n",
      "----------\n",
      "invoke __next__\n"
     ]
    }
   ],
   "source": [
    "cci = iter(cc)\n",
    "for x in cci:\n",
    "    print('*' * 10)\n",
    "    print('x:', x)\n",
    "    print('-' * 10)"
   ]
  },
  {
   "cell_type": "markdown",
   "metadata": {},
   "source": [
    "**使用yield的__next__函数**"
   ]
  },
  {
   "cell_type": "code",
   "execution_count": 158,
   "metadata": {},
   "outputs": [],
   "source": [
    "class CounterYield(object):\n",
    "    def __iter__(self):\n",
    "        self.__counter = 1\n",
    "        # 将自己作为迭代器对象返回\n",
    "        return self\n",
    "    \n",
    "    def __next__(self):\n",
    "        while True:\n",
    "            print('before yield')\n",
    "            yield self.__counter\n",
    "            print('after yield')\n",
    "            self.__counter += 1\n",
    "            print('counter add one: ', self.__counter)\n",
    "    \n",
    "    def get_counter(self):\n",
    "        return self.__counter"
   ]
  },
  {
   "cell_type": "code",
   "execution_count": 159,
   "metadata": {},
   "outputs": [],
   "source": [
    "c = CounterYield()\n",
    "c = iter(c)"
   ]
  },
  {
   "cell_type": "code",
   "execution_count": 96,
   "metadata": {},
   "outputs": [
    {
     "data": {
      "text/plain": [
       "<generator object CounterYield.__next__ at 0x10d71a9a8>"
      ]
     },
     "execution_count": 96,
     "metadata": {},
     "output_type": "execute_result"
    }
   ],
   "source": [
    "# 由于c的`__next__`函数中有一个yield函数\n",
    "# 所以调用next(c)得到的是一个生成器\n",
    "next(c)"
   ]
  },
  {
   "cell_type": "code",
   "execution_count": 97,
   "metadata": {},
   "outputs": [
    {
     "name": "stdout",
     "output_type": "stream",
     "text": [
      "1\n",
      "before yield\n"
     ]
    },
    {
     "data": {
      "text/plain": [
       "1"
      ]
     },
     "execution_count": 97,
     "metadata": {},
     "output_type": "execute_result"
    }
   ],
   "source": [
    "print(c.get_counter())\n",
    "# 1. next(c)首先返回一个生成器\n",
    "# 2. 然后外层的next执行__next__函数，遇到yield返回，这时得到了1\n",
    "next(next(c))"
   ]
  },
  {
   "cell_type": "code",
   "execution_count": 98,
   "metadata": {},
   "outputs": [
    {
     "name": "stdout",
     "output_type": "stream",
     "text": [
      "1\n",
      "before yield\n"
     ]
    },
    {
     "data": {
      "text/plain": [
       "1"
      ]
     },
     "execution_count": 98,
     "metadata": {},
     "output_type": "execute_result"
    }
   ],
   "source": [
    "print(c.get_counter())\n",
    "# 接着，next(c)返回另外一个生成器\n",
    "# 外层的next函数又执行__next__函数，这时从头开始执行\n",
    "next(next(c))"
   ]
  },
  {
   "cell_type": "markdown",
   "metadata": {},
   "source": [
    "## 变长函数"
   ]
  },
  {
   "cell_type": "code",
   "execution_count": 106,
   "metadata": {},
   "outputs": [],
   "source": [
    "# *args: 将传入的未指定参数名的参数作为元组处理\n",
    "# **kargs: 将传入的指定参数名的参数（关键字参数）作为字典处理\n",
    "def func(a, *args, **kargs):\n",
    "    print('a = ', a)\n",
    "    print('args = ', args)\n",
    "    print('kargs = ', kargs)"
   ]
  },
  {
   "cell_type": "code",
   "execution_count": 98,
   "metadata": {},
   "outputs": [
    {
     "name": "stdout",
     "output_type": "stream",
     "text": [
      "a =  1\n",
      "args =  ()\n",
      "kargs =  {}\n"
     ]
    }
   ],
   "source": [
    "func(1)"
   ]
  },
  {
   "cell_type": "code",
   "execution_count": 100,
   "metadata": {},
   "outputs": [
    {
     "name": "stdout",
     "output_type": "stream",
     "text": [
      "a =  1\n",
      "args =  (2, 3, 4)\n",
      "kargs =  {}\n"
     ]
    }
   ],
   "source": [
    "func(1, 2, 3, 4)"
   ]
  },
  {
   "cell_type": "code",
   "execution_count": 101,
   "metadata": {},
   "outputs": [
    {
     "name": "stdout",
     "output_type": "stream",
     "text": [
      "a =  1\n",
      "args =  (2, 3)\n",
      "kargs =  {'name': 'test', 'age': 23}\n"
     ]
    }
   ],
   "source": [
    "func(1, 2, 3, name='test', age=23)"
   ]
  },
  {
   "cell_type": "code",
   "execution_count": 108,
   "metadata": {
    "scrolled": true
   },
   "outputs": [
    {
     "ename": "SyntaxError",
     "evalue": "positional argument follows keyword argument (<ipython-input-108-885397e5e4cf>, line 2)",
     "output_type": "error",
     "traceback": [
      "\u001b[0;36m  File \u001b[0;32m\"<ipython-input-108-885397e5e4cf>\"\u001b[0;36m, line \u001b[0;32m2\u001b[0m\n\u001b[0;31m    func(1, 2, name='test', age=23, 3)\u001b[0m\n\u001b[0m                                   ^\u001b[0m\n\u001b[0;31mSyntaxError\u001b[0m\u001b[0;31m:\u001b[0m positional argument follows keyword argument\n"
     ]
    }
   ],
   "source": [
    "# ！！！ 不可以在关键字参数之后再传入位置参数\n",
    "func(1, 2, name='test', age=23, 3)"
   ]
  },
  {
   "cell_type": "code",
   "execution_count": 111,
   "metadata": {},
   "outputs": [
    {
     "ename": "SyntaxError",
     "evalue": "invalid syntax (<ipython-input-111-ca9d42338de6>, line 2)",
     "output_type": "error",
     "traceback": [
      "\u001b[0;36m  File \u001b[0;32m\"<ipython-input-111-ca9d42338de6>\"\u001b[0;36m, line \u001b[0;32m2\u001b[0m\n\u001b[0;31m    def func(a, *args, **kargs, b=5):\u001b[0m\n\u001b[0m                                ^\u001b[0m\n\u001b[0;31mSyntaxError\u001b[0m\u001b[0;31m:\u001b[0m invalid syntax\n"
     ]
    }
   ],
   "source": [
    "# 默认参数不可以写在变长参数后面\n",
    "def func(a, *args, **kargs, b=5):\n",
    "    print('a = ', a)\n",
    "    print('args = ', args)\n",
    "    print('kargs = ', kargs)"
   ]
  },
  {
   "cell_type": "code",
   "execution_count": 112,
   "metadata": {},
   "outputs": [],
   "source": [
    "def func(a, b=5, *args, **kargs):\n",
    "    print('a = ', a)\n",
    "    print('b = ', b)\n",
    "    print('args = ', args)\n",
    "    print('kargs = ', kargs)"
   ]
  },
  {
   "cell_type": "code",
   "execution_count": 113,
   "metadata": {},
   "outputs": [
    {
     "name": "stdout",
     "output_type": "stream",
     "text": [
      "a =  1\n",
      "b =  5\n",
      "args =  ()\n",
      "kargs =  {}\n"
     ]
    }
   ],
   "source": [
    "func(1)"
   ]
  },
  {
   "cell_type": "code",
   "execution_count": 114,
   "metadata": {},
   "outputs": [
    {
     "name": "stdout",
     "output_type": "stream",
     "text": [
      "a =  1\n",
      "b =  2\n",
      "args =  (3,)\n",
      "kargs =  {'name': 'test', 'age': 23}\n"
     ]
    }
   ],
   "source": [
    "func(1, 2, 3, name='test', age=23)"
   ]
  },
  {
   "cell_type": "markdown",
   "metadata": {},
   "source": [
    "## 内置高阶函数"
   ]
  },
  {
   "cell_type": "code",
   "execution_count": 121,
   "metadata": {},
   "outputs": [],
   "source": [
    "l = [9, 0, -2, 5]"
   ]
  },
  {
   "cell_type": "code",
   "execution_count": 122,
   "metadata": {},
   "outputs": [],
   "source": [
    "res = filter(lambda x: x >=0, l)    "
   ]
  },
  {
   "cell_type": "code",
   "execution_count": 123,
   "metadata": {},
   "outputs": [
    {
     "data": {
      "text/plain": [
       "<filter at 0x1054bd8d0>"
      ]
     },
     "execution_count": 123,
     "metadata": {},
     "output_type": "execute_result"
    }
   ],
   "source": [
    "res"
   ]
  },
  {
   "cell_type": "code",
   "execution_count": 124,
   "metadata": {},
   "outputs": [
    {
     "data": {
      "text/plain": [
       "[9, 0, 5]"
      ]
     },
     "execution_count": 124,
     "metadata": {},
     "output_type": "execute_result"
    }
   ],
   "source": [
    "list(res)"
   ]
  },
  {
   "cell_type": "code",
   "execution_count": 125,
   "metadata": {},
   "outputs": [],
   "source": [
    "res = map(lambda x: x * x, l)"
   ]
  },
  {
   "cell_type": "code",
   "execution_count": 126,
   "metadata": {},
   "outputs": [
    {
     "data": {
      "text/plain": [
       "<map at 0x10505ecc0>"
      ]
     },
     "execution_count": 126,
     "metadata": {},
     "output_type": "execute_result"
    }
   ],
   "source": [
    "res"
   ]
  },
  {
   "cell_type": "code",
   "execution_count": 127,
   "metadata": {},
   "outputs": [
    {
     "data": {
      "text/plain": [
       "[81, 0, 4, 25]"
      ]
     },
     "execution_count": 127,
     "metadata": {},
     "output_type": "execute_result"
    }
   ],
   "source": [
    "list(res)"
   ]
  },
  {
   "cell_type": "code",
   "execution_count": 128,
   "metadata": {},
   "outputs": [],
   "source": [
    "from functools import reduce"
   ]
  },
  {
   "cell_type": "code",
   "execution_count": 130,
   "metadata": {},
   "outputs": [],
   "source": [
    "res = reduce(lambda a, b: a + b, l)"
   ]
  },
  {
   "cell_type": "code",
   "execution_count": 131,
   "metadata": {},
   "outputs": [
    {
     "data": {
      "text/plain": [
       "12"
      ]
     },
     "execution_count": 131,
     "metadata": {},
     "output_type": "execute_result"
    }
   ],
   "source": [
    "res"
   ]
  },
  {
   "cell_type": "markdown",
   "metadata": {},
   "source": [
    "## 目录"
   ]
  },
  {
   "cell_type": "code",
   "execution_count": 24,
   "metadata": {},
   "outputs": [],
   "source": [
    "import os"
   ]
  },
  {
   "cell_type": "code",
   "execution_count": 25,
   "metadata": {
    "collapsed": true
   },
   "outputs": [
    {
     "data": {
      "text/plain": [
       "['CLD_CONTINUED',\n",
       " 'CLD_DUMPED',\n",
       " 'CLD_EXITED',\n",
       " 'CLD_TRAPPED',\n",
       " 'DirEntry',\n",
       " 'EX_CANTCREAT',\n",
       " 'EX_CONFIG',\n",
       " 'EX_DATAERR',\n",
       " 'EX_IOERR',\n",
       " 'EX_NOHOST',\n",
       " 'EX_NOINPUT',\n",
       " 'EX_NOPERM',\n",
       " 'EX_NOUSER',\n",
       " 'EX_OK',\n",
       " 'EX_OSERR',\n",
       " 'EX_OSFILE',\n",
       " 'EX_PROTOCOL',\n",
       " 'EX_SOFTWARE',\n",
       " 'EX_TEMPFAIL',\n",
       " 'EX_UNAVAILABLE',\n",
       " 'EX_USAGE',\n",
       " 'F_LOCK',\n",
       " 'F_OK',\n",
       " 'F_TEST',\n",
       " 'F_TLOCK',\n",
       " 'F_ULOCK',\n",
       " 'MutableMapping',\n",
       " 'NGROUPS_MAX',\n",
       " 'O_ACCMODE',\n",
       " 'O_APPEND',\n",
       " 'O_ASYNC',\n",
       " 'O_CLOEXEC',\n",
       " 'O_CREAT',\n",
       " 'O_DIRECTORY',\n",
       " 'O_DSYNC',\n",
       " 'O_EXCL',\n",
       " 'O_EXLOCK',\n",
       " 'O_NDELAY',\n",
       " 'O_NOCTTY',\n",
       " 'O_NOFOLLOW',\n",
       " 'O_NONBLOCK',\n",
       " 'O_RDONLY',\n",
       " 'O_RDWR',\n",
       " 'O_SHLOCK',\n",
       " 'O_SYNC',\n",
       " 'O_TRUNC',\n",
       " 'O_WRONLY',\n",
       " 'PRIO_PGRP',\n",
       " 'PRIO_PROCESS',\n",
       " 'PRIO_USER',\n",
       " 'P_ALL',\n",
       " 'P_NOWAIT',\n",
       " 'P_NOWAITO',\n",
       " 'P_PGID',\n",
       " 'P_PID',\n",
       " 'P_WAIT',\n",
       " 'PathLike',\n",
       " 'RTLD_GLOBAL',\n",
       " 'RTLD_LAZY',\n",
       " 'RTLD_LOCAL',\n",
       " 'RTLD_NODELETE',\n",
       " 'RTLD_NOLOAD',\n",
       " 'RTLD_NOW',\n",
       " 'R_OK',\n",
       " 'SCHED_FIFO',\n",
       " 'SCHED_OTHER',\n",
       " 'SCHED_RR',\n",
       " 'SEEK_CUR',\n",
       " 'SEEK_END',\n",
       " 'SEEK_SET',\n",
       " 'ST_NOSUID',\n",
       " 'ST_RDONLY',\n",
       " 'TMP_MAX',\n",
       " 'WCONTINUED',\n",
       " 'WCOREDUMP',\n",
       " 'WEXITED',\n",
       " 'WEXITSTATUS',\n",
       " 'WIFCONTINUED',\n",
       " 'WIFEXITED',\n",
       " 'WIFSIGNALED',\n",
       " 'WIFSTOPPED',\n",
       " 'WNOHANG',\n",
       " 'WNOWAIT',\n",
       " 'WSTOPPED',\n",
       " 'WSTOPSIG',\n",
       " 'WTERMSIG',\n",
       " 'WUNTRACED',\n",
       " 'W_OK',\n",
       " 'X_OK',\n",
       " '_Environ',\n",
       " '__all__',\n",
       " '__builtins__',\n",
       " '__cached__',\n",
       " '__doc__',\n",
       " '__file__',\n",
       " '__loader__',\n",
       " '__name__',\n",
       " '__package__',\n",
       " '__spec__',\n",
       " '_execvpe',\n",
       " '_exists',\n",
       " '_exit',\n",
       " '_fspath',\n",
       " '_get_exports_list',\n",
       " '_putenv',\n",
       " '_spawnvef',\n",
       " '_unsetenv',\n",
       " '_wrap_close',\n",
       " 'abc',\n",
       " 'abort',\n",
       " 'access',\n",
       " 'altsep',\n",
       " 'chdir',\n",
       " 'chflags',\n",
       " 'chmod',\n",
       " 'chown',\n",
       " 'chroot',\n",
       " 'close',\n",
       " 'closerange',\n",
       " 'confstr',\n",
       " 'confstr_names',\n",
       " 'cpu_count',\n",
       " 'ctermid',\n",
       " 'curdir',\n",
       " 'defpath',\n",
       " 'device_encoding',\n",
       " 'devnull',\n",
       " 'dup',\n",
       " 'dup2',\n",
       " 'environ',\n",
       " 'environb',\n",
       " 'error',\n",
       " 'execl',\n",
       " 'execle',\n",
       " 'execlp',\n",
       " 'execlpe',\n",
       " 'execv',\n",
       " 'execve',\n",
       " 'execvp',\n",
       " 'execvpe',\n",
       " 'extsep',\n",
       " 'fchdir',\n",
       " 'fchmod',\n",
       " 'fchown',\n",
       " 'fdopen',\n",
       " 'fork',\n",
       " 'forkpty',\n",
       " 'fpathconf',\n",
       " 'fsdecode',\n",
       " 'fsencode',\n",
       " 'fspath',\n",
       " 'fstat',\n",
       " 'fstatvfs',\n",
       " 'fsync',\n",
       " 'ftruncate',\n",
       " 'get_blocking',\n",
       " 'get_exec_path',\n",
       " 'get_inheritable',\n",
       " 'get_terminal_size',\n",
       " 'getcwd',\n",
       " 'getcwdb',\n",
       " 'getegid',\n",
       " 'getenv',\n",
       " 'getenvb',\n",
       " 'geteuid',\n",
       " 'getgid',\n",
       " 'getgrouplist',\n",
       " 'getgroups',\n",
       " 'getloadavg',\n",
       " 'getlogin',\n",
       " 'getpgid',\n",
       " 'getpgrp',\n",
       " 'getpid',\n",
       " 'getppid',\n",
       " 'getpriority',\n",
       " 'getsid',\n",
       " 'getuid',\n",
       " 'initgroups',\n",
       " 'isatty',\n",
       " 'kill',\n",
       " 'killpg',\n",
       " 'lchflags',\n",
       " 'lchmod',\n",
       " 'lchown',\n",
       " 'linesep',\n",
       " 'link',\n",
       " 'listdir',\n",
       " 'lockf',\n",
       " 'lseek',\n",
       " 'lstat',\n",
       " 'major',\n",
       " 'makedev',\n",
       " 'makedirs',\n",
       " 'minor',\n",
       " 'mkdir',\n",
       " 'mkfifo',\n",
       " 'mknod',\n",
       " 'name',\n",
       " 'nice',\n",
       " 'open',\n",
       " 'openpty',\n",
       " 'pardir',\n",
       " 'path',\n",
       " 'pathconf',\n",
       " 'pathconf_names',\n",
       " 'pathsep',\n",
       " 'pipe',\n",
       " 'popen',\n",
       " 'pread',\n",
       " 'putenv',\n",
       " 'pwrite',\n",
       " 'read',\n",
       " 'readlink',\n",
       " 'readv',\n",
       " 'register_at_fork',\n",
       " 'remove',\n",
       " 'removedirs',\n",
       " 'rename',\n",
       " 'renames',\n",
       " 'replace',\n",
       " 'rmdir',\n",
       " 'scandir',\n",
       " 'sched_get_priority_max',\n",
       " 'sched_get_priority_min',\n",
       " 'sched_yield',\n",
       " 'sendfile',\n",
       " 'sep',\n",
       " 'set_blocking',\n",
       " 'set_inheritable',\n",
       " 'setegid',\n",
       " 'seteuid',\n",
       " 'setgid',\n",
       " 'setgroups',\n",
       " 'setpgid',\n",
       " 'setpgrp',\n",
       " 'setpriority',\n",
       " 'setregid',\n",
       " 'setreuid',\n",
       " 'setsid',\n",
       " 'setuid',\n",
       " 'spawnl',\n",
       " 'spawnle',\n",
       " 'spawnlp',\n",
       " 'spawnlpe',\n",
       " 'spawnv',\n",
       " 'spawnve',\n",
       " 'spawnvp',\n",
       " 'spawnvpe',\n",
       " 'st',\n",
       " 'stat',\n",
       " 'stat_result',\n",
       " 'statvfs',\n",
       " 'statvfs_result',\n",
       " 'strerror',\n",
       " 'supports_bytes_environ',\n",
       " 'supports_dir_fd',\n",
       " 'supports_effective_ids',\n",
       " 'supports_fd',\n",
       " 'supports_follow_symlinks',\n",
       " 'symlink',\n",
       " 'sync',\n",
       " 'sys',\n",
       " 'sysconf',\n",
       " 'sysconf_names',\n",
       " 'system',\n",
       " 'tcgetpgrp',\n",
       " 'tcsetpgrp',\n",
       " 'terminal_size',\n",
       " 'times',\n",
       " 'times_result',\n",
       " 'truncate',\n",
       " 'ttyname',\n",
       " 'umask',\n",
       " 'uname',\n",
       " 'uname_result',\n",
       " 'unlink',\n",
       " 'unsetenv',\n",
       " 'urandom',\n",
       " 'utime',\n",
       " 'wait',\n",
       " 'wait3',\n",
       " 'wait4',\n",
       " 'waitpid',\n",
       " 'walk',\n",
       " 'write',\n",
       " 'writev']"
      ]
     },
     "execution_count": 25,
     "metadata": {},
     "output_type": "execute_result"
    }
   ],
   "source": [
    "dir(os)"
   ]
  },
  {
   "cell_type": "code",
   "execution_count": 60,
   "metadata": {},
   "outputs": [],
   "source": [
    "path = '/Users/yangqj/Documents/Documents/知识就是力量/OnlineCourse/MachineLearningCamp/Prepare'"
   ]
  },
  {
   "cell_type": "code",
   "execution_count": 61,
   "metadata": {},
   "outputs": [
    {
     "data": {
      "text/plain": [
       "['.DS_Store', '.ipynb_checkpoints', 'Probability.ipynb', 'data']"
      ]
     },
     "execution_count": 61,
     "metadata": {},
     "output_type": "execute_result"
    }
   ],
   "source": [
    "os.listdir(path)"
   ]
  },
  {
   "cell_type": "code",
   "execution_count": 63,
   "metadata": {},
   "outputs": [
    {
     "data": {
      "text/plain": [
       "['.DS_Store', 'Probability.ipynb']"
      ]
     },
     "execution_count": 63,
     "metadata": {},
     "output_type": "execute_result"
    }
   ],
   "source": [
    "files = [f for f in os.listdir(path) if os.path.isfile(os.path.join(path, f))]\n",
    "files"
   ]
  },
  {
   "cell_type": "code",
   "execution_count": 64,
   "metadata": {},
   "outputs": [
    {
     "data": {
      "text/plain": [
       "['.ipynb_checkpoints', 'data']"
      ]
     },
     "execution_count": 64,
     "metadata": {},
     "output_type": "execute_result"
    }
   ],
   "source": [
    "dirs = [d for d in os.listdir(path) if os.path.isdir(os.path.join(path, d))]\n",
    "dirs"
   ]
  },
  {
   "cell_type": "code",
   "execution_count": 54,
   "metadata": {
    "collapsed": true
   },
   "outputs": [
    {
     "name": "stdout",
     "output_type": "stream",
     "text": [
      "/Users/yangqj/Documents/Documents/知识就是力量/OnlineCourse/MachineLearningCamp/Prepare/ ['.ipynb_checkpoints', 'data'] ['.DS_Store', 'Probability.ipynb']\n",
      "/Users/yangqj/Documents/Documents/知识就是力量/OnlineCourse/MachineLearningCamp/Prepare/.ipynb_checkpoints [] ['Probability-checkpoint.ipynb']\n",
      "/Users/yangqj/Documents/Documents/知识就是力量/OnlineCourse/MachineLearningCamp/Prepare/data ['ml-statistics-quartile'] ['.DS_Store', 'ml-statistics-quartile.zip']\n",
      "/Users/yangqj/Documents/Documents/知识就是力量/OnlineCourse/MachineLearningCamp/Prepare/data/ml-statistics-quartile ['.ipynb_checkpoints', '.git', 'data'] ['.DS_Store', '作业：历届世界杯主客场得分箱线图分析.ipynb']\n",
      "/Users/yangqj/Documents/Documents/知识就是力量/OnlineCourse/MachineLearningCamp/Prepare/data/ml-statistics-quartile/.ipynb_checkpoints [] ['作业：历届世界杯主客场得分箱线图分析-checkpoint.ipynb']\n",
      "/Users/yangqj/Documents/Documents/知识就是力量/OnlineCourse/MachineLearningCamp/Prepare/data/ml-statistics-quartile/.git ['objects', 'info', 'logs', 'hooks', 'refs'] ['.DS_Store', 'ORIG_HEAD', 'config', 'HEAD', 'description', 'index', 'COMMIT_EDITMSG', 'FETCH_HEAD']\n",
      "/Users/yangqj/Documents/Documents/知识就是力量/OnlineCourse/MachineLearningCamp/Prepare/data/ml-statistics-quartile/.git/objects ['95', '59', '66', 'be', 'd6', 'fb', '18', 'pack', 'info', '3a', '5e', '39', '52', 'b8', 'd2', 'de', 'cd', 'e9', '1e'] []\n",
      "/Users/yangqj/Documents/Documents/知识就是力量/OnlineCourse/MachineLearningCamp/Prepare/data/ml-statistics-quartile/.git/objects/95 [] ['9c1cc8ac8019205fdee414a53732e1dc278f37']\n",
      "/Users/yangqj/Documents/Documents/知识就是力量/OnlineCourse/MachineLearningCamp/Prepare/data/ml-statistics-quartile/.git/objects/59 [] ['73ac8622bb04e842247d3f0bb667734b5403f8']\n",
      "/Users/yangqj/Documents/Documents/知识就是力量/OnlineCourse/MachineLearningCamp/Prepare/data/ml-statistics-quartile/.git/objects/66 [] ['b2942a83dac64a8ad73bb53b441b0e4f98c970']\n",
      "/Users/yangqj/Documents/Documents/知识就是力量/OnlineCourse/MachineLearningCamp/Prepare/data/ml-statistics-quartile/.git/objects/be [] ['9de4a7c439bbe8ee303ac15b5610e74175143e']\n",
      "/Users/yangqj/Documents/Documents/知识就是力量/OnlineCourse/MachineLearningCamp/Prepare/data/ml-statistics-quartile/.git/objects/d6 [] ['ecc16c5d8c3d3e107f2b352133dd505b144f96']\n",
      "/Users/yangqj/Documents/Documents/知识就是力量/OnlineCourse/MachineLearningCamp/Prepare/data/ml-statistics-quartile/.git/objects/fb [] ['adb899491790ac0530b73de270e09480e4b643']\n",
      "/Users/yangqj/Documents/Documents/知识就是力量/OnlineCourse/MachineLearningCamp/Prepare/data/ml-statistics-quartile/.git/objects/18 [] ['220084fcddff52e5550eec8d0d1e46eb605049']\n",
      "/Users/yangqj/Documents/Documents/知识就是力量/OnlineCourse/MachineLearningCamp/Prepare/data/ml-statistics-quartile/.git/objects/pack [] []\n",
      "/Users/yangqj/Documents/Documents/知识就是力量/OnlineCourse/MachineLearningCamp/Prepare/data/ml-statistics-quartile/.git/objects/info [] []\n",
      "/Users/yangqj/Documents/Documents/知识就是力量/OnlineCourse/MachineLearningCamp/Prepare/data/ml-statistics-quartile/.git/objects/3a [] ['d9d72633c4dc2dc81703a1f8e9fad8c8f60c0b']\n",
      "/Users/yangqj/Documents/Documents/知识就是力量/OnlineCourse/MachineLearningCamp/Prepare/data/ml-statistics-quartile/.git/objects/5e [] ['3c0833222262b01bd7d923b80938d11c7ef49b']\n",
      "/Users/yangqj/Documents/Documents/知识就是力量/OnlineCourse/MachineLearningCamp/Prepare/data/ml-statistics-quartile/.git/objects/39 [] ['382e2d52468dadeb9ce2a98d879a82d2385aec']\n",
      "/Users/yangqj/Documents/Documents/知识就是力量/OnlineCourse/MachineLearningCamp/Prepare/data/ml-statistics-quartile/.git/objects/52 [] ['411f322721bbd6561025fbdaa7f633dd184272']\n",
      "/Users/yangqj/Documents/Documents/知识就是力量/OnlineCourse/MachineLearningCamp/Prepare/data/ml-statistics-quartile/.git/objects/b8 [] ['f83ccc33eb1d032d26021520239a4aa208fa16']\n",
      "/Users/yangqj/Documents/Documents/知识就是力量/OnlineCourse/MachineLearningCamp/Prepare/data/ml-statistics-quartile/.git/objects/d2 [] ['ec842640346d1e3059f2825711ca721ca9b91f']\n",
      "/Users/yangqj/Documents/Documents/知识就是力量/OnlineCourse/MachineLearningCamp/Prepare/data/ml-statistics-quartile/.git/objects/de [] ['08416240605dbe2e6d69e8c09729bd38831571']\n",
      "/Users/yangqj/Documents/Documents/知识就是力量/OnlineCourse/MachineLearningCamp/Prepare/data/ml-statistics-quartile/.git/objects/cd [] ['dd7c4dc31382214cd24b272cad31bf17adbc4e']\n",
      "/Users/yangqj/Documents/Documents/知识就是力量/OnlineCourse/MachineLearningCamp/Prepare/data/ml-statistics-quartile/.git/objects/e9 [] ['95f7ac619c6625b430a2650731002ccc56faf8']\n",
      "/Users/yangqj/Documents/Documents/知识就是力量/OnlineCourse/MachineLearningCamp/Prepare/data/ml-statistics-quartile/.git/objects/1e [] ['dab71961e067fda56ec80da1aec1c1bef5987a']\n",
      "/Users/yangqj/Documents/Documents/知识就是力量/OnlineCourse/MachineLearningCamp/Prepare/data/ml-statistics-quartile/.git/info [] ['exclude']\n",
      "/Users/yangqj/Documents/Documents/知识就是力量/OnlineCourse/MachineLearningCamp/Prepare/data/ml-statistics-quartile/.git/logs ['refs'] ['HEAD']\n",
      "/Users/yangqj/Documents/Documents/知识就是力量/OnlineCourse/MachineLearningCamp/Prepare/data/ml-statistics-quartile/.git/logs/refs ['heads', 'remotes'] []\n",
      "/Users/yangqj/Documents/Documents/知识就是力量/OnlineCourse/MachineLearningCamp/Prepare/data/ml-statistics-quartile/.git/logs/refs/heads [] ['master']\n",
      "/Users/yangqj/Documents/Documents/知识就是力量/OnlineCourse/MachineLearningCamp/Prepare/data/ml-statistics-quartile/.git/logs/refs/remotes ['origin'] []\n",
      "/Users/yangqj/Documents/Documents/知识就是力量/OnlineCourse/MachineLearningCamp/Prepare/data/ml-statistics-quartile/.git/logs/refs/remotes/origin [] ['master']\n",
      "/Users/yangqj/Documents/Documents/知识就是力量/OnlineCourse/MachineLearningCamp/Prepare/data/ml-statistics-quartile/.git/hooks [] ['commit-msg.sample', 'pre-rebase.sample', 'pre-commit.sample', 'applypatch-msg.sample', 'pre-receive.sample', 'prepare-commit-msg.sample', 'post-update.sample', 'pre-applypatch.sample', 'pre-push.sample', 'update.sample']\n",
      "/Users/yangqj/Documents/Documents/知识就是力量/OnlineCourse/MachineLearningCamp/Prepare/data/ml-statistics-quartile/.git/refs ['heads', 'tags', 'remotes'] []\n",
      "/Users/yangqj/Documents/Documents/知识就是力量/OnlineCourse/MachineLearningCamp/Prepare/data/ml-statistics-quartile/.git/refs/heads [] ['master']\n",
      "/Users/yangqj/Documents/Documents/知识就是力量/OnlineCourse/MachineLearningCamp/Prepare/data/ml-statistics-quartile/.git/refs/tags [] []\n",
      "/Users/yangqj/Documents/Documents/知识就是力量/OnlineCourse/MachineLearningCamp/Prepare/data/ml-statistics-quartile/.git/refs/remotes ['origin'] []\n",
      "/Users/yangqj/Documents/Documents/知识就是力量/OnlineCourse/MachineLearningCamp/Prepare/data/ml-statistics-quartile/.git/refs/remotes/origin [] ['master']\n",
      "/Users/yangqj/Documents/Documents/知识就是力量/OnlineCourse/MachineLearningCamp/Prepare/data/ml-statistics-quartile/data [] ['.DS_Store', 'WorldCupMatches.csv']\n"
     ]
    }
   ],
   "source": [
    "for dirpath, dirnames, filenames in os.walk(path):\n",
    "    print(dirpath, dirnames, filenames)"
   ]
  },
  {
   "cell_type": "code",
   "execution_count": 65,
   "metadata": {},
   "outputs": [
    {
     "data": {
      "text/plain": [
       "'/Users/yangqj/Documents/Documents/知识就是力量/OnlineCourse/MachineLearningCamp/Notes'"
      ]
     },
     "execution_count": 65,
     "metadata": {},
     "output_type": "execute_result"
    }
   ],
   "source": [
    "os.getcwd()"
   ]
  },
  {
   "cell_type": "code",
   "execution_count": 66,
   "metadata": {},
   "outputs": [
    {
     "data": {
      "text/plain": [
       "'/Users/yangqj/Documents/Documents/知识就是力量/OnlineCourse/MachineLearningCamp/Notes'"
      ]
     },
     "execution_count": 66,
     "metadata": {},
     "output_type": "execute_result"
    }
   ],
   "source": [
    "os.path.abspath('.')"
   ]
  },
  {
   "cell_type": "code",
   "execution_count": 67,
   "metadata": {},
   "outputs": [
    {
     "data": {
      "text/plain": [
       "('/Users/yangqj/Documents/Documents/知识就是力量/OnlineCourse/MachineLearningCamp',\n",
       " 'Prepare')"
      ]
     },
     "execution_count": 67,
     "metadata": {},
     "output_type": "execute_result"
    }
   ],
   "source": [
    "os.path.split(path)"
   ]
  },
  {
   "cell_type": "code",
   "execution_count": 68,
   "metadata": {},
   "outputs": [
    {
     "data": {
      "text/plain": [
       "('Python基础', '.ipynb')"
      ]
     },
     "execution_count": 68,
     "metadata": {},
     "output_type": "execute_result"
    }
   ],
   "source": [
    "os.path.splitext('Python基础.ipynb')"
   ]
  },
  {
   "cell_type": "markdown",
   "metadata": {},
   "source": [
    "## 正则表达式"
   ]
  },
  {
   "cell_type": "markdown",
   "metadata": {},
   "source": [
    "菜鸟教程: [ttps://www.runoob.com/regexp/regexp-metachar.html](https://www.runoob.com/regexp/regexp-metachar.html)\n",
    "\n",
    "练习网站: [https://regexr.com/](https://regexr.com/)"
   ]
  },
  {
   "cell_type": "code",
   "execution_count": 3,
   "metadata": {},
   "outputs": [],
   "source": [
    "import re"
   ]
  },
  {
   "cell_type": "code",
   "execution_count": 6,
   "metadata": {},
   "outputs": [],
   "source": [
    "text = \"industry industries industr123\""
   ]
  },
  {
   "cell_type": "code",
   "execution_count": 7,
   "metadata": {},
   "outputs": [
    {
     "data": {
      "text/plain": [
       "['industry', 'industries']"
      ]
     },
     "execution_count": 7,
     "metadata": {},
     "output_type": "execute_result"
    }
   ],
   "source": [
    "re.findall(r\"industr(?:y|ies)\", text)"
   ]
  },
  {
   "cell_type": "code",
   "execution_count": 10,
   "metadata": {},
   "outputs": [
    {
     "data": {
      "text/plain": [
       "['industr', 'industr']"
      ]
     },
     "execution_count": 10,
     "metadata": {},
     "output_type": "execute_result"
    }
   ],
   "source": [
    "# 匹配industry industries中的industr\n",
    "re.findall(r\"industr(?=y|ies)\", text)"
   ]
  },
  {
   "cell_type": "code",
   "execution_count": 11,
   "metadata": {},
   "outputs": [
    {
     "data": {
      "text/plain": [
       "['industr']"
      ]
     },
     "execution_count": 11,
     "metadata": {},
     "output_type": "execute_result"
    }
   ],
   "source": [
    "# 匹配industr123中的industr\n",
    "re.findall(r\"industr(?!y|ies)\", text)"
   ]
  },
  {
   "cell_type": "code",
   "execution_count": 15,
   "metadata": {},
   "outputs": [
    {
     "data": {
      "text/plain": [
       "['y', 'ies']"
      ]
     },
     "execution_count": 15,
     "metadata": {},
     "output_type": "execute_result"
    }
   ],
   "source": [
    "# 匹配industry industries中的industr\n",
    "# 返回其后的字符串\n",
    "re.findall(r\"(?<=industr)y|ies\", text)"
   ]
  },
  {
   "cell_type": "code",
   "execution_count": 23,
   "metadata": {},
   "outputs": [
    {
     "data": {
      "text/plain": [
       "['industries']"
      ]
     },
     "execution_count": 23,
     "metadata": {},
     "output_type": "execute_result"
    }
   ],
   "source": [
    "# 匹配两个字符串之间的字符串\n",
    "re.findall(r\"(?<=industry )[\\w]+(?= industr123)\", text)"
   ]
  },
  {
   "cell_type": "markdown",
   "metadata": {},
   "source": [
    "## cheatsheet"
   ]
  },
  {
   "cell_type": "markdown",
   "metadata": {},
   "source": [
    "https://www.pythonsheets.com/"
   ]
  },
  {
   "cell_type": "markdown",
   "metadata": {},
   "source": [
    "https://perso.limsi.fr/pointal/_media/python:cours:mementopython3-english.pdf"
   ]
  },
  {
   "cell_type": "code",
   "execution_count": null,
   "metadata": {},
   "outputs": [],
   "source": []
  }
 ],
 "metadata": {
  "kernelspec": {
   "display_name": "Python 3",
   "language": "python",
   "name": "python3"
  },
  "language_info": {
   "codemirror_mode": {
    "name": "ipython",
    "version": 3
   },
   "file_extension": ".py",
   "mimetype": "text/x-python",
   "name": "python",
   "nbconvert_exporter": "python",
   "pygments_lexer": "ipython3",
   "version": "3.7.1"
  },
  "toc": {
   "base_numbering": 1,
   "nav_menu": {},
   "number_sections": true,
   "sideBar": true,
   "skip_h1_title": false,
   "title_cell": "Table of Contents",
   "title_sidebar": "Contents",
   "toc_cell": true,
   "toc_position": {},
   "toc_section_display": true,
   "toc_window_display": true
  }
 },
 "nbformat": 4,
 "nbformat_minor": 2
}

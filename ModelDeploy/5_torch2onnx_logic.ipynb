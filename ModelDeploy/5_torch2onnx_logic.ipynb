{
 "cells": [
  {
   "cell_type": "markdown",
   "id": "b17bc1fb",
   "metadata": {
    "toc": true
   },
   "source": [
    "<h1>Table of Contents<span class=\"tocSkip\"></span></h1>\n",
    "<div class=\"toc\"><ul class=\"toc-item\"></ul></div>"
   ]
  },
  {
   "cell_type": "markdown",
   "id": "d0bcbef7",
   "metadata": {},
   "source": [
    "在前几篇中，我们了解了torch如何通过trace或者script两种方式将nn.Module转换为nn.ScriptModel，并且通过代码示例解释了两者之间的区别。此外，还简单说明了onnx算子和如何使用torch.onnx.export将nn.Module转换为onnx算子，并且通过onnxruntime运行模型。在这一篇我们将补全ScriptModel到onnx算子的线，即学习ScriptModel中的aten算子如何映射到onnx算子上。"
   ]
  },
  {
   "cell_type": "code",
   "execution_count": null,
   "id": "fc273dbd",
   "metadata": {},
   "outputs": [],
   "source": []
  }
 ],
 "metadata": {
  "kernelspec": {
   "display_name": "Python 3 (ipykernel)",
   "language": "python",
   "name": "python3"
  },
  "language_info": {
   "codemirror_mode": {
    "name": "ipython",
    "version": 3
   },
   "file_extension": ".py",
   "mimetype": "text/x-python",
   "name": "python",
   "nbconvert_exporter": "python",
   "pygments_lexer": "ipython3",
   "version": "3.7.2"
  },
  "toc": {
   "base_numbering": 1,
   "nav_menu": {},
   "number_sections": true,
   "sideBar": true,
   "skip_h1_title": false,
   "title_cell": "Table of Contents",
   "title_sidebar": "Contents",
   "toc_cell": true,
   "toc_position": {},
   "toc_section_display": true,
   "toc_window_display": false
  }
 },
 "nbformat": 4,
 "nbformat_minor": 5
}

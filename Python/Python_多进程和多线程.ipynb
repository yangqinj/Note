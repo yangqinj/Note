{
 "cells": [
  {
   "cell_type": "markdown",
   "metadata": {},
   "source": [
    "## 多进程"
   ]
  },
  {
   "cell_type": "markdown",
   "metadata": {},
   "source": [
    "### Fork"
   ]
  },
  {
   "cell_type": "markdown",
   "metadata": {},
   "source": [
    "Linux系统中使用fork()函数复制父进程，fork()函数返回两次。一次是父进程，一次是子进程。子进程进程永远返回0，其通过getppid()得到父进程的进程号。"
   ]
  },
  {
   "cell_type": "code",
   "execution_count": 1,
   "metadata": {},
   "outputs": [],
   "source": [
    "import os"
   ]
  },
  {
   "cell_type": "code",
   "execution_count": 2,
   "metadata": {},
   "outputs": [
    {
     "name": "stdout",
     "output_type": "stream",
     "text": [
      "start process 2540\n"
     ]
    }
   ],
   "source": [
    "print(\"start process {}\".format(os.getpid()))"
   ]
  },
  {
   "cell_type": "code",
   "execution_count": 3,
   "metadata": {},
   "outputs": [
    {
     "name": "stdout",
     "output_type": "stream",
     "text": [
      "I 2540 start a child process 2689\n",
      "I am child process 2689 of father process 2540\n",
      "ERROR! Session/line number was not unique in database. History logging moved to new session 199\n"
     ]
    }
   ],
   "source": [
    "pid = os.fork()\n",
    "if pid == 0:\n",
    "    print(\"I am child process {} of father process {}\".format(os.getpid(), os.getppid()))\n",
    "else:\n",
    "    print(\"I {} start a child process {}\".format(os.getpid(), pid))"
   ]
  },
  {
   "cell_type": "markdown",
   "metadata": {},
   "source": [
    "### multiprocessing"
   ]
  },
  {
   "cell_type": "code",
   "execution_count": 6,
   "metadata": {},
   "outputs": [],
   "source": [
    "from multiprocessing import Process"
   ]
  },
  {
   "cell_type": "code",
   "execution_count": 5,
   "metadata": {},
   "outputs": [],
   "source": [
    "def run_func(name):\n",
    "    print(\"Process {} run_func({})\".format(os.getpid(), name))"
   ]
  },
  {
   "cell_type": "code",
   "execution_count": 20,
   "metadata": {},
   "outputs": [
    {
     "name": "stdout",
     "output_type": "stream",
     "text": [
      "Parent process 2540\n",
      "Child process start...\n",
      "Process 3211 run_func(test)\n",
      "Child process end\n"
     ]
    }
   ],
   "source": [
    "print(\"Parent process {}\".format(os.getpid()))\n",
    "# args=('test',)  => 只有一个元素的元组\n",
    "# args=('test')   => args是一个字符串，值为'test'\n",
    "p = Process(target=run_func, args=('test',))\n",
    "print(\"Child process start...\")\n",
    "p.start()\n",
    "p.join()\n",
    "print(\"Child process end\")"
   ]
  },
  {
   "cell_type": "markdown",
   "metadata": {},
   "source": [
    "### 进程池"
   ]
  },
  {
   "cell_type": "code",
   "execution_count": 15,
   "metadata": {},
   "outputs": [
    {
     "name": "stdout",
     "output_type": "stream",
     "text": [
      "from multiprocessing import Pool\r\n",
      "import os, time, random\r\n",
      "\r\n",
      "NUM_PROCESSINGS = 3\r\n",
      "\r\n",
      "def task(name):\r\n",
      "\tstart = time.time()\r\n",
      "\tprint(\"Child process {} run task {}\".format(os.getpid(), name))\r\n",
      "\ttime.sleep(random.random() * 3)\r\n",
      "\tend = time.time()\r\n",
      "\tprint(\"Child process {} run task {} for {:.6f} second\".format(os.getpid(), name, (end-start)))\r\n",
      "\r\n",
      "if __name__ == '__main__':\r\n",
      "\tprint(\"Parent process {}\".format(os.getpid()))\r\n",
      "\r\n",
      "\t# 每次最多运行NUM_PROCESSINGS个进程\r\n",
      "\tpool = Pool(NUM_PROCESSINGS)\r\n",
      "\tfor x in range(NUM_PROCESSINGS+1):\r\n",
      "\t\tpool.apply_async(task, args=(x,))\r\n",
      "\tprint(\"Waiting all subprocessings finish...\")\r\n",
      "\tpool.close()\r\n",
      "\tpool.join()\r\n",
      "\tprint(\"All subprocessings finished.\")\r\n"
     ]
    }
   ],
   "source": [
    "! cat process_pool.py"
   ]
  },
  {
   "cell_type": "markdown",
   "metadata": {},
   "source": [
    "### 子进程"
   ]
  },
  {
   "cell_type": "markdown",
   "metadata": {},
   "source": [
    "创建一个外部子进程，并且控制其输入和输出。 在jupyter notebook中无法看到命令的输出结果，但是执行.py文件可以在终端看到命令的输出结果。"
   ]
  },
  {
   "cell_type": "code",
   "execution_count": 11,
   "metadata": {},
   "outputs": [
    {
     "name": "stdout",
     "output_type": "stream",
     "text": [
      "$ date\n",
      "Exit code: 0\n"
     ]
    }
   ],
   "source": [
    "print('$ date')\n",
    "r = subprocess.call('date')\n",
    "print('Exit code:', r)"
   ]
  },
  {
   "cell_type": "code",
   "execution_count": 16,
   "metadata": {},
   "outputs": [
    {
     "name": "stdout",
     "output_type": "stream",
     "text": [
      "import subprocess\r\n",
      "\r\n",
      "print('$ date')\r\n",
      "r = subprocess.call(['date'])\r\n",
      "print('Exit code:', r)\r\n",
      "\r\n",
      "\r\n",
      "\r\n",
      "## 子进程需要输入，可以使用communicate方法\r\n",
      "print('$ nslookup')\r\n",
      "# 首先输入: nsloopup命令\r\n",
      "p = subprocess.Popen(['nslookup'], stdin=subprocess.PIPE, stdout=subprocess.PIPE, stderr=subprocess.PIPE)\r\n",
      "# 然后依次每行输入：\r\n",
      "# set q=mx\r\n",
      "# python.org\r\n",
      "# exit\r\n",
      "output, error = p.communicate(b'set q=mx\\npython.org\\nexit\\n')\r\n",
      "print(output.decode('utf-8'))\r\n",
      "print(\"Exit code {}\".format(p.returncode))\r\n"
     ]
    }
   ],
   "source": [
    "! cat sub_process.py"
   ]
  },
  {
   "cell_type": "markdown",
   "metadata": {},
   "source": [
    "### 进程间通信"
   ]
  },
  {
   "cell_type": "markdown",
   "metadata": {},
   "source": [
    "## 线程"
   ]
  },
  {
   "cell_type": "code",
   "execution_count": 19,
   "metadata": {},
   "outputs": [],
   "source": [
    "import threading"
   ]
  },
  {
   "cell_type": "code",
   "execution_count": 22,
   "metadata": {},
   "outputs": [],
   "source": [
    "def task(name):\n",
    "    print(\"Thread {} is running...\".format(threading.current_thread().name))\n",
    "    for x in range(3):\n",
    "        print(\"loop {}: {}\".format(x, name))\n",
    "    print(\"Thread {} finished.\".format(threading.current_thread().name))"
   ]
  },
  {
   "cell_type": "code",
   "execution_count": 23,
   "metadata": {},
   "outputs": [
    {
     "name": "stdout",
     "output_type": "stream",
     "text": [
      "Thread MainThread is running\n",
      "Thread SubThread is running...\n",
      "loop 0: test\n",
      "loop 1: test\n",
      "loop 2: test\n",
      "Thread SubThread finished.\n",
      "Thread MainThread is finish\n"
     ]
    }
   ],
   "source": [
    "print(\"Thread {} is running\".format(threading.current_thread().name))\n",
    "t = threading.Thread(target=task, args=('test',), name='SubThread')\n",
    "t.start()\n",
    "t.join()\n",
    "print(\"Thread {} is finish\".format(threading.current_thread().name))"
   ]
  },
  {
   "cell_type": "markdown",
   "metadata": {},
   "source": [
    "多线程修改全局变量可能带来数据不一致的问题，因此必须试用锁"
   ]
  },
  {
   "cell_type": "code",
   "execution_count": 66,
   "metadata": {},
   "outputs": [],
   "source": [
    "def change_balance(n):\n",
    "    global balance\n",
    "    balance += n\n",
    "    balance -= n"
   ]
  },
  {
   "cell_type": "code",
   "execution_count": 67,
   "metadata": {},
   "outputs": [],
   "source": [
    "def task_no_lock():\n",
    "    for x in range(100000):\n",
    "        change_balance(x)"
   ]
  },
  {
   "cell_type": "code",
   "execution_count": 72,
   "metadata": {},
   "outputs": [
    {
     "name": "stdout",
     "output_type": "stream",
     "text": [
      "76598\n"
     ]
    }
   ],
   "source": [
    "balance = 0\n",
    "t1 = threading.Thread(target=task_no_lock)\n",
    "t2 = threading.Thread(target=task_no_lock)\n",
    "t1.start()\n",
    "t2.start()\n",
    "t1.join()\n",
    "t2.join()\n",
    "print(balance)"
   ]
  },
  {
   "cell_type": "code",
   "execution_count": 61,
   "metadata": {},
   "outputs": [],
   "source": [
    "def task():\n",
    "    for x in range(100000):\n",
    "        # 1. 先尝试获取锁\n",
    "        lock.acquire()\n",
    "        try:\n",
    "            # 2. 修改\n",
    "            change_balance(x)\n",
    "        finally:\n",
    "            # 3. 释放锁\n",
    "            lock.release()"
   ]
  },
  {
   "cell_type": "code",
   "execution_count": 80,
   "metadata": {},
   "outputs": [
    {
     "name": "stdout",
     "output_type": "stream",
     "text": [
      "0\n"
     ]
    }
   ],
   "source": [
    "balance = 0\n",
    "lock = threading.Lock()\n",
    "\n",
    "t1 = threading.Thread(target=task)\n",
    "t2 = threading.Thread(target=task)\n",
    "t1.start()\n",
    "t2.start()\n",
    "t1.join()\n",
    "t2.join()\n",
    "print(balance)"
   ]
  },
  {
   "cell_type": "markdown",
   "metadata": {},
   "source": [
    "### ThreadLocal"
   ]
  },
  {
   "cell_type": "code",
   "execution_count": 81,
   "metadata": {},
   "outputs": [],
   "source": [
    "import threading"
   ]
  },
  {
   "cell_type": "code",
   "execution_count": 88,
   "metadata": {},
   "outputs": [],
   "source": [
    "# 记录着每个线程特有的线程全局变量\n",
    "local_thread = threading.local()"
   ]
  },
  {
   "cell_type": "code",
   "execution_count": 83,
   "metadata": {},
   "outputs": [],
   "source": [
    "def process_student():\n",
    "    student = local_thread.student\n",
    "    print(\"Student {} in thread {}\".format(student, threading.current_thread().name))"
   ]
  },
  {
   "cell_type": "code",
   "execution_count": 86,
   "metadata": {},
   "outputs": [],
   "source": [
    "def process_thread(name):\n",
    "    local_thread.student = name\n",
    "    process_student()"
   ]
  },
  {
   "cell_type": "code",
   "execution_count": 87,
   "metadata": {},
   "outputs": [
    {
     "name": "stdout",
     "output_type": "stream",
     "text": [
      "Student Alice in thread Thread1\n",
      "Student Sam in thread Thread2\n"
     ]
    }
   ],
   "source": [
    "t1 = threading.Thread(target=process_thread, args=('Alice',), name='Thread1')\n",
    "t2 = threading.Thread(target=process_thread, args=('Sam',), name='Thread2')\n",
    "t1.start()\n",
    "t2.start()\n",
    "t1.join()\n",
    "t2.join()"
   ]
  },
  {
   "cell_type": "markdown",
   "metadata": {},
   "source": [
    "ThreadLocal最常用的地方就是为每个线程绑定一个数据库连接，HTTP请求，用户身份信息等，这样一个线程的所有调用到的处理函数都可以非常方便地访问这些资源。"
   ]
  },
  {
   "cell_type": "markdown",
   "metadata": {},
   "source": [
    "计算密集型任务的特点是要进行大量的计算，消耗CPU资源，比如计算圆周率、对视频进行高清解码等等，全靠CPU的运算能力。这种计算密集型任务虽然也可以用多任务完成，但是任务越多，花在任务切换的时间就越多，CPU执行任务的效率就越低，所以，要最高效地利用CPU，计算密集型任务同时进行的数量应当等于CPU的核心数。\n",
    "\n",
    "**计算密集型任务由于主要消耗CPU资源**，因此，代码运行效率至关重要。Python这样的脚本语言运行效率很低，完全不适合计算密集型任务。**对于计算密集型任务，最好用C语言编写**。\n",
    "\n",
    "第二种任务的类型是IO密集型，**涉及到网络、磁盘IO的任务都是IO密集型任务**，这类任务的特点是CPU消耗很少，任务的大部分时间都在等待IO操作完成（因为IO的速度远远低于CPU和内存的速度）。对于IO密集型任务，任务越多，CPU效率越高，但也有一个限度。常见的大部分任务都是IO密集型任务，比如Web应用。\n",
    "\n",
    "IO密集型任务执行期间，99%的时间都花在IO上，花在CPU上的时间很少，因此，用运行速度极快的C语言替换用Python这样运行速度极低的脚本语言，完全无法提升运行效率。**对于IO密集型任务，最合适的语言就是开发效率最高**（代码量最少）的语言，脚本语言是首选，C语言最差。"
   ]
  },
  {
   "cell_type": "markdown",
   "metadata": {},
   "source": [
    "现代操作系统对IO操作已经做了巨大的改进，最大的特点就是支持异步IO。如果充分利用操作系统提供的异步IO支持，就可以用单进程单线程模型来执行多任务，这种全新的模型称为事件驱动模型，Nginx就是支持异步IO的Web服务器，它在单核CPU上采用单进程模型就可以高效地支持多任务。在多核CPU上，可以运行多个进程（数量与CPU核心数相同），充分利用多核CPU。由于系统总的进程数量十分有限，因此操作系统调度非常高效。用异步IO编程模型来实现多任务是一个主要的趋势。\n",
    "\n",
    "对应到Python语言，**单线程的异步编程模型称为协程**，**有了协程的支持，就可以基于事件驱动编写高效的多任务程序**。我们会在后面讨论如何编写协程。"
   ]
  },
  {
   "cell_type": "code",
   "execution_count": null,
   "metadata": {},
   "outputs": [],
   "source": []
  }
 ],
 "metadata": {
  "kernelspec": {
   "display_name": "Python 3",
   "language": "python",
   "name": "python3"
  },
  "language_info": {
   "codemirror_mode": {
    "name": "ipython",
    "version": 3
   },
   "file_extension": ".py",
   "mimetype": "text/x-python",
   "name": "python",
   "nbconvert_exporter": "python",
   "pygments_lexer": "ipython3",
   "version": "3.7.1"
  },
  "toc": {
   "base_numbering": 1,
   "nav_menu": {},
   "number_sections": true,
   "sideBar": true,
   "skip_h1_title": false,
   "title_cell": "Table of Contents",
   "title_sidebar": "Contents",
   "toc_cell": false,
   "toc_position": {},
   "toc_section_display": true,
   "toc_window_display": false
  }
 },
 "nbformat": 4,
 "nbformat_minor": 2
}

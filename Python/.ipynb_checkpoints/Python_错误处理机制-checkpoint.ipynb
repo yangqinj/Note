{
 "cells": [
  {
   "cell_type": "markdown",
   "metadata": {},
   "source": [
    "## 错误处理"
   ]
  },
  {
   "cell_type": "markdown",
   "metadata": {},
   "source": [
    "Python中常见的异常错误：https://docs.python.org/3/library/exceptions.html#exception-hierarchy"
   ]
  },
  {
   "cell_type": "code",
   "execution_count": 9,
   "metadata": {},
   "outputs": [
    {
     "name": "stdout",
     "output_type": "stream",
     "text": [
      "Try......\n",
      "Exception:  division by zero\n",
      "Finally...\n",
      "End\n"
     ]
    }
   ],
   "source": [
    "try:\n",
    "    print(\"Try......\")\n",
    "    ret = 10 / 0\n",
    "    print(ret)\n",
    "except Exception as e:\n",
    "    print(\"Exception: \", e)\n",
    "else:\n",
    "    print(\"No Errors\")\n",
    "finally:\n",
    "    print(\"Finally...\")\n",
    "print('End')"
   ]
  },
  {
   "cell_type": "code",
   "execution_count": 10,
   "metadata": {},
   "outputs": [
    {
     "name": "stdout",
     "output_type": "stream",
     "text": [
      "Try......\n",
      "5.0\n",
      "No Errors\n",
      "Finally...\n",
      "End\n"
     ]
    }
   ],
   "source": [
    "try:\n",
    "    print(\"Try......\")\n",
    "    ret = 10 / 2\n",
    "    print(ret)\n",
    "except Exception as e:\n",
    "    print(\"Exception: \", e)\n",
    "else:\n",
    "    print(\"No Errors\")\n",
    "finally:\n",
    "    print(\"Finally...\")\n",
    "print('End')"
   ]
  },
  {
   "cell_type": "code",
   "execution_count": 2,
   "metadata": {},
   "outputs": [],
   "source": [
    "import logging"
   ]
  },
  {
   "cell_type": "code",
   "execution_count": 47,
   "metadata": {},
   "outputs": [
    {
     "name": "stdout",
     "output_type": "stream",
     "text": [
      "Help on function getLogger in module logging:\n",
      "\n",
      "getLogger(name=None)\n",
      "    Return a logger with the specified name, creating it if necessary.\n",
      "    \n",
      "    If no name is specified, return the root logger.\n",
      "\n"
     ]
    }
   ],
   "source": [
    "help(logging.getLogger)"
   ]
  },
  {
   "cell_type": "code",
   "execution_count": 3,
   "metadata": {},
   "outputs": [
    {
     "name": "stderr",
     "output_type": "stream",
     "text": [
      "2019-07-10 22:03:20,040 <ipython-input-3-da4ed325f959>:14 INFO: Input s for function bar: 1\n",
      "2019-07-10 22:03:20,042 <ipython-input-3-da4ed325f959>:10 INFO: Input s for function foo: 1\n"
     ]
    },
    {
     "name": "stdout",
     "output_type": "stream",
     "text": [
      "END\n"
     ]
    }
   ],
   "source": [
    "# 使用logging记录错误信息和调用栈\n",
    "\n",
    "logging.basicConfig(level=logging.INFO, format='%(asctime)s %(pathname)s:%(lineno)d %(levelname)s: %(message)s')\n",
    "\n",
    "# 只设置上述INFO级别还是无法输出info日志\n",
    "# logger = logging.getLogger('test')\n",
    "# logger.setLevel(logging.INFO)\n",
    "\n",
    "def foo(s):\n",
    "    logging.info(\"Input s for function foo: {}\".format(s))\n",
    "    return 10 / int(s)\n",
    "\n",
    "def bar(s):\n",
    "    logging.info(\"Input s for function bar: {}\".format(s))\n",
    "    return foo(s) * 2\n",
    "\n",
    "def main():\n",
    "    try:\n",
    "        bar('1')\n",
    "    except Exception as e:\n",
    "        logging.exception(e)\n",
    "\n",
    "main()\n",
    "print('END')\n"
   ]
  },
  {
   "cell_type": "markdown",
   "metadata": {},
   "source": [
    "## 单元测试"
   ]
  },
  {
   "cell_type": "code",
   "execution_count": 24,
   "metadata": {},
   "outputs": [],
   "source": [
    "def myabs(x):\n",
    "    \"\"\"\n",
    "     Return abs value of input value.\n",
    "     \n",
    "     Example:\n",
    "     \n",
    "     >>> myabs(1)\n",
    "     -1\n",
    "     >>> myabs(-1)\n",
    "     1\n",
    "     >>> myabs(0)\n",
    "     0\n",
    "    \"\"\"\n",
    "    try:\n",
    "        x_int = int(x)\n",
    "        if (x_int > 0):\n",
    "            return x_int\n",
    "        else:\n",
    "            return -x_int\n",
    "    except ValueError as e:\n",
    "        raise ValueError(\"Invalid Argument {}\".format(x))"
   ]
  },
  {
   "cell_type": "code",
   "execution_count": 18,
   "metadata": {},
   "outputs": [],
   "source": [
    "import unittest\n",
    "\n",
    "class TestAbs(unittest.TestCase):\n",
    "    \n",
    "    def setUp(self):\n",
    "        print('SetUp...')\n",
    "        \n",
    "    def tearDown(self):\n",
    "        print('tearDown...')\n",
    "    \n",
    "    def test_positive(self):\n",
    "        self.assertEqual(myabs(2), 2)\n",
    "    \n",
    "    def test_negative(self):\n",
    "        self.assertEqual(myabs(-1), 1)\n",
    "        \n",
    "    def test_string(self):\n",
    "        with self.assertRaises(ValueError):\n",
    "            myabs(\"abs\")"
   ]
  },
  {
   "cell_type": "code",
   "execution_count": 7,
   "metadata": {},
   "outputs": [
    {
     "name": "stderr",
     "output_type": "stream",
     "text": [
      "E\n",
      "======================================================================\n",
      "ERROR: /Users/yangqj/Library/Jupyter/runtime/kernel-35dffc7c-c977-4aaa-aabb-5753612fd704 (unittest.loader._FailedTest)\n",
      "----------------------------------------------------------------------\n",
      "AttributeError: module '__main__' has no attribute '/Users/yangqj/Library/Jupyter/runtime/kernel-35dffc7c-c977-4aaa-aabb-5753612fd704'\n",
      "\n",
      "----------------------------------------------------------------------\n",
      "Ran 1 test in 0.001s\n",
      "\n",
      "FAILED (errors=1)\n"
     ]
    },
    {
     "ename": "SystemExit",
     "evalue": "True",
     "output_type": "error",
     "traceback": [
      "An exception has occurred, use %tb to see the full traceback.\n",
      "\u001b[0;31mSystemExit\u001b[0m\u001b[0;31m:\u001b[0m True\n"
     ]
    },
    {
     "name": "stderr",
     "output_type": "stream",
     "text": [
      "/Users/yangqj/anaconda3/lib/python3.7/site-packages/IPython/core/interactiveshell.py:3275: UserWarning: To exit: use 'exit', 'quit', or Ctrl-D.\n",
      "  warn(\"To exit: use 'exit', 'quit', or Ctrl-D.\", stacklevel=1)\n"
     ]
    }
   ],
   "source": [
    "# https://stackoverflow.com/questions/37895781/unable-to-run-unittests-main-function-in-ipython-jupyter-notebook\n",
    "unittest.main()"
   ]
  },
  {
   "cell_type": "code",
   "execution_count": 19,
   "metadata": {},
   "outputs": [
    {
     "name": "stderr",
     "output_type": "stream",
     "text": [
      "..."
     ]
    },
    {
     "name": "stdout",
     "output_type": "stream",
     "text": [
      "SetUp...\n",
      "tearDown...\n",
      "SetUp...\n",
      "tearDown...\n",
      "SetUp...\n",
      "tearDown...\n"
     ]
    },
    {
     "name": "stderr",
     "output_type": "stream",
     "text": [
      "\n",
      "----------------------------------------------------------------------\n",
      "Ran 3 tests in 0.009s\n",
      "\n",
      "OK\n"
     ]
    },
    {
     "data": {
      "text/plain": [
       "<unittest.main.TestProgram at 0x110bda0b8>"
      ]
     },
     "execution_count": 19,
     "metadata": {},
     "output_type": "execute_result"
    }
   ],
   "source": [
    "unittest.main(argv=['first-arg-is-ignored'], exit=False)"
   ]
  },
  {
   "cell_type": "code",
   "execution_count": 20,
   "metadata": {},
   "outputs": [],
   "source": [
    "import doctest"
   ]
  },
  {
   "cell_type": "code",
   "execution_count": 21,
   "metadata": {},
   "outputs": [
    {
     "data": {
      "text/plain": [
       "TestResults(failed=0, attempted=0)"
      ]
     },
     "execution_count": 21,
     "metadata": {},
     "output_type": "execute_result"
    }
   ],
   "source": [
    "doctest.testmod()"
   ]
  },
  {
   "cell_type": "code",
   "execution_count": 26,
   "metadata": {},
   "outputs": [
    {
     "name": "stdout",
     "output_type": "stream",
     "text": [
      "**********************************************************************\n",
      "File \"__main__\", line 7, in NoName\n",
      "Failed example:\n",
      "    myabs(1)\n",
      "Expected:\n",
      "    -1\n",
      "Got:\n",
      "    1\n"
     ]
    }
   ],
   "source": [
    "# 有输出，说明我们有一个示例写错了\n",
    "doctest.run_docstring_examples(myabs, globals())"
   ]
  },
  {
   "cell_type": "code",
   "execution_count": null,
   "metadata": {},
   "outputs": [],
   "source": []
  }
 ],
 "metadata": {
  "kernelspec": {
   "display_name": "Python 3",
   "language": "python",
   "name": "python3"
  },
  "language_info": {
   "codemirror_mode": {
    "name": "ipython",
    "version": 3
   },
   "file_extension": ".py",
   "mimetype": "text/x-python",
   "name": "python",
   "nbconvert_exporter": "python",
   "pygments_lexer": "ipython3",
   "version": "3.7.1"
  },
  "toc": {
   "base_numbering": 1,
   "nav_menu": {},
   "number_sections": true,
   "sideBar": true,
   "skip_h1_title": false,
   "title_cell": "Table of Contents",
   "title_sidebar": "Contents",
   "toc_cell": false,
   "toc_position": {},
   "toc_section_display": true,
   "toc_window_display": false
  }
 },
 "nbformat": 4,
 "nbformat_minor": 2
}

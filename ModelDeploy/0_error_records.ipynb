{
 "cells": [
  {
   "cell_type": "markdown",
   "id": "c7651692",
   "metadata": {
    "toc": true
   },
   "source": [
    "<h1>Table of Contents<span class=\"tocSkip\"></span></h1>\n",
    "<div class=\"toc\"><ul class=\"toc-item\"><li><span><a href=\"#版本关系\" data-toc-modified-id=\"版本关系-1\"><span class=\"toc-item-num\">1&nbsp;&nbsp;</span>版本关系</a></span></li><li><span><a href=\"#Unsupported-model-IR-version:-9,-max-supported-IR-version:-8\" data-toc-modified-id=\"Unsupported-model-IR-version:-9,-max-supported-IR-version:-8-2\"><span class=\"toc-item-num\">2&nbsp;&nbsp;</span>Unsupported model IR version: 9, max supported IR version: 8</a></span></li><li><span><a href=\"#forward()-takes-2-positional-arguments-but-3-were-given\" data-toc-modified-id=\"forward()-takes-2-positional-arguments-but-3-were-given-3\"><span class=\"toc-item-num\">3&nbsp;&nbsp;</span>forward() takes 2 positional arguments but 3 were given</a></span></li><li><span><a href=\"#from-torch.onnx.symbolic_registry-import-register_op\" data-toc-modified-id=\"from-torch.onnx.symbolic_registry-import-register_op-4\"><span class=\"toc-item-num\">4&nbsp;&nbsp;</span>from torch.onnx.symbolic_registry import register_op</a></span></li><li><span><a href=\"#为torchscript算子添加映射\" data-toc-modified-id=\"为torchscript算子添加映射-5\"><span class=\"toc-item-num\">5&nbsp;&nbsp;</span>为torchscript算子添加映射</a></span><ul class=\"toc-item\"><li><span><a href=\"#No-Op-registered-for-DeformConv-with-domain_version-of-14\" data-toc-modified-id=\"No-Op-registered-for-DeformConv-with-domain_version-of-14-5.1\"><span class=\"toc-item-num\">5.1&nbsp;&nbsp;</span>No Op registered for DeformConv with domain_version of 14</a></span></li><li><span><a href=\"#对应warning\" data-toc-modified-id=\"对应warning-5.2\"><span class=\"toc-item-num\">5.2&nbsp;&nbsp;</span>对应warning</a></span></li></ul></li><li><span><a href=\"#自定义torch.autograd.Function算子\" data-toc-modified-id=\"自定义torch.autograd.Function算子-6\"><span class=\"toc-item-num\">6&nbsp;&nbsp;</span>自定义torch.autograd.Function算子</a></span></li></ul></div>"
   ]
  },
  {
   "cell_type": "markdown",
   "id": "71b1261a",
   "metadata": {},
   "source": [
    "## 版本关系"
   ]
  },
  {
   "cell_type": "markdown",
   "id": "46c11c39",
   "metadata": {},
   "source": [
    "最重要的是torch, onnx和onnxruntime的版本要对得上，不然会出现奇奇怪怪的问题。目前可用的版本是：\n",
    "+ torch: 1.8.1\n",
    "+ onnx: 1.13.1\n",
    "+ onnxruntime: 1.14.1\n",
    "\n",
    "并且网上有人说需要先导入onnx再导入torch"
   ]
  },
  {
   "cell_type": "markdown",
   "id": "2651d1a1",
   "metadata": {},
   "source": [
    "+ https://discuss.pytorch.org/t/tutorial-for-torch-onnx-fails/182023"
   ]
  },
  {
   "cell_type": "markdown",
   "id": "08e9a9b5",
   "metadata": {},
   "source": [
    "## Unsupported model IR version: 9, max supported IR version: 8"
   ]
  },
  {
   "cell_type": "markdown",
   "id": "941fe131",
   "metadata": {},
   "source": [
    "使用的onnx版本为1.14.0，这个版本导出的IR版本为9。onnxruntime的版本是1.14.1，这个版本最高支持IR8版本。将onnx降低为1.13.1后重新导出模型即解决该问题。\n",
    "\n",
    "+ onnx各种版本对应关系参考：https://github.com/onnx/onnx/blob/main/docs/Versioning.md\n",
    "+ onnx和onxruntime版本对应关系：https://github.com/microsoft/onnxruntime/blob/master/docs/Versioning.md"
   ]
  },
  {
   "cell_type": "markdown",
   "id": "eb46f7a9",
   "metadata": {},
   "source": [
    "## forward() takes 2 positional arguments but 3 were given\n",
    "\n",
    "参数是list，不是tuple:\n",
    "```\n",
    "# error\n",
    "torch.onnx.export(cond_model, (a, b), \"const_op.onnx\")\n",
    "# fix\n",
    "torch.onnx.export(cond_model, [a, b], \"const_op.onnx\")\n",
    "```"
   ]
  },
  {
   "cell_type": "markdown",
   "id": "1bb10da3",
   "metadata": {},
   "source": [
    "##  from torch.onnx.symbolic_registry import register_op"
   ]
  },
  {
   "cell_type": "markdown",
   "id": "0178c28d",
   "metadata": {},
   "source": [
    "这个函数在1.13.1版本中被修改为`from torch.onnx import register_custom_op_symbolic`"
   ]
  },
  {
   "cell_type": "markdown",
   "id": "6c8a794f",
   "metadata": {},
   "source": [
    "## 为torchscript算子添加映射"
   ]
  },
  {
   "cell_type": "markdown",
   "id": "c6b5e149",
   "metadata": {},
   "source": [
    "### No Op registered for DeformConv with domain_version of 14\n",
    "\n",
    "```python\n",
    "def deformable_conv_symbolic(g, inx, weight, offset, mask, bias, stride_h, stride_w, pad_h, pad_w, dilation_h, dilation_w, groups, offset_groups, use_mask):\n",
    "    return g.op(\"DeformConv\", inx, weight, offset)\n",
    "```\n",
    "\n",
    "DeformConv算子从version 19才开始支持，而torch 1.13.1最高支持version 14，所以找不到对应的DeformConv算子。修改代码如下：\n",
    "```python\n",
    "def deformable_conv_symbolic(g, inx, weight, offset, mask, bias, stride_h, stride_w, pad_h, pad_w, dilation_h, dilation_w, groups, offset_groups, use_mask):\n",
    "    return g.op(\"custom::deform_conv2d\", inx, weight, offset)\n",
    "```"
   ]
  },
  {
   "cell_type": "markdown",
   "id": "01185d63",
   "metadata": {},
   "source": [
    "### 对应warning\n",
    "> /Users/yangqj/miniconda3/envs/py37/lib/python3.7/site-packages/torchvision/ops/deform_conv.py:85: TracerWarning: Converting a tensor to a Python boolean might cause the trace to be incorrect. We can't record the data flow of Python values, so this value will be treated as a constant in the future. This means that the trace might not generalize to other inputs!\n",
    ">   if n_offset_grps == 0:\n",
    "> /Users/yangqj/miniconda3/envs/py37/lib/python3.7/site-packages/torch/onnx/_internal/jit_utils.py:258: UserWarning: The shape inference of custom::deform_conv2d type is missing, so it may result in wrong shape inference for the exported graph. Please consider adding it in symbolic function. (Triggered internally at /Users/runner/work/pytorch/pytorch/pytorch/torch/csrc/jit/passes/onnx/shape_type_inference.cpp:1888.)\n",
    ">   _C._jit_pass_onnx_node_shape_type_inference(node, params_dict, opset_version)\n",
    "> /Users/yangqj/miniconda3/envs/py37/lib/python3.7/site-packages/torch/onnx/utils.py:688: UserWarning: The shape inference of custom::deform_conv2d type is missing, so it may result in wrong shape inference for the exported graph. Please consider adding it in symbolic function. (Triggered internally at /Users/runner/work/pytorch/pytorch/pytorch/torch/csrc/jit/passes/onnx/shape_type_inference.cpp:1888.)\n",
    ">   graph, params_dict, GLOBALS.export_onnx_opset_version\n",
    "> /Users/yangqj/miniconda3/envs/py37/lib/python3.7/site-packages/torch/onnx/utils.py:1179: UserWarning: The shape inference of custom::deform_conv2d type is missing, so it may result in wrong shape inference for the exported graph. Please consider adding it in symbolic function. (Triggered internally at /Users/runner/work/pytorch/pytorch/pytorch/torch/csrc/jit/passes/onnx/shape_type_inference.cpp:1888.)\n",
    ">   graph, params_dict, GLOBALS.export_onnx_opset_version"
   ]
  },
  {
   "cell_type": "markdown",
   "id": "cd4ae58b",
   "metadata": {},
   "source": [
    "torchscript算子的符号函数要求指明输入参数的类型，修改代码如下：\n",
    "```python\n",
    "@parse_args(\"v\", \"v\", \"v\", \"v\", \"v\", \"i\", \"i\", \"i\", \"i\", \"i\", \"i\", \"i\", \"i\", \"none\") \n",
    "def deformable_conv_symbolic(g, inx, weight, offset, mask, bias, stride_h, stride_w, pad_h, pad_w, dilation_h, dilation_w, groups, offset_groups, use_mask):\n",
    "    # 需要与ONNX中定义的算子输入保持一致\n",
    "    return g.op(\"custom::deform_conv2d\", inx, weight, offset)\n",
    "```"
   ]
  },
  {
   "cell_type": "markdown",
   "id": "7330ddf2",
   "metadata": {},
   "source": [
    "## 自定义torch.autograd.Function算子"
   ]
  },
  {
   "cell_type": "code",
   "execution_count": null,
   "id": "4baa20f2",
   "metadata": {},
   "outputs": [],
   "source": []
  }
 ],
 "metadata": {
  "kernelspec": {
   "display_name": "Python 3 (ipykernel)",
   "language": "python",
   "name": "python3"
  },
  "language_info": {
   "codemirror_mode": {
    "name": "ipython",
    "version": 3
   },
   "file_extension": ".py",
   "mimetype": "text/x-python",
   "name": "python",
   "nbconvert_exporter": "python",
   "pygments_lexer": "ipython3",
   "version": "3.7.2"
  },
  "toc": {
   "base_numbering": 1,
   "nav_menu": {},
   "number_sections": true,
   "sideBar": true,
   "skip_h1_title": false,
   "title_cell": "Table of Contents",
   "title_sidebar": "Contents",
   "toc_cell": true,
   "toc_position": {},
   "toc_section_display": true,
   "toc_window_display": false
  }
 },
 "nbformat": 4,
 "nbformat_minor": 5
}

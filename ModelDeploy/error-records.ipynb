{
 "cells": [
  {
   "cell_type": "markdown",
   "id": "71b1261a",
   "metadata": {},
   "source": [
    "## 版本关系"
   ]
  },
  {
   "cell_type": "markdown",
   "id": "46c11c39",
   "metadata": {},
   "source": [
    "最重要的是torch, onnx和onnxruntime的版本要对得上，不然会出现奇奇怪怪的问题。目前可用的版本是：\n",
    "+ torch: 1.8.1\n",
    "+ onnx: 1.13.1\n",
    "+ onnxruntime: 1.14.1\n",
    "\n",
    "并且网上有人说需要先导入onnx再导入torch"
   ]
  },
  {
   "cell_type": "markdown",
   "id": "2651d1a1",
   "metadata": {},
   "source": [
    "+ https://discuss.pytorch.org/t/tutorial-for-torch-onnx-fails/182023"
   ]
  },
  {
   "cell_type": "markdown",
   "id": "08e9a9b5",
   "metadata": {},
   "source": [
    "## Unsupported model IR version: 9, max supported IR version: 8"
   ]
  },
  {
   "cell_type": "markdown",
   "id": "941fe131",
   "metadata": {},
   "source": [
    "使用的onnx版本为1.14.0，这个版本导出的IR版本为9。onnxruntime的版本是1.14.1，这个版本最高支持IR8版本。将onnx降低为1.13.1后重新导出模型即解决该问题。\n",
    "\n",
    "+ onnx各种版本对应关系参考：https://github.com/onnx/onnx/blob/main/docs/Versioning.md\n",
    "+ onnx和onxruntime版本对应关系：https://github.com/microsoft/onnxruntime/blob/master/docs/Versioning.md"
   ]
  },
  {
   "cell_type": "markdown",
   "id": "eb46f7a9",
   "metadata": {},
   "source": [
    "## forward() takes 2 positional arguments but 3 were given\n",
    "\n",
    "参数是list，不是tuple:\n",
    "```\n",
    "# error\n",
    "torch.onnx.export(cond_model, (a, b), \"const_op.onnx\")\n",
    "# fix\n",
    "torch.onnx.export(cond_model, [a, b], \"const_op.onnx\")\n",
    "```"
   ]
  },
  {
   "cell_type": "code",
   "execution_count": null,
   "id": "943dfea7",
   "metadata": {},
   "outputs": [],
   "source": []
  }
 ],
 "metadata": {
  "kernelspec": {
   "display_name": "Python 3 (ipykernel)",
   "language": "python",
   "name": "python3"
  },
  "language_info": {
   "codemirror_mode": {
    "name": "ipython",
    "version": 3
   },
   "file_extension": ".py",
   "mimetype": "text/x-python",
   "name": "python",
   "nbconvert_exporter": "python",
   "pygments_lexer": "ipython3",
   "version": "3.7.0"
  }
 },
 "nbformat": 4,
 "nbformat_minor": 5
}

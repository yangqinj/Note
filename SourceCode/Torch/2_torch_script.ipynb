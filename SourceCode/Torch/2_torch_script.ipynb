{
 "cells": [
  {
   "cell_type": "markdown",
   "id": "35fe7868",
   "metadata": {
    "toc": true
   },
   "source": [
    "<h1>Table of Contents<span class=\"tocSkip\"></span></h1>\n",
    "<div class=\"toc\"><ul class=\"toc-item\"><li><span><a href=\"#torch.jit.trace\" data-toc-modified-id=\"torch.jit.trace-1\"><span class=\"toc-item-num\">1&nbsp;&nbsp;</span>torch.jit.trace</a></span><ul class=\"toc-item\"><li><span><a href=\"#调用链路\" data-toc-modified-id=\"调用链路-1.1\"><span class=\"toc-item-num\">1.1&nbsp;&nbsp;</span>调用链路</a></span></li></ul></li></ul></div>"
   ]
  },
  {
   "cell_type": "markdown",
   "id": "c6c721c8",
   "metadata": {},
   "source": [
    "TorchScript是pytorch为torch.nn.Module设计的一种中间表示形式，JIT解释器可以将torch.nn.Module转换为ScriptModle类型进而保存在磁盘上，从而被不同的环境、非python语言、不同的推理框架加载，提高可应用范围和推理性能。JIT提供了两种方式——trace和script——将torch.nn.Module转换为ScriptModel，这里我们看一下torch.jit.trace的实现代码。"
   ]
  },
  {
   "cell_type": "markdown",
   "id": "2196ed46",
   "metadata": {},
   "source": [
    "## torch.jit.trace"
   ]
  },
  {
   "cell_type": "markdown",
   "id": "5e082d06",
   "metadata": {},
   "source": [
    "### 调用链路"
   ]
  },
  {
   "cell_type": "markdown",
   "id": "ef73e32c",
   "metadata": {},
   "source": [
    "torch.jit.trace函数经过层层调用到达了与C++的接口处_create_method_from_trace：\n",
    "```python\n",
    "# torch/jit/_trace.py\n",
    "def trace(\n",
    "    func,\n",
    "    example_inputs,\n",
    "    optimize=None,\n",
    "    check_trace=True,\n",
    "    check_inputs=None,\n",
    "    check_tolerance=1e-5,\n",
    "    strict=True,\n",
    "    _force_outplace=False,\n",
    "    _module_class=None,\n",
    "    _compilation_unit=_python_cu,\n",
    ")\n",
    "\n",
    "-> \n",
    "\n",
    "def trace_module(\n",
    "    mod,\n",
    "    inputs,\n",
    "    optimize=None,\n",
    "    check_trace=True,\n",
    "    check_inputs=None,\n",
    "    check_tolerance=1e-5,\n",
    "    strict=True,\n",
    "    _force_outplace=False,\n",
    "    _module_class=None,\n",
    "    _compilation_unit=_python_cu,\n",
    ")\n",
    "  # module is TopLevelTracedModule\n",
    "  module._c._create_method_from_trace(\n",
    "                method_name,\n",
    "                func,\n",
    "                example_inputs,\n",
    "                var_lookup_fn,\n",
    "                strict,\n",
    "                _force_outplace,\n",
    "                argument_names,\n",
    "            )\n",
    "```"
   ]
  },
  {
   "cell_type": "markdown",
   "id": "6c2cd225",
   "metadata": {},
   "source": [
    "先来看一下pybind绑定函数，可以发现_create_method_from_trace这个函数是绑定在ScriptModule类上，说明上调用它的`module`变量是一个ScriptModule。\n",
    "```c++\n",
    "# torch\\csrc\\jit\\python\\script_init.cpp\n",
    "void initJitScriptBindings(PyObject* module):\n",
    "    py::class_<Module, Object>(m, \"ScriptModule\")\n",
    "          .def(\n",
    "          \"_create_method_from_trace\",\n",
    "            ......\n",
    "            std::shared_ptr<Graph> graph =\n",
    "                std::get<0>(tracer::createGraphByTracing(\n",
    "                    func,\n",
    "                    typed_inputs,\n",
    "                    var_name_lookup_fn,\n",
    "                    strict,\n",
    "                    force_outplace,\n",
    "                    &self,\n",
    "                    argument_names));\n",
    "            ......\n",
    "          )\n",
    "```\n"
   ]
  },
  {
   "cell_type": "markdown",
   "id": "0a05b407",
   "metadata": {},
   "source": [
    "这个函数再继续往下调用直到遇见了核心函数trace：\n",
    "```c++\n",
    "// torch\\csrc\\jit\\frontend\\tracer.cpp\n",
    "std::pair<std::shared_ptr<TracingState>, Stack> trace(\n",
    "    Stack inputs,\n",
    "    const std::function<Stack(Stack)>& traced_fn,\n",
    "    std::function<std::string(const Variable&)> var_name_lookup_fn,\n",
    "    bool strict,\n",
    "    bool force_outplace,\n",
    "    Module* self,\n",
    "    const std::vector<std::string>& argument_names)\n",
    "```"
   ]
  },
  {
   "cell_type": "markdown",
   "id": "4e083873",
   "metadata": {},
   "source": [
    "这个函数执行了下面几个步骤完成转换：\n",
    "+ 将torch.nn.Module的输入映射为ScriptModule的输入形式\n",
    "+ 运行模型得到当前输入下的最终输出\n",
    "+ 解析并记录每一个算子的输出\n",
    "+ 对输出的静态图结果进行inline pass优化\n",
    "+ 对输出的节点进行NormalizeOps优化"
   ]
  },
  {
   "cell_type": "markdown",
   "id": "b6741d43",
   "metadata": {},
   "source": [
    "具体的解释可以参考：https://zhuanlan.zhihu.com/p/489090393"
   ]
  },
  {
   "cell_type": "code",
   "execution_count": null,
   "id": "48751116",
   "metadata": {},
   "outputs": [],
   "source": []
  }
 ],
 "metadata": {
  "kernelspec": {
   "display_name": "Python 3 (ipykernel)",
   "language": "python",
   "name": "python3"
  },
  "language_info": {
   "codemirror_mode": {
    "name": "ipython",
    "version": 3
   },
   "file_extension": ".py",
   "mimetype": "text/x-python",
   "name": "python",
   "nbconvert_exporter": "python",
   "pygments_lexer": "ipython3",
   "version": "3.7.2"
  },
  "toc": {
   "base_numbering": 1,
   "nav_menu": {},
   "number_sections": true,
   "sideBar": true,
   "skip_h1_title": false,
   "title_cell": "Table of Contents",
   "title_sidebar": "Contents",
   "toc_cell": true,
   "toc_position": {
    "height": "calc(100% - 180px)",
    "left": "10px",
    "top": "150px",
    "width": "166.534px"
   },
   "toc_section_display": true,
   "toc_window_display": true
  }
 },
 "nbformat": 4,
 "nbformat_minor": 5
}

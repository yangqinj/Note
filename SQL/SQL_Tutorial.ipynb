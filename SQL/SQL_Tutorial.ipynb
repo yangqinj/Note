{
 "cells": [
  {
   "cell_type": "markdown",
   "metadata": {
    "toc": true
   },
   "source": [
    "<h1>Table of Contents<span class=\"tocSkip\"></span></h1>\n",
    "<div class=\"toc\"><ul class=\"toc-item\"><li><span><a href=\"#What-is-a-database\" data-toc-modified-id=\"What-is-a-database-1\"><span class=\"toc-item-num\">1&nbsp;&nbsp;</span>What is a database</a></span><ul class=\"toc-item\"><li><span><a href=\"#DBMS\" data-toc-modified-id=\"DBMS-1.1\"><span class=\"toc-item-num\">1.1&nbsp;&nbsp;</span>DBMS</a></span></li><li><span><a href=\"#数据库类型\" data-toc-modified-id=\"数据库类型-1.2\"><span class=\"toc-item-num\">1.2&nbsp;&nbsp;</span>数据库类型</a></span></li></ul></li><li><span><a href=\"#Table-&amp;-Keys\" data-toc-modified-id=\"Table-&amp;-Keys-2\"><span class=\"toc-item-num\">2&nbsp;&nbsp;</span>Table &amp; Keys</a></span></li><li><span><a href=\"#SQL-Basics\" data-toc-modified-id=\"SQL-Basics-3\"><span class=\"toc-item-num\">3&nbsp;&nbsp;</span>SQL Basics</a></span></li><li><span><a href=\"#Tables操作\" data-toc-modified-id=\"Tables操作-4\"><span class=\"toc-item-num\">4&nbsp;&nbsp;</span>Tables操作</a></span><ul class=\"toc-item\"><li><span><a href=\"#数据类型：\" data-toc-modified-id=\"数据类型：-4.1\"><span class=\"toc-item-num\">4.1&nbsp;&nbsp;</span>数据类型：</a></span></li><li><span><a href=\"#创建表\" data-toc-modified-id=\"创建表-4.2\"><span class=\"toc-item-num\">4.2&nbsp;&nbsp;</span>创建表</a></span></li><li><span><a href=\"#查看表结构\" data-toc-modified-id=\"查看表结构-4.3\"><span class=\"toc-item-num\">4.3&nbsp;&nbsp;</span>查看表结构</a></span></li><li><span><a href=\"#删除表\" data-toc-modified-id=\"删除表-4.4\"><span class=\"toc-item-num\">4.4&nbsp;&nbsp;</span>删除表</a></span></li><li><span><a href=\"#增加一列\" data-toc-modified-id=\"增加一列-4.5\"><span class=\"toc-item-num\">4.5&nbsp;&nbsp;</span>增加一列</a></span></li><li><span><a href=\"#删除一列\" data-toc-modified-id=\"删除一列-4.6\"><span class=\"toc-item-num\">4.6&nbsp;&nbsp;</span>删除一列</a></span></li><li><span><a href=\"#关键字限制:-NOT-NULL,-DEFAULT,-UNIQUE\" data-toc-modified-id=\"关键字限制:-NOT-NULL,-DEFAULT,-UNIQUE-4.7\"><span class=\"toc-item-num\">4.7&nbsp;&nbsp;</span>关键字限制: NOT NULL, DEFAULT, UNIQUE</a></span></li><li><span><a href=\"#关键字限制：-AUTO_INCREMENT\" data-toc-modified-id=\"关键字限制：-AUTO_INCREMENT-4.8\"><span class=\"toc-item-num\">4.8&nbsp;&nbsp;</span>关键字限制： AUTO_INCREMENT</a></span></li><li><span><a href=\"#外键\" data-toc-modified-id=\"外键-4.9\"><span class=\"toc-item-num\">4.9&nbsp;&nbsp;</span>外键</a></span></li></ul></li><li><span><a href=\"#插入数据\" data-toc-modified-id=\"插入数据-5\"><span class=\"toc-item-num\">5&nbsp;&nbsp;</span>插入数据</a></span></li><li><span><a href=\"#Update-&amp;-Delete\" data-toc-modified-id=\"Update-&amp;-Delete-6\"><span class=\"toc-item-num\">6&nbsp;&nbsp;</span>Update &amp; Delete</a></span></li><li><span><a href=\"#Basic-Query\" data-toc-modified-id=\"Basic-Query-7\"><span class=\"toc-item-num\">7&nbsp;&nbsp;</span>Basic Query</a></span></li><li><span><a href=\"#案例表格\" data-toc-modified-id=\"案例表格-8\"><span class=\"toc-item-num\">8&nbsp;&nbsp;</span>案例表格</a></span></li><li><span><a href=\"#Functions\" data-toc-modified-id=\"Functions-9\"><span class=\"toc-item-num\">9&nbsp;&nbsp;</span>Functions</a></span><ul class=\"toc-item\"><li><span><a href=\"#count：-计数\" data-toc-modified-id=\"count：-计数-9.1\"><span class=\"toc-item-num\">9.1&nbsp;&nbsp;</span>count： 计数</a></span></li><li><span><a href=\"#AVG:-平均数\" data-toc-modified-id=\"AVG:-平均数-9.2\"><span class=\"toc-item-num\">9.2&nbsp;&nbsp;</span>AVG: 平均数</a></span></li></ul></li><li><span><a href=\"#Wildcards:-通配符\" data-toc-modified-id=\"Wildcards:-通配符-10\"><span class=\"toc-item-num\">10&nbsp;&nbsp;</span>Wildcards: 通配符</a></span><ul class=\"toc-item\"><li><span><a href=\"#%\" data-toc-modified-id=\"%-10.1\"><span class=\"toc-item-num\">10.1&nbsp;&nbsp;</span>%</a></span></li><li><span><a href=\"#_\" data-toc-modified-id=\"_-10.2\"><span class=\"toc-item-num\">10.2&nbsp;&nbsp;</span>_</a></span></li></ul></li><li><span><a href=\"#Union\" data-toc-modified-id=\"Union-11\"><span class=\"toc-item-num\">11&nbsp;&nbsp;</span>Union</a></span></li><li><span><a href=\"#Join\" data-toc-modified-id=\"Join-12\"><span class=\"toc-item-num\">12&nbsp;&nbsp;</span>Join</a></span><ul class=\"toc-item\"><li><span><a href=\"#inner-join-->-join\" data-toc-modified-id=\"inner-join-->-join-12.1\"><span class=\"toc-item-num\">12.1&nbsp;&nbsp;</span>inner join -&gt; join</a></span></li><li><span><a href=\"#right-join-vs-left-join\" data-toc-modified-id=\"right-join-vs-left-join-12.2\"><span class=\"toc-item-num\">12.2&nbsp;&nbsp;</span>right join vs left join</a></span></li></ul></li><li><span><a href=\"#嵌套查询\" data-toc-modified-id=\"嵌套查询-13\"><span class=\"toc-item-num\">13&nbsp;&nbsp;</span>嵌套查询</a></span></li><li><span><a href=\"#trigger\" data-toc-modified-id=\"trigger-14\"><span class=\"toc-item-num\">14&nbsp;&nbsp;</span>trigger</a></span></li><li><span><a href=\"#课程信息\" data-toc-modified-id=\"课程信息-15\"><span class=\"toc-item-num\">15&nbsp;&nbsp;</span>课程信息</a></span></li><li><span><a href=\"#参考资料\" data-toc-modified-id=\"参考资料-16\"><span class=\"toc-item-num\">16&nbsp;&nbsp;</span>参考资料</a></span></li></ul></div>"
   ]
  },
  {
   "cell_type": "markdown",
   "metadata": {},
   "source": [
    "# What is a database"
   ]
  },
  {
   "cell_type": "markdown",
   "metadata": {},
   "source": [
    "任何相关数据的结集合都是一个Database(DB)"
   ]
  },
  {
   "cell_type": "markdown",
   "metadata": {},
   "source": [
    "## DBMS"
   ]
  },
  {
   "cell_type": "markdown",
   "metadata": {},
   "source": [
    "Database Management Systems (DBMS)是一个很特别的程序，允许用户创建和管理大量数据。提供安全性、备份、导入和导出数据，并发访问数据，以及与软件应用交互。"
   ]
  },
  {
   "cell_type": "markdown",
   "metadata": {},
   "source": [
    "## 数据库类型"
   ]
  },
  {
   "cell_type": "markdown",
   "metadata": {},
   "source": [
    "有两种主要的数据库类型：\n",
    "+ 关系型数据库（SQL）：数据被组织为一个或者多个表，每个表有许多行和列。使用唯一的键来表征一条数据\n",
    "\n",
    "RDBMS（关系型数据库管理系统），比如MySQL, Oracle, postgreSQL, mariaDB等"
   ]
  },
  {
   "cell_type": "markdown",
   "metadata": {},
   "source": [
    "+ 非关系型数据库(No-SQL)：数据被组织为任何东西，比如键值对，json，XML，图，文本等\n",
    "\n",
    "NRDBMS(非关系型数据库管理系统)：mongoDB, dynamoDB, apache cassandra, firebase\n"
   ]
  },
  {
   "cell_type": "markdown",
   "metadata": {},
   "source": [
    "# Table & Keys"
   ]
  },
  {
   "cell_type": "markdown",
   "metadata": {},
   "source": [
    "`foreign key`: 外键，是另外一个表的主键，使用这个列可以追溯另外一个表中对应的数据。\n",
    "\n",
    "\n",
    "`branch_id`是表`Employee`的外键，是表Branch中的主键"
   ]
  },
  {
   "cell_type": "markdown",
   "metadata": {},
   "source": [
    "# SQL Basics"
   ]
  },
  {
   "cell_type": "markdown",
   "metadata": {},
   "source": [
    "总共有四种类型的操作\n",
    "+ Data Query Language (DQL): 查询信息\n",
    "+ Data Definition Language (DDL): 定义表schema信息\n",
    "+ Data Control Language (DCL)：控制用户权限\n",
    "+ Data Manipulation Lanuage (DML)：增删改数据"
   ]
  },
  {
   "cell_type": "markdown",
   "metadata": {},
   "source": [
    "# Tables操作"
   ]
  },
  {
   "cell_type": "markdown",
   "metadata": {},
   "source": [
    "## 数据类型：\n",
    "+ INT\n",
    "+ DECIMAL(10, 4):10位数，其中4位是小数位\n",
    "+ VARCHAR(10): 长度为10的字符串\n",
    "+ BLOB: 二进制数据\n",
    "+ DATE： 日期数据，YYYY-MM-DD\n",
    "+ TIMESTAMP: 时间戳，YYYY-MM-DD HH:MM:SS"
   ]
  },
  {
   "cell_type": "markdown",
   "metadata": {},
   "source": [
    "## 创建表"
   ]
  },
  {
   "cell_type": "markdown",
   "metadata": {},
   "source": [
    "```SQL\n",
    "CREATE TABLE student (\n",
    "    student_id INT PRIMARY KEY,\n",
    "    name VARCHAR(20),\n",
    "    major VARCHAR(20)\n",
    ");\n",
    "```"
   ]
  },
  {
   "cell_type": "markdown",
   "metadata": {},
   "source": [
    "这种方法可以用于指定复合主键\n",
    "```SQL\n",
    "CREATE TABLE student (\n",
    "    student_id INT,\n",
    "    name VARCHAR(20),\n",
    "    major VARCHAR(20),\n",
    "    PRIMARY KEY (student_id)\n",
    ");\n",
    "```"
   ]
  },
  {
   "cell_type": "markdown",
   "metadata": {},
   "source": [
    "## 查看表结构\n",
    "\n",
    "\n",
    "```SQL\n",
    "DESCRIBE student;\n",
    "```"
   ]
  },
  {
   "attachments": {},
   "cell_type": "markdown",
   "metadata": {},
   "source": [
    "```\n",
    "+------------+-------------+------+-----+-----------+----------------+\n",
    "| Field      | Type        | Null | Key | Default   | Extra          |\n",
    "+------------+-------------+------+-----+-----------+----------------+\n",
    "| student_id | int(11)     | NO   | PRI | NULL      | auto_increment |\n",
    "| name       | varchar(20) | NO   |     | NULL      |                |\n",
    "| major      | varchar(20) | YES  |     | undecided |                |\n",
    "+------------+-------------+------+-----+-----------+----------------+\n",
    "```"
   ]
  },
  {
   "cell_type": "markdown",
   "metadata": {},
   "source": [
    "## 删除表\n",
    "\n",
    "```SQL\n",
    "DROP TABLE student;\n",
    "```"
   ]
  },
  {
   "cell_type": "markdown",
   "metadata": {},
   "source": [
    "## 增加一列\n",
    "\n",
    "```SQL\n",
    "ALTER TABLE student ADD gpa DECIMAL(3, 2);\n",
    "```"
   ]
  },
  {
   "cell_type": "markdown",
   "metadata": {},
   "source": [
    "## 删除一列\n",
    "```SQL\n",
    "ALTER TABLE student DROP COLUMN gpa;\n",
    "```"
   ]
  },
  {
   "cell_type": "markdown",
   "metadata": {},
   "source": [
    "## 关键字限制: NOT NULL, DEFAULT, UNIQUE\n",
    "\n",
    "```SQL\n",
    "CREATE TABLE student (\n",
    "    student_id INT,\n",
    "    name VARCHAR(20) NOT NULL,\n",
    "    major VARCHAR(20) DEFAULT 'undecided',\n",
    "    PRIMARY KEY (student_id)\n",
    ");\n",
    "\n",
    "INSERT INTO student(student_id, name) VALUES(6, 'Mike');\n",
    "```"
   ]
  },
  {
   "cell_type": "markdown",
   "metadata": {},
   "source": [
    "## 关键字限制： AUTO_INCREMENT"
   ]
  },
  {
   "cell_type": "markdown",
   "metadata": {},
   "source": [
    "```SQL\n",
    "CREATE TABLE student (\n",
    "    student_id INT AUTO_INCREMENT,\n",
    "    name VARCHAR(20) NOT NULL,\n",
    "    major VARCHAR(20) DEFAULT 'undecided',\n",
    "    PRIMARY KEY (student_id)\n",
    ");\n",
    "\n",
    "INSERT INTO student(name, major) VALUES('Mike', 'Math');\n",
    "```"
   ]
  },
  {
   "attachments": {},
   "cell_type": "markdown",
   "metadata": {},
   "source": [
    "```\n",
    "+------------+--------+-----------+\n",
    "| student_id | name   | major     |\n",
    "+------------+--------+-----------+\n",
    "|          1 | Jack   | Biology   |\n",
    "|          2 | Kate   | Sociology |\n",
    "|          3 | Claire | Chemistry |\n",
    "|          4 | Jack   | Biology   |\n",
    "|          5 | Mike   | Comp. Sci |\n",
    "|          6 | Mike   | Math      |\n",
    "+------------+--------+-----------+\n",
    "```"
   ]
  },
  {
   "cell_type": "markdown",
   "metadata": {},
   "source": [
    "## 外键\n",
    "\n",
    "\n",
    "+ 创建表时指定外键\n",
    "\n",
    "```SQL\n",
    "CREATE TABLE branch (\n",
    "  branch_id INT PRIMARY KEY,\n",
    "  branch_name VARCHAR(40),\n",
    "  mgr_id INT,\n",
    "  mgr_start_date DATE,\n",
    "  FOREIGN KEY(mgr_id) REFERENCES employee(emp_id) ON DELETE SET NULL\n",
    ");\n",
    "\n",
    "CREATE TABLE works_with (\n",
    "    emp_id INT,\n",
    "    client_id INT,\n",
    "    total_sales INT,\n",
    "    PRIMARY KEY (emp_id, client_id),\n",
    "    FOREIGN KEY (emp_id) REFERENCES employee(emp_id) ON DELETE CASCADE,\n",
    "    FOREIGN KEY (client_id) REFERENCES client(client_id) ON DELETE CASCADE\n",
    ");\n",
    "```\n",
    "\n",
    "\n",
    "**ON DELETE SET NULL**： 设置当被参照数据被删除时，参照这个数据的那些数据对应位置被置空。 **ON DELETE CASCADE:** 当被参照数据被删除时，参照这个数据的那些数据也被删除"
   ]
  },
  {
   "cell_type": "markdown",
   "metadata": {},
   "source": [
    "+ 创建表后，增加外键\n",
    "\n",
    "```SQL\n",
    "ALTER TABLE employee\n",
    "ADD FOREIGN KEY(branch_id)\n",
    "REFERENCES branch(branch_id)\n",
    "ON DELETE SET NULL;\n",
    "```"
   ]
  },
  {
   "cell_type": "markdown",
   "metadata": {},
   "source": [
    "# 插入数据"
   ]
  },
  {
   "cell_type": "markdown",
   "metadata": {},
   "source": [
    "+ 方法1：\n",
    "```SQL\n",
    "INSERT INTO student VALUES(7, 'Jack', 'Biology');\n",
    "```\n",
    "\n",
    "```\n",
    "+------------+--------+-----------+\n",
    "| student_id | name   | major     |\n",
    "+------------+--------+-----------+\n",
    "|          1 | Jack   | Biology   |\n",
    "|          2 | Kate   | Sociology |\n",
    "|          3 | Claire | Chemistry |\n",
    "|          4 | Jack   | Biology   |\n",
    "|          5 | Mike   | Comp. Sci |\n",
    "|          6 | Mike   | Math      |\n",
    "|          7 | Jack   | Biology   |\n",
    "+------------+--------+-----------+\n",
    "```"
   ]
  },
  {
   "cell_type": "markdown",
   "metadata": {},
   "source": [
    "+ 方法2：插入空值数据\n",
    "\n",
    "```SQL\n",
    "INSERT INTO student(student_id, name) VALUES(3, 'Claire');\n",
    "```\n",
    "\n",
    "```\n",
    "+------------+--------+-----------+\n",
    "| student_id | name   | major     |\n",
    "+------------+--------+-----------+\n",
    "|          1 | Jack   | Biology   |\n",
    "|          2 | Kate   | Sociology |\n",
    "|          3 | Claire | Chemistry |\n",
    "|          4 | Jack   | Biology   |\n",
    "|          5 | Mike   | Comp. Sci |\n",
    "|          6 | Mike   | Math      |\n",
    "|          7 | Jack   | Biology   |\n",
    "|          8 | Claire | undecided |\n",
    "+------------+--------+-----------+\n",
    "```"
   ]
  },
  {
   "cell_type": "markdown",
   "metadata": {},
   "source": [
    "# Update & Delete"
   ]
  },
  {
   "cell_type": "markdown",
   "metadata": {},
   "source": [
    "+ Update\n",
    "\n",
    "```SQL\n",
    "UPDATE student\n",
    "SET major  = 'M'\n",
    "WHERE major = 'Math';\n",
    "```"
   ]
  },
  {
   "cell_type": "markdown",
   "metadata": {},
   "source": [
    "+ Delete\n",
    "\n",
    "```SQL\n",
    "DELETE FROM student\n",
    "WHERE student_id = 1;\n",
    "```"
   ]
  },
  {
   "cell_type": "markdown",
   "metadata": {},
   "source": [
    "# Basic Query"
   ]
  },
  {
   "attachments": {},
   "cell_type": "markdown",
   "metadata": {},
   "source": [
    "+ LIMIT\n",
    "\n",
    "```SQL\n",
    "SELECT name FROM student LIMIT 2;\n",
    "\n",
    "```\n",
    "\n",
    "```\n",
    "+------+\n",
    "| name |\n",
    "+------+\n",
    "| Jack |\n",
    "| Kate |\n",
    "+------+\n",
    "```"
   ]
  },
  {
   "attachments": {},
   "cell_type": "markdown",
   "metadata": {},
   "source": [
    "+ 不等于： <>, !=\n",
    "\n",
    "```SQL\n",
    "SELECT name FROM student WHERE name != 'Kate';\n",
    "\n",
    "SELECT name FROM student WHERE name <> 'Kate';\n",
    "```\n",
    "\n",
    "\n",
    "```\n",
    "+--------+\n",
    "| name   |\n",
    "+--------+\n",
    "| Jack   |\n",
    "| Claire |\n",
    "| Jack   |\n",
    "| Mike   |\n",
    "| Mike   |\n",
    "| Jack   |\n",
    "| Claire |\n",
    "+--------+\n",
    "```"
   ]
  },
  {
   "attachments": {},
   "cell_type": "markdown",
   "metadata": {},
   "source": [
    "+ IN\n",
    "\n",
    "``` SQL\n",
    "SELECT name FROM student WHERE name IN ('Kate', 'Claire');\n",
    "\n",
    "```\n",
    "\n",
    "\n",
    "```\n",
    "+--------+\n",
    "| name   |\n",
    "+--------+\n",
    "| Kate   |\n",
    "| Claire |\n",
    "| Claire |\n",
    "+--------+\n",
    "```"
   ]
  },
  {
   "cell_type": "markdown",
   "metadata": {},
   "source": [
    "# 案例表格"
   ]
  },
  {
   "cell_type": "markdown",
   "metadata": {},
   "source": [
    "```\n",
    "mysql> select * from employee;\n",
    "+--------+------------+-----------+------------+------+--------+----------+-----------+\n",
    "| emp_id | first_name | last_name | birth_day  | sex  | salary | super_id | branch_id |\n",
    "+--------+------------+-----------+------------+------+--------+----------+-----------+\n",
    "|    100 | David      | Wallace   | 1967-11-17 | M    | 250000 |     NULL |         1 |\n",
    "|    101 | Jan        | Levinson  | 1961-05-11 | F    | 110000 |      100 |         1 |\n",
    "|    102 | Michael    | Scott     | 1964-03-15 | M    |  75000 |      100 |         2 |\n",
    "|    103 | Angela     | Martin    | 1971-06-25 | F    |  63000 |      102 |         2 |\n",
    "|    104 | Kelly      | Kapoor    | 1980-02-05 | F    |  55000 |      102 |         2 |\n",
    "|    105 | Stanley    | Hudson    | 1958-02-19 | M    |  69000 |      102 |         2 |\n",
    "|    106 | Josh       | Porter    | 1969-09-05 | M    |  78000 |      100 |         3 |\n",
    "|    107 | Andy       | Bernard   | 1973-07-22 | M    |  65000 |      106 |         3 |\n",
    "|    108 | Jim        | Halpert   | 1978-10-01 | M    |  71000 |      106 |         3 |\n",
    "|    109 | Oscar      | Martinez  | 1968-02-19 | M    |  69000 |      106 |         3 |\n",
    "|    111 | Pam        | Beesly    | 1988-02-19 | F    |  69000 |      106 |         3 |\n",
    "|    119 | Pam        | Beesly    | 1988-02-19 | F    |  69000 |      106 |         3 |\n",
    "+--------+------------+-----------+------------+------+--------+----------+-----------+\n",
    "\n",
    "mysql> select * from branch;\n",
    "+-----------+-------------+--------+----------------+\n",
    "| branch_id | branch_name | mgr_id | mgr_start_date |\n",
    "+-----------+-------------+--------+----------------+\n",
    "|         1 | Corporate   |    100 | 2006-02-09     |\n",
    "|         2 | Scranton    |    102 | 1992-04-06     |\n",
    "|         3 | Stamford    |    106 | 1998-02-13     |\n",
    "|         4 | Buffalo     |   NULL | NULL           |\n",
    "+-----------+-------------+--------+----------------+\n",
    "\n",
    "mysql> select * from works_with;\n",
    "+--------+-----------+-------------+\n",
    "| emp_id | client_id | total_sales |\n",
    "+--------+-----------+-------------+\n",
    "|    102 |       401 |      267000 |\n",
    "|    102 |       406 |       15000 |\n",
    "|    105 |       400 |       55000 |\n",
    "|    105 |       404 |       33000 |\n",
    "|    105 |       406 |      130000 |\n",
    "|    107 |       403 |        5000 |\n",
    "|    107 |       405 |       26000 |\n",
    "|    108 |       402 |       22500 |\n",
    "|    108 |       403 |       12000 |\n",
    "+--------+-----------+-------------+\n",
    "```"
   ]
  },
  {
   "cell_type": "markdown",
   "metadata": {},
   "source": [
    "# Functions"
   ]
  },
  {
   "cell_type": "markdown",
   "metadata": {},
   "source": [
    "## count： 计数\n",
    "\n",
    "```SQL\n",
    "select count(emp_id) from employee where sex = 'M' and birth_day > '1970-01-01';\n",
    "```\n",
    "\n",
    "```\n",
    "+---------------+\n",
    "| count(emp_id) |\n",
    "+---------------+\n",
    "|             2 |\n",
    "+---------------+\n",
    "```"
   ]
  },
  {
   "cell_type": "markdown",
   "metadata": {},
   "source": [
    "## AVG: 平均数\n",
    "\n",
    "```SQL\n",
    "select AVG(salary) from employee;\n",
    "```\n",
    "\n",
    "```\n",
    "+-------------+\n",
    "| AVG(salary) |\n",
    "+-------------+\n",
    "|  92888.8889 |\n",
    "+-------------+\n",
    "```"
   ]
  },
  {
   "cell_type": "markdown",
   "metadata": {},
   "source": [
    "# Wildcards: 通配符"
   ]
  },
  {
   "cell_type": "markdown",
   "metadata": {},
   "source": [
    "## % \n",
    "\n",
    "匹配任意字符串，可以没有、有一个或者有多个字符\n",
    "\n",
    "```SQL\n",
    "select * from employee where first_name LIKE '%David';\n",
    "```\n",
    "\n",
    "```\n",
    "+--------+------------+-----------+------------+------+--------+----------+-----------+\n",
    "| emp_id | first_name | last_name | birth_day  | sex  | salary | super_id | branch_id |\n",
    "+--------+------------+-----------+------------+------+--------+----------+-----------+\n",
    "|    100 | David      | Wallace   | 1967-11-17 | M    | 250000 |     NULL |         1 |\n",
    "+--------+------------+-----------+------------+------+--------+----------+-----------+\n",
    "```\n"
   ]
  },
  {
   "cell_type": "markdown",
   "metadata": {},
   "source": [
    "```SQL\n",
    "select * from employee where first_name LIKE '%l%';\n",
    "```\n",
    "\n",
    "```\n",
    "+--------+------------+-----------+------------+------+--------+----------+-----------+\n",
    "| emp_id | first_name | last_name | birth_day  | sex  | salary | super_id | branch_id |\n",
    "+--------+------------+-----------+------------+------+--------+----------+-----------+\n",
    "|    102 | Michael    | Scott     | 1964-03-15 | M    |  75000 |      100 |         2 |\n",
    "|    103 | Angela     | Martin    | 1971-06-25 | F    |  63000 |      102 |         2 |\n",
    "|    104 | Kelly      | Kapoor    | 1980-02-05 | F    |  55000 |      102 |         2 |\n",
    "|    105 | Stanley    | Hudson    | 1958-02-19 | M    |  69000 |      102 |         2 |\n",
    "+--------+------------+-----------+------------+------+--------+----------+-----------+\n",
    "```"
   ]
  },
  {
   "cell_type": "markdown",
   "metadata": {},
   "source": [
    "## _\n",
    "\n",
    "表示一个字符，一定要有\n",
    "\n",
    "```SQL\n",
    "select * from employee where first_name LIKE '_David';\n",
    "\n",
    "```\n",
    "\n",
    "```\n",
    "Empty set (0.00 sec)\n",
    "```"
   ]
  },
  {
   "cell_type": "markdown",
   "metadata": {},
   "source": [
    "# Union"
   ]
  },
  {
   "cell_type": "markdown",
   "metadata": {},
   "source": [
    "合并多个select的结果，必须保证每个select的结果列的个数是一样的，并且对应列的类型也是一样的。\n",
    "\n",
    "```SQL\n",
    "-- 找到用户属于哪个分公司\n",
    "SELECT client.client_name AS Non_Employee_Entities, client.branch_id AS Branch_ID\n",
    "FROM client\n",
    "UNION\n",
    "SELECT branch_supplier.supplier_name, branch_supplier.branch_id\n",
    "FROM branch_supplier;\n",
    "```\n",
    "\n",
    "```\n",
    "+-----------------------+-----------+\n",
    "| Non_Employee_Entities | Branch_ID |\n",
    "+-----------------------+-----------+\n",
    "| Dunmore Highschool    |         2 |\n",
    "| Lackawana Country     |         2 |\n",
    "| FedEx                 |         3 |\n",
    "| John Daly Law, LLC    |         3 |\n",
    "| Scranton Whitepages   |         2 |\n",
    "| Times Newspaper       |         3 |\n",
    "| FedEx                 |         2 |\n",
    "| Hammer Mill           |         2 |\n",
    "| J.T. Forms & Labels   |         2 |\n",
    "| Uni-ball              |         2 |\n",
    "| Hammer Mill           |         3 |\n",
    "| Patriot Paper         |         3 |\n",
    "| Stamford Lables       |         3 |\n",
    "| Uni-ball              |         3 |\n",
    "+-----------------------+-----------+\n",
    "```"
   ]
  },
  {
   "cell_type": "markdown",
   "metadata": {},
   "source": [
    "# Join"
   ]
  },
  {
   "cell_type": "markdown",
   "metadata": {},
   "source": [
    "```\n",
    "-- 雇员表\n",
    "mysql> select * from employee;\n",
    "+--------+------------+-----------+------------+------+--------+----------+-----------+\n",
    "| emp_id | first_name | last_name | birth_day  | sex  | salary | super_id | branch_id |\n",
    "+--------+------------+-----------+------------+------+--------+----------+-----------+\n",
    "|    100 | David      | Wallace   | 1967-11-17 | M    | 250000 |     NULL |         1 |\n",
    "|    101 | Jan        | Levinson  | 1961-05-11 | F    | 110000 |      100 |         1 |\n",
    "|    102 | Michael    | Scott     | 1964-03-15 | M    |  75000 |      100 |         2 |\n",
    "|    103 | Angela     | Martin    | 1971-06-25 | F    |  63000 |      102 |         2 |\n",
    "|    104 | Kelly      | Kapoor    | 1980-02-05 | F    |  55000 |      102 |         2 |\n",
    "|    105 | Stanley    | Hudson    | 1958-02-19 | M    |  69000 |      102 |         2 |\n",
    "|    106 | Josh       | Porter    | 1969-09-05 | M    |  78000 |      100 |         3 |\n",
    "|    107 | Andy       | Bernard   | 1973-07-22 | M    |  65000 |      106 |         3 |\n",
    "|    108 | Jim        | Halpert   | 1978-10-01 | M    |  71000 |      106 |         3 |\n",
    "+--------+------------+-----------+------------+------+--------+----------+-----------+\n",
    "\n",
    "```"
   ]
  },
  {
   "cell_type": "markdown",
   "metadata": {},
   "source": [
    "``` \n",
    "-- 分公司表\n",
    "mysql> select * from branch;\n",
    "+-----------+-------------+--------+----------------+\n",
    "| branch_id | branch_name | mgr_id | mgr_start_date |\n",
    "+-----------+-------------+--------+----------------+\n",
    "|         1 | Corporate   |    100 | 2006-02-09     |\n",
    "|         2 | Scranton    |    102 | 1992-04-06     |\n",
    "|         3 | Stamford    |    106 | 1998-02-13     |\n",
    "|         4 | Buffalo     |   NULL | NULL           |\n",
    "+-----------+-------------+--------+----------------+\n",
    "```"
   ]
  },
  {
   "cell_type": "markdown",
   "metadata": {},
   "source": [
    "## inner join -> join\n",
    "\n",
    "只有两个表中对应项都有值才会显示这一行\n",
    "\n",
    "```SQL\n",
    "-- 找到雇员对应分公司\n",
    "select employee.first_name, employee.last_name, branch.branch_name \n",
    "from employee inner \n",
    "join branch \n",
    "ON employee.branch_id = branch.branch_id;\n",
    "```\n",
    "\n",
    "```\n",
    "+------------+-----------+-------------+\n",
    "| first_name | last_name | branch_name |\n",
    "+------------+-----------+-------------+\n",
    "| David      | Wallace   | Corporate   |\n",
    "| Jan        | Levinson  | Corporate   |\n",
    "| Michael    | Scott     | Scranton    |\n",
    "| Angela     | Martin    | Scranton    |\n",
    "| Kelly      | Kapoor    | Scranton    |\n",
    "| Stanley    | Hudson    | Scranton    |\n",
    "| Josh       | Porter    | Stamford    |\n",
    "| Andy       | Bernard   | Stamford    |\n",
    "| Jim        | Halpert   | Stamford    |\n",
    "+------------+-----------+-------------+\n",
    "```"
   ]
  },
  {
   "cell_type": "markdown",
   "metadata": {},
   "source": [
    "## right join vs left join"
   ]
  },
  {
   "cell_type": "markdown",
   "metadata": {},
   "source": [
    "只要right或者left的表有值就会返回\n",
    "\n",
    "``` SQL\n",
    "-- 返回所有分公司对应的员工： 这个时候需要返回所有的分公司，所以需要使用right join\n",
    "select employee.first_name, employee.last_name, branch.branch_name \n",
    "from employee \n",
    "right join branch \n",
    "ON employee.branch_id = branch.branch_id;\n",
    "```"
   ]
  },
  {
   "cell_type": "markdown",
   "metadata": {},
   "source": [
    "```\n",
    "+------------+-----------+-------------+\n",
    "| first_name | last_name | branch_name |\n",
    "+------------+-----------+-------------+\n",
    "| David      | Wallace   | Corporate   |\n",
    "| Jan        | Levinson  | Corporate   |\n",
    "| Michael    | Scott     | Scranton    |\n",
    "| Angela     | Martin    | Scranton    |\n",
    "| Kelly      | Kapoor    | Scranton    |\n",
    "| Stanley    | Hudson    | Scranton    |\n",
    "| Josh       | Porter    | Stamford    |\n",
    "| Andy       | Bernard   | Stamford    |\n",
    "| Jim        | Halpert   | Stamford    |\n",
    "| NULL       | NULL      | Buffalo     |\n",
    "+------------+-----------+-------------+\n",
    "```"
   ]
  },
  {
   "cell_type": "markdown",
   "metadata": {},
   "source": [
    "# 嵌套查询\n"
   ]
  },
  {
   "cell_type": "markdown",
   "metadata": {},
   "source": [
    "找到所有交易额大于5000的员工姓名： 首先需要从`works_with`表格中找到交易额大于5000的员工，然后再从`employee`表格中找到对应员工的名字。\n",
    "\n",
    "```SQL\n",
    "select first_name, last_name from employee \n",
    "where emp_id in \n",
    "    (select emp_id from works_with where total_sales > 5000);\n",
    "```"
   ]
  },
  {
   "cell_type": "markdown",
   "metadata": {},
   "source": [
    "```\n",
    "+------------+-----------+\n",
    "| first_name | last_name |\n",
    "+------------+-----------+\n",
    "| Michael    | Scott     |\n",
    "| Stanley    | Hudson    |\n",
    "| Andy       | Bernard   |\n",
    "| Jim        | Halpert   |\n",
    "+------------+-----------+\n",
    "```"
   ]
  },
  {
   "cell_type": "markdown",
   "metadata": {},
   "source": [
    "# trigger\n",
    "\n",
    "触发器定义了，当在某个表上执行某种操作时会触发的操作。\n",
    "\n"
   ]
  },
  {
   "cell_type": "markdown",
   "metadata": {},
   "source": [
    "```SQL\n",
    "-- 创建一个表\n",
    "create table trigger_test (message varchar(40));\n",
    "```"
   ]
  },
  {
   "cell_type": "markdown",
   "metadata": {},
   "source": [
    "现在定义一个触发器，每当我们向employee表中插入数据之前，都会向trigger_test插入一条数据"
   ]
  },
  {
   "cell_type": "markdown",
   "metadata": {},
   "source": [
    "```SQL\n",
    "DELIMITER $$\n",
    "CREATE\n",
    "    TRIGGER my_trigger BEFORE INSERT\n",
    "    ON employee\n",
    "    FOR EACH ROW BEGIN\n",
    "        INSERT INTO trigger_test VALUES('added new employee');\n",
    "    END$$\n",
    "DELIMITER ;\n",
    "```"
   ]
  },
  {
   "cell_type": "markdown",
   "metadata": {},
   "source": [
    "`DELIMITER $$`的作用是修改分隔符为`$$`，这样当遇到`$$`的时候语句才会执行，而不会在`FOR EACH ROW BEGIN`中执行下面的那条语句"
   ]
  },
  {
   "cell_type": "markdown",
   "metadata": {},
   "source": [
    "```SQL\n",
    "INSERT INTO employee\n",
    "VALUES(109, 'Oscar', 'Martinez', '1968-02-19', 'M', 69000, 106, 3);\n",
    "```"
   ]
  },
  {
   "cell_type": "markdown",
   "metadata": {},
   "source": [
    "```\n",
    "+----------------+\n",
    "| message        |\n",
    "+----------------+\n",
    "| add a employee |\n",
    "+----------------+\n",
    "```"
   ]
  },
  {
   "cell_type": "markdown",
   "metadata": {},
   "source": [
    "可以看到，当插入一个新员工时`trigger_test`表中新增了一条记录"
   ]
  },
  {
   "cell_type": "markdown",
   "metadata": {},
   "source": [
    "还可以根据插入数据的不同值，来触发不同的动作。\n",
    "\n",
    "```SQL\n",
    "DELIMITER $$\n",
    "CREATE\n",
    "    TRIGGER my_trigger BEFORE INSERT\n",
    "    ON employee\n",
    "    FOR EACH ROW BEGIN\n",
    "         IF NEW.sex = 'M' THEN\n",
    "               INSERT INTO trigger_test VALUES('added male employee');\n",
    "         ELSEIF NEW.sex = 'F' THEN\n",
    "               INSERT INTO trigger_test VALUES('added female');\n",
    "         ELSE\n",
    "               INSERT INTO trigger_test VALUES('added other employee');\n",
    "         END IF;\n",
    "    END$$\n",
    "DELIMITER ;\n",
    "```"
   ]
  },
  {
   "cell_type": "markdown",
   "metadata": {},
   "source": [
    "```\n",
    "+----------------+\n",
    "| message        |\n",
    "+----------------+\n",
    "| add a employee |\n",
    "| add a employee |\n",
    "| added female   |\n",
    "+----------------+\n",
    "```"
   ]
  },
  {
   "cell_type": "markdown",
   "metadata": {},
   "source": [
    "# 课程信息\n",
    "\n",
    "课程视频地址： https://www.youtube.com/watch?v=HXV3zeQKqGY\n",
    "\n",
    "整个课程只有4个小时，介绍了SQL基本的入门知识，所以只有一个视频：\n",
    "\n",
    "```\n",
    "(0:00) Introduction\n",
    "(2:36) What is a Database?\n",
    "(23:10) Tables & Keys\n",
    "(43:31) SQL Basics\n",
    "(52:26) MySQL Windows Installation\n",
    "(1:01:59) MySQL Mac Installation\n",
    "(1:15:49) Creating Tables\n",
    "(1:31:05) Inserting Data\n",
    "(1:38:17) Constraints\n",
    "(1:48:11) Update & Delete\n",
    "(1:56:11) Basic Queries\n",
    "(2:08:37) Company Database Intro\n",
    "(2:14:05) Creating Company Database\n",
    "(2:30:27 ) More Basic Queries\n",
    "(2:26:24) Functions\n",
    "(2:45:13) Wildcards\n",
    "(2:53:53) Union\n",
    "(3:01:36) Joins\n",
    "(3:11:49) Nested Queries\n",
    "(3:21:52) On Delete\n",
    "(3:30:05) Triggers\n",
    "(3:42 12) FR Diagrams Intro\n",
    "(3:55:53) Designing an ER Diagram\n",
    "(4:08:34) Converting ER Diagrams to Schemas\n",
    "```\n",
    "\n",
    "\n",
    "\n",
    "课程中使用的代码：https://www.mikedane.com/databases/sql/creating-company-database/"
   ]
  },
  {
   "cell_type": "markdown",
   "metadata": {},
   "source": [
    "# 参考资料\n",
    "w3school: [https://www.w3school.com.cn/sql/sql_quickref.asp](https://www.w3school.com.cn/sql/sql_quickref.asp)"
   ]
  },
  {
   "cell_type": "code",
   "execution_count": null,
   "metadata": {},
   "outputs": [],
   "source": []
  }
 ],
 "metadata": {
  "kernelspec": {
   "display_name": "Python 3",
   "language": "python",
   "name": "python3"
  },
  "language_info": {
   "codemirror_mode": {
    "name": "ipython",
    "version": 3
   },
   "file_extension": ".py",
   "mimetype": "text/x-python",
   "name": "python",
   "nbconvert_exporter": "python",
   "pygments_lexer": "ipython3",
   "version": "3.7.1"
  },
  "toc": {
   "base_numbering": 1,
   "nav_menu": {},
   "number_sections": true,
   "sideBar": true,
   "skip_h1_title": false,
   "title_cell": "Table of Contents",
   "title_sidebar": "Contents",
   "toc_cell": true,
   "toc_position": {},
   "toc_section_display": true,
   "toc_window_display": true
  }
 },
 "nbformat": 4,
 "nbformat_minor": 2
}

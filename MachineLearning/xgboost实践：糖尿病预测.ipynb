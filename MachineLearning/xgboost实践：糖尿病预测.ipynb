{
 "cells": [
  {
   "cell_type": "markdown",
   "metadata": {
    "toc": true
   },
   "source": [
    "<h1>Table of Contents<span class=\"tocSkip\"></span></h1>\n",
    "<div class=\"toc\"><ul class=\"toc-item\"><li><span><a href=\"#数据集\" data-toc-modified-id=\"数据集-1\"><span class=\"toc-item-num\">1&nbsp;&nbsp;</span>数据集</a></span></li><li><span><a href=\"#数据集划分：-训练集和测试集\" data-toc-modified-id=\"数据集划分：-训练集和测试集-2\"><span class=\"toc-item-num\">2&nbsp;&nbsp;</span>数据集划分： 训练集和测试集</a></span></li><li><span><a href=\"#模型训练:-训练集训练+测试集测试\" data-toc-modified-id=\"模型训练:-训练集训练+测试集测试-3\"><span class=\"toc-item-num\">3&nbsp;&nbsp;</span>模型训练: 训练集训练+测试集测试</a></span></li><li><span><a href=\"#模型训练：训练过程评估验证集结果\" data-toc-modified-id=\"模型训练：训练过程评估验证集结果-4\"><span class=\"toc-item-num\">4&nbsp;&nbsp;</span>模型训练：训练过程评估验证集结果</a></span></li><li><span><a href=\"#模型训练：训练过程评估验证集结果并加入early_stop\" data-toc-modified-id=\"模型训练：训练过程评估验证集结果并加入early_stop-5\"><span class=\"toc-item-num\">5&nbsp;&nbsp;</span>模型训练：训练过程评估验证集结果并加入early_stop</a></span></li><li><span><a href=\"#输出特征重要性\" data-toc-modified-id=\"输出特征重要性-6\"><span class=\"toc-item-num\">6&nbsp;&nbsp;</span>输出特征重要性</a></span></li><li><span><a href=\"#调参\" data-toc-modified-id=\"调参-7\"><span class=\"toc-item-num\">7&nbsp;&nbsp;</span>调参</a></span><ul class=\"toc-item\"><li><span><a href=\"#学习率\" data-toc-modified-id=\"学习率-7.1\"><span class=\"toc-item-num\">7.1&nbsp;&nbsp;</span>学习率</a></span></li><li><span><a href=\"#subsample\" data-toc-modified-id=\"subsample-7.2\"><span class=\"toc-item-num\">7.2&nbsp;&nbsp;</span>subsample</a></span></li></ul></li><li><span><a href=\"#参考资料\" data-toc-modified-id=\"参考资料-8\"><span class=\"toc-item-num\">8&nbsp;&nbsp;</span>参考资料</a></span></li></ul></div>"
   ]
  },
  {
   "cell_type": "markdown",
   "metadata": {},
   "source": [
    "通过一个简单的分类问题学习XGBOOST的使用和相关参数设置。分类问题为判断一个病人在5年内是否患糖尿病。"
   ]
  },
  {
   "cell_type": "markdown",
   "metadata": {},
   "source": [
    "## 数据集"
   ]
  },
  {
   "cell_type": "markdown",
   "metadata": {},
   "source": [
    "使用的数据集是pima-indians-diabetes，该数据集前8列为属性，最后一列为标签。数据集从[码云](https://gitee.com/biabianm/pima-indians-diabetes/blob/master/pima-indians-diabetes.csv)下载。"
   ]
  },
  {
   "cell_type": "code",
   "execution_count": 1,
   "metadata": {},
   "outputs": [],
   "source": [
    "import pandas as pd"
   ]
  },
  {
   "cell_type": "code",
   "execution_count": 2,
   "metadata": {},
   "outputs": [],
   "source": [
    "data_dir = '../../../../Workspace/text_resources/datasets/pima-indians-diabetes.csv'"
   ]
  },
  {
   "cell_type": "code",
   "execution_count": 6,
   "metadata": {},
   "outputs": [
    {
     "data": {
      "text/html": [
       "<div>\n",
       "<style scoped>\n",
       "    .dataframe tbody tr th:only-of-type {\n",
       "        vertical-align: middle;\n",
       "    }\n",
       "\n",
       "    .dataframe tbody tr th {\n",
       "        vertical-align: top;\n",
       "    }\n",
       "\n",
       "    .dataframe thead th {\n",
       "        text-align: right;\n",
       "    }\n",
       "</style>\n",
       "<table border=\"1\" class=\"dataframe\">\n",
       "  <thead>\n",
       "    <tr style=\"text-align: right;\">\n",
       "      <th></th>\n",
       "      <th>pregnants</th>\n",
       "      <th>Plasma_glucose_concentration</th>\n",
       "      <th>blood_pressure</th>\n",
       "      <th>Triceps_skin_fold_thickness</th>\n",
       "      <th>serum_insulin</th>\n",
       "      <th>BMI</th>\n",
       "      <th>Diabetes_pedigree_function</th>\n",
       "      <th>Age</th>\n",
       "      <th>Target</th>\n",
       "    </tr>\n",
       "  </thead>\n",
       "  <tbody>\n",
       "    <tr>\n",
       "      <td>0</td>\n",
       "      <td>6</td>\n",
       "      <td>148</td>\n",
       "      <td>72</td>\n",
       "      <td>35</td>\n",
       "      <td>0</td>\n",
       "      <td>33.6</td>\n",
       "      <td>0.627</td>\n",
       "      <td>50</td>\n",
       "      <td>1</td>\n",
       "    </tr>\n",
       "    <tr>\n",
       "      <td>1</td>\n",
       "      <td>1</td>\n",
       "      <td>85</td>\n",
       "      <td>66</td>\n",
       "      <td>29</td>\n",
       "      <td>0</td>\n",
       "      <td>26.6</td>\n",
       "      <td>0.351</td>\n",
       "      <td>31</td>\n",
       "      <td>0</td>\n",
       "    </tr>\n",
       "    <tr>\n",
       "      <td>2</td>\n",
       "      <td>8</td>\n",
       "      <td>183</td>\n",
       "      <td>64</td>\n",
       "      <td>0</td>\n",
       "      <td>0</td>\n",
       "      <td>23.3</td>\n",
       "      <td>0.672</td>\n",
       "      <td>32</td>\n",
       "      <td>1</td>\n",
       "    </tr>\n",
       "    <tr>\n",
       "      <td>3</td>\n",
       "      <td>1</td>\n",
       "      <td>89</td>\n",
       "      <td>66</td>\n",
       "      <td>23</td>\n",
       "      <td>94</td>\n",
       "      <td>28.1</td>\n",
       "      <td>0.167</td>\n",
       "      <td>21</td>\n",
       "      <td>0</td>\n",
       "    </tr>\n",
       "    <tr>\n",
       "      <td>4</td>\n",
       "      <td>0</td>\n",
       "      <td>137</td>\n",
       "      <td>40</td>\n",
       "      <td>35</td>\n",
       "      <td>168</td>\n",
       "      <td>43.1</td>\n",
       "      <td>2.288</td>\n",
       "      <td>33</td>\n",
       "      <td>1</td>\n",
       "    </tr>\n",
       "  </tbody>\n",
       "</table>\n",
       "</div>"
      ],
      "text/plain": [
       "   pregnants  Plasma_glucose_concentration  blood_pressure  \\\n",
       "0          6                           148              72   \n",
       "1          1                            85              66   \n",
       "2          8                           183              64   \n",
       "3          1                            89              66   \n",
       "4          0                           137              40   \n",
       "\n",
       "   Triceps_skin_fold_thickness  serum_insulin   BMI  \\\n",
       "0                           35              0  33.6   \n",
       "1                           29              0  26.6   \n",
       "2                            0              0  23.3   \n",
       "3                           23             94  28.1   \n",
       "4                           35            168  43.1   \n",
       "\n",
       "   Diabetes_pedigree_function  Age  Target  \n",
       "0                       0.627   50       1  \n",
       "1                       0.351   31       0  \n",
       "2                       0.672   32       1  \n",
       "3                       0.167   21       0  \n",
       "4                       2.288   33       1  "
      ]
     },
     "execution_count": 6,
     "metadata": {},
     "output_type": "execute_result"
    }
   ],
   "source": [
    "data_df = pd.read_csv(data_dir)\n",
    "data_df.head()"
   ]
  },
  {
   "cell_type": "markdown",
   "metadata": {},
   "source": [
    "This dataset describes the medical records for Pima Indians and whether or not each patient will have an onset of diabetes within \f",
    "ve years.\n",
    "\n",
    "Fields description follow:\n",
    "\n",
    "pregnants = Number of times pregnant\n",
    "\n",
    "Plasma_glucose_concentration = Plasma glucose concentration a 2 hours in an oral glucose tolerance test\n",
    "\n",
    "blood_pressure = Diastolic blood pressure (mm Hg)\n",
    "\n",
    "Triceps_skin_fold_thickness = Triceps skin fold thickness (mm)\n",
    "\n",
    "serum_insulin = 2-Hour serum insulin (mu U/ml)\n",
    "\n",
    "BMI = Body mass index (weight in kg/(height in m)^2)\n",
    "\n",
    "Diabetes_pedigree_function = Diabetes pedigree function\n",
    "\n",
    "Age = Age (years)\n",
    "\n",
    "Target = Class variable (1:tested positive for diabetes, 0: tested negative for diabetes)"
   ]
  },
  {
   "cell_type": "code",
   "execution_count": 9,
   "metadata": {},
   "outputs": [
    {
     "name": "stdout",
     "output_type": "stream",
     "text": [
      "<class 'pandas.core.frame.DataFrame'>\n",
      "RangeIndex: 768 entries, 0 to 767\n",
      "Data columns (total 9 columns):\n",
      "pregnants                       768 non-null int64\n",
      "Plasma_glucose_concentration    768 non-null int64\n",
      "blood_pressure                  768 non-null int64\n",
      "Triceps_skin_fold_thickness     768 non-null int64\n",
      "serum_insulin                   768 non-null int64\n",
      "BMI                             768 non-null float64\n",
      "Diabetes_pedigree_function      768 non-null float64\n",
      "Age                             768 non-null int64\n",
      "Target                          768 non-null int64\n",
      "dtypes: float64(2), int64(7)\n",
      "memory usage: 54.1 KB\n"
     ]
    }
   ],
   "source": [
    "data_df.info()"
   ]
  },
  {
   "cell_type": "markdown",
   "metadata": {},
   "source": [
    "## 数据集划分： 训练集和测试集"
   ]
  },
  {
   "cell_type": "code",
   "execution_count": 11,
   "metadata": {},
   "outputs": [],
   "source": [
    "from sklearn.model_selection import train_test_split"
   ]
  },
  {
   "cell_type": "code",
   "execution_count": 18,
   "metadata": {},
   "outputs": [],
   "source": [
    "X = data_df.iloc[:, 0:8]\n",
    "y = data_df.iloc[:, 8]"
   ]
  },
  {
   "cell_type": "code",
   "execution_count": 19,
   "metadata": {},
   "outputs": [],
   "source": [
    "import time"
   ]
  },
  {
   "cell_type": "code",
   "execution_count": 21,
   "metadata": {},
   "outputs": [],
   "source": [
    "train_size = 0.7\n",
    "seed = int(time.time())\n",
    "X_train, X_test, y_train, y_test = train_test_split(X, y, train_size=train_size, random_state=seed)"
   ]
  },
  {
   "cell_type": "markdown",
   "metadata": {},
   "source": [
    "## 模型训练: 训练集训练+测试集测试"
   ]
  },
  {
   "cell_type": "code",
   "execution_count": 30,
   "metadata": {},
   "outputs": [],
   "source": [
    "from xgboost import XGBClassifier\n",
    "from sklearn.metrics import accuracy_score, f1_score"
   ]
  },
  {
   "cell_type": "code",
   "execution_count": 23,
   "metadata": {},
   "outputs": [
    {
     "data": {
      "text/plain": [
       "XGBClassifier(base_score=0.5, booster='gbtree', colsample_bylevel=1,\n",
       "              colsample_bynode=1, colsample_bytree=1, gamma=0,\n",
       "              learning_rate=0.1, max_delta_step=0, max_depth=3,\n",
       "              min_child_weight=1, missing=None, n_estimators=100, n_jobs=1,\n",
       "              nthread=None, objective='binary:logistic', random_state=0,\n",
       "              reg_alpha=0, reg_lambda=1, scale_pos_weight=1, seed=None,\n",
       "              silent=None, subsample=1, verbosity=1)"
      ]
     },
     "execution_count": 23,
     "metadata": {},
     "output_type": "execute_result"
    }
   ],
   "source": [
    "# 默认值\n",
    "# n_estimators：100 树个数\n",
    "# max_depth： 3 树深度\n",
    "# learning_rate： 0.1 学习率\n",
    "# objective： logloss 目标函数\n",
    "model = XGBClassifier()\n",
    "model.fit(X_train, y_train)"
   ]
  },
  {
   "cell_type": "code",
   "execution_count": 26,
   "metadata": {},
   "outputs": [
    {
     "data": {
      "text/plain": [
       "array([0, 1, 0, 0, 0, 0, 1, 0, 0, 1, 1, 1, 0, 1, 1, 0, 0, 0, 1, 1, 0, 0,\n",
       "       0, 1, 0, 0, 1, 1, 1, 0, 0, 1, 1, 0, 0, 0, 0, 0, 1, 0, 0, 0, 0, 1,\n",
       "       0, 0, 1, 1, 1, 1, 0, 0, 0, 0, 0, 1, 0, 1, 0, 0, 0, 0, 0, 1, 0, 0,\n",
       "       0, 1, 0, 0, 0, 0, 0, 1, 0, 1, 1, 0, 0, 0, 0, 0, 0, 0, 0, 0, 0, 1,\n",
       "       0, 0, 0, 0, 1, 0, 1, 0, 1, 1, 1, 0, 0, 0, 0, 1, 0, 0, 1, 0, 0, 0,\n",
       "       0, 0, 0, 0, 1, 0, 0, 0, 0, 0, 0, 1, 1, 0, 0, 0, 1, 0, 0, 0, 0, 0,\n",
       "       0, 1, 0, 1, 0, 0, 0, 0, 0, 1, 0, 1, 1, 0, 1, 0, 1, 0, 0, 0, 0, 1,\n",
       "       0, 0, 0, 1, 1, 1, 1, 0, 0, 0, 0, 1, 0, 0, 0, 0, 0, 0, 0, 0, 0, 0,\n",
       "       0, 0, 0, 1, 0, 0, 0, 1, 1, 0, 0, 0, 1, 1, 0, 0, 0, 0, 0, 1, 0, 1,\n",
       "       0, 1, 0, 1, 1, 1, 1, 1, 0, 0, 0, 0, 0, 1, 0, 1, 0, 0, 1, 1, 0, 0,\n",
       "       0, 1, 1, 1, 1, 1, 1, 0, 1, 0, 0])"
      ]
     },
     "execution_count": 26,
     "metadata": {},
     "output_type": "execute_result"
    }
   ],
   "source": [
    "y_pred = model.predict(X_test)\n",
    "y_pred"
   ]
  },
  {
   "cell_type": "code",
   "execution_count": 32,
   "metadata": {},
   "outputs": [
    {
     "data": {
      "text/plain": [
       "0.7489177489177489"
      ]
     },
     "execution_count": 32,
     "metadata": {},
     "output_type": "execute_result"
    }
   ],
   "source": [
    "acc = accuracy_score(y_test, y_pred)\n",
    "acc"
   ]
  },
  {
   "cell_type": "code",
   "execution_count": 36,
   "metadata": {},
   "outputs": [
    {
     "data": {
      "text/plain": [
       "0.6419753086419754"
      ]
     },
     "execution_count": 36,
     "metadata": {},
     "output_type": "execute_result"
    }
   ],
   "source": [
    "f1 = f1_score(y_test, y_pred)\n",
    "f1"
   ]
  },
  {
   "cell_type": "markdown",
   "metadata": {},
   "source": [
    "## 模型训练：训练过程评估验证集结果"
   ]
  },
  {
   "cell_type": "code",
   "execution_count": 37,
   "metadata": {
    "collapsed": true
   },
   "outputs": [
    {
     "name": "stdout",
     "output_type": "stream",
     "text": [
      "[0]\tvalidation_0-error:0.290043\n",
      "[1]\tvalidation_0-error:0.285714\n",
      "[2]\tvalidation_0-error:0.255411\n",
      "[3]\tvalidation_0-error:0.255411\n",
      "[4]\tvalidation_0-error:0.255411\n",
      "[5]\tvalidation_0-error:0.264069\n",
      "[6]\tvalidation_0-error:0.25974\n",
      "[7]\tvalidation_0-error:0.264069\n",
      "[8]\tvalidation_0-error:0.268398\n",
      "[9]\tvalidation_0-error:0.264069\n",
      "[10]\tvalidation_0-error:0.268398\n",
      "[11]\tvalidation_0-error:0.25974\n",
      "[12]\tvalidation_0-error:0.264069\n",
      "[13]\tvalidation_0-error:0.251082\n",
      "[14]\tvalidation_0-error:0.251082\n",
      "[15]\tvalidation_0-error:0.251082\n",
      "[16]\tvalidation_0-error:0.242424\n",
      "[17]\tvalidation_0-error:0.242424\n",
      "[18]\tvalidation_0-error:0.251082\n",
      "[19]\tvalidation_0-error:0.242424\n",
      "[20]\tvalidation_0-error:0.233766\n",
      "[21]\tvalidation_0-error:0.233766\n",
      "[22]\tvalidation_0-error:0.238095\n",
      "[23]\tvalidation_0-error:0.238095\n",
      "[24]\tvalidation_0-error:0.242424\n",
      "[25]\tvalidation_0-error:0.238095\n",
      "[26]\tvalidation_0-error:0.238095\n",
      "[27]\tvalidation_0-error:0.242424\n",
      "[28]\tvalidation_0-error:0.242424\n",
      "[29]\tvalidation_0-error:0.238095\n",
      "[30]\tvalidation_0-error:0.246753\n",
      "[31]\tvalidation_0-error:0.242424\n",
      "[32]\tvalidation_0-error:0.242424\n",
      "[33]\tvalidation_0-error:0.242424\n",
      "[34]\tvalidation_0-error:0.246753\n",
      "[35]\tvalidation_0-error:0.242424\n",
      "[36]\tvalidation_0-error:0.242424\n",
      "[37]\tvalidation_0-error:0.242424\n",
      "[38]\tvalidation_0-error:0.238095\n",
      "[39]\tvalidation_0-error:0.233766\n",
      "[40]\tvalidation_0-error:0.233766\n",
      "[41]\tvalidation_0-error:0.233766\n",
      "[42]\tvalidation_0-error:0.238095\n",
      "[43]\tvalidation_0-error:0.238095\n",
      "[44]\tvalidation_0-error:0.238095\n",
      "[45]\tvalidation_0-error:0.233766\n",
      "[46]\tvalidation_0-error:0.229437\n",
      "[47]\tvalidation_0-error:0.233766\n",
      "[48]\tvalidation_0-error:0.242424\n",
      "[49]\tvalidation_0-error:0.242424\n",
      "[50]\tvalidation_0-error:0.242424\n",
      "[51]\tvalidation_0-error:0.233766\n",
      "[52]\tvalidation_0-error:0.229437\n",
      "[53]\tvalidation_0-error:0.229437\n",
      "[54]\tvalidation_0-error:0.233766\n",
      "[55]\tvalidation_0-error:0.242424\n",
      "[56]\tvalidation_0-error:0.246753\n",
      "[57]\tvalidation_0-error:0.251082\n",
      "[58]\tvalidation_0-error:0.251082\n",
      "[59]\tvalidation_0-error:0.246753\n",
      "[60]\tvalidation_0-error:0.246753\n",
      "[61]\tvalidation_0-error:0.246753\n",
      "[62]\tvalidation_0-error:0.251082\n",
      "[63]\tvalidation_0-error:0.251082\n",
      "[64]\tvalidation_0-error:0.255411\n",
      "[65]\tvalidation_0-error:0.255411\n",
      "[66]\tvalidation_0-error:0.255411\n",
      "[67]\tvalidation_0-error:0.255411\n",
      "[68]\tvalidation_0-error:0.251082\n",
      "[69]\tvalidation_0-error:0.251082\n",
      "[70]\tvalidation_0-error:0.251082\n",
      "[71]\tvalidation_0-error:0.251082\n",
      "[72]\tvalidation_0-error:0.251082\n",
      "[73]\tvalidation_0-error:0.251082\n",
      "[74]\tvalidation_0-error:0.251082\n",
      "[75]\tvalidation_0-error:0.251082\n",
      "[76]\tvalidation_0-error:0.25974\n",
      "[77]\tvalidation_0-error:0.25974\n",
      "[78]\tvalidation_0-error:0.25974\n",
      "[79]\tvalidation_0-error:0.25974\n",
      "[80]\tvalidation_0-error:0.25974\n",
      "[81]\tvalidation_0-error:0.25974\n",
      "[82]\tvalidation_0-error:0.25974\n",
      "[83]\tvalidation_0-error:0.25974\n",
      "[84]\tvalidation_0-error:0.25974\n",
      "[85]\tvalidation_0-error:0.25974\n",
      "[86]\tvalidation_0-error:0.25974\n",
      "[87]\tvalidation_0-error:0.255411\n",
      "[88]\tvalidation_0-error:0.251082\n",
      "[89]\tvalidation_0-error:0.251082\n",
      "[90]\tvalidation_0-error:0.251082\n",
      "[91]\tvalidation_0-error:0.251082\n",
      "[92]\tvalidation_0-error:0.255411\n",
      "[93]\tvalidation_0-error:0.255411\n",
      "[94]\tvalidation_0-error:0.255411\n",
      "[95]\tvalidation_0-error:0.251082\n",
      "[96]\tvalidation_0-error:0.251082\n",
      "[97]\tvalidation_0-error:0.251082\n",
      "[98]\tvalidation_0-error:0.251082\n",
      "[99]\tvalidation_0-error:0.251082\n"
     ]
    },
    {
     "data": {
      "text/plain": [
       "XGBClassifier(base_score=0.5, booster='gbtree', colsample_bylevel=1,\n",
       "              colsample_bynode=1, colsample_bytree=1, gamma=0,\n",
       "              learning_rate=0.1, max_delta_step=0, max_depth=3,\n",
       "              min_child_weight=1, missing=None, n_estimators=100, n_jobs=1,\n",
       "              nthread=None, objective='binary:logistic', random_state=0,\n",
       "              reg_alpha=0, reg_lambda=1, scale_pos_weight=1, seed=None,\n",
       "              silent=None, subsample=1, verbosity=1)"
      ]
     },
     "execution_count": 37,
     "metadata": {},
     "output_type": "execute_result"
    }
   ],
   "source": [
    "eval_set = [(X_test, y_test)]\n",
    "model = XGBClassifier()\n",
    "# 只给定验证集时：\n",
    "# + 还是会训练完100课树，并且使用error作为评估准则\n",
    "model.fit(X_train, y_train, eval_set=eval_set)"
   ]
  },
  {
   "cell_type": "markdown",
   "metadata": {},
   "source": [
    "从上述的结果可以观察到，当只指定验证集的还是模型还是训练够了100课树。此外，还可以发现这个过程中虽然error在中间某个时间达到最低值，模型还是继续训练，导致最终的结果并不是最优的。"
   ]
  },
  {
   "cell_type": "code",
   "execution_count": 42,
   "metadata": {
    "scrolled": true
   },
   "outputs": [
    {
     "name": "stdout",
     "output_type": "stream",
     "text": [
      "[0]\tvalidation_0-logloss:0.661799\n",
      "[1]\tvalidation_0-logloss:0.638594\n",
      "[2]\tvalidation_0-logloss:0.614165\n",
      "[3]\tvalidation_0-logloss:0.596266\n",
      "[4]\tvalidation_0-logloss:0.581508\n",
      "[5]\tvalidation_0-logloss:0.569146\n",
      "[6]\tvalidation_0-logloss:0.555601\n",
      "[7]\tvalidation_0-logloss:0.548347\n",
      "[8]\tvalidation_0-logloss:0.5407\n",
      "[9]\tvalidation_0-logloss:0.533629\n",
      "[10]\tvalidation_0-logloss:0.527112\n",
      "[11]\tvalidation_0-logloss:0.523614\n",
      "[12]\tvalidation_0-logloss:0.518502\n",
      "[13]\tvalidation_0-logloss:0.515161\n",
      "[14]\tvalidation_0-logloss:0.512742\n",
      "[15]\tvalidation_0-logloss:0.512369\n",
      "[16]\tvalidation_0-logloss:0.509281\n",
      "[17]\tvalidation_0-logloss:0.505474\n",
      "[18]\tvalidation_0-logloss:0.504088\n",
      "[19]\tvalidation_0-logloss:0.503247\n",
      "[20]\tvalidation_0-logloss:0.501015\n",
      "[21]\tvalidation_0-logloss:0.498152\n",
      "[22]\tvalidation_0-logloss:0.497204\n",
      "[23]\tvalidation_0-logloss:0.496385\n",
      "[24]\tvalidation_0-logloss:0.496324\n",
      "[25]\tvalidation_0-logloss:0.493388\n",
      "[26]\tvalidation_0-logloss:0.493843\n",
      "[27]\tvalidation_0-logloss:0.492685\n",
      "[28]\tvalidation_0-logloss:0.494117\n",
      "[29]\tvalidation_0-logloss:0.493605\n",
      "[30]\tvalidation_0-logloss:0.493431\n",
      "[31]\tvalidation_0-logloss:0.493073\n",
      "[32]\tvalidation_0-logloss:0.491477\n",
      "[33]\tvalidation_0-logloss:0.492211\n",
      "[34]\tvalidation_0-logloss:0.492007\n",
      "[35]\tvalidation_0-logloss:0.489295\n",
      "[36]\tvalidation_0-logloss:0.489829\n",
      "[37]\tvalidation_0-logloss:0.490244\n",
      "[38]\tvalidation_0-logloss:0.489837\n",
      "[39]\tvalidation_0-logloss:0.490538\n",
      "[40]\tvalidation_0-logloss:0.491024\n",
      "[41]\tvalidation_0-logloss:0.491747\n",
      "[42]\tvalidation_0-logloss:0.491212\n",
      "[43]\tvalidation_0-logloss:0.491711\n",
      "[44]\tvalidation_0-logloss:0.492628\n",
      "[45]\tvalidation_0-logloss:0.492661\n",
      "[46]\tvalidation_0-logloss:0.492572\n",
      "[47]\tvalidation_0-logloss:0.495079\n",
      "[48]\tvalidation_0-logloss:0.495767\n",
      "[49]\tvalidation_0-logloss:0.49626\n",
      "[50]\tvalidation_0-logloss:0.499096\n",
      "[51]\tvalidation_0-logloss:0.498114\n",
      "[52]\tvalidation_0-logloss:0.498173\n",
      "[53]\tvalidation_0-logloss:0.498107\n",
      "[54]\tvalidation_0-logloss:0.498787\n",
      "[55]\tvalidation_0-logloss:0.499905\n",
      "[56]\tvalidation_0-logloss:0.501356\n",
      "[57]\tvalidation_0-logloss:0.501158\n",
      "[58]\tvalidation_0-logloss:0.502634\n",
      "[59]\tvalidation_0-logloss:0.503527\n",
      "[60]\tvalidation_0-logloss:0.503598\n",
      "[61]\tvalidation_0-logloss:0.503445\n",
      "[62]\tvalidation_0-logloss:0.503634\n",
      "[63]\tvalidation_0-logloss:0.504414\n",
      "[64]\tvalidation_0-logloss:0.504526\n",
      "[65]\tvalidation_0-logloss:0.505095\n",
      "[66]\tvalidation_0-logloss:0.506114\n",
      "[67]\tvalidation_0-logloss:0.506205\n",
      "[68]\tvalidation_0-logloss:0.506217\n",
      "[69]\tvalidation_0-logloss:0.506044\n",
      "[70]\tvalidation_0-logloss:0.505599\n",
      "[71]\tvalidation_0-logloss:0.506433\n",
      "[72]\tvalidation_0-logloss:0.507073\n",
      "[73]\tvalidation_0-logloss:0.507484\n",
      "[74]\tvalidation_0-logloss:0.509158\n",
      "[75]\tvalidation_0-logloss:0.509098\n",
      "[76]\tvalidation_0-logloss:0.509252\n",
      "[77]\tvalidation_0-logloss:0.50795\n",
      "[78]\tvalidation_0-logloss:0.508793\n",
      "[79]\tvalidation_0-logloss:0.508761\n",
      "[80]\tvalidation_0-logloss:0.509851\n",
      "[81]\tvalidation_0-logloss:0.510714\n",
      "[82]\tvalidation_0-logloss:0.510132\n",
      "[83]\tvalidation_0-logloss:0.510497\n",
      "[84]\tvalidation_0-logloss:0.510498\n",
      "[85]\tvalidation_0-logloss:0.510762\n",
      "[86]\tvalidation_0-logloss:0.512082\n",
      "[87]\tvalidation_0-logloss:0.513018\n",
      "[88]\tvalidation_0-logloss:0.513076\n",
      "[89]\tvalidation_0-logloss:0.512327\n",
      "[90]\tvalidation_0-logloss:0.512549\n",
      "[91]\tvalidation_0-logloss:0.512883\n",
      "[92]\tvalidation_0-logloss:0.512052\n",
      "[93]\tvalidation_0-logloss:0.513347\n",
      "[94]\tvalidation_0-logloss:0.514289\n",
      "[95]\tvalidation_0-logloss:0.51473\n",
      "[96]\tvalidation_0-logloss:0.515996\n",
      "[97]\tvalidation_0-logloss:0.515763\n",
      "[98]\tvalidation_0-logloss:0.514425\n",
      "[99]\tvalidation_0-logloss:0.51542\n"
     ]
    },
    {
     "data": {
      "text/plain": [
       "XGBClassifier(base_score=0.5, booster='gbtree', colsample_bylevel=1,\n",
       "              colsample_bynode=1, colsample_bytree=1, gamma=0,\n",
       "              learning_rate=0.1, max_delta_step=0, max_depth=3,\n",
       "              min_child_weight=1, missing=None, n_estimators=100, n_jobs=1,\n",
       "              nthread=None, objective='binary:logistic', random_state=0,\n",
       "              reg_alpha=0, reg_lambda=1, scale_pos_weight=1, seed=None,\n",
       "              silent=None, subsample=1, verbosity=1)"
      ]
     },
     "execution_count": 42,
     "metadata": {},
     "output_type": "execute_result"
    }
   ],
   "source": [
    "eval_set = [(X_test, y_test)]\n",
    "model = XGBClassifier()\n",
    "model.fit(X_train, y_train, eval_set=eval_set, eval_metric=\"logloss\")"
   ]
  },
  {
   "cell_type": "markdown",
   "metadata": {},
   "source": [
    "## 模型训练：训练过程评估验证集结果并加入early_stop"
   ]
  },
  {
   "cell_type": "code",
   "execution_count": 43,
   "metadata": {
    "scrolled": true
   },
   "outputs": [
    {
     "name": "stdout",
     "output_type": "stream",
     "text": [
      "[0]\tvalidation_0-logloss:0.661799\n",
      "Will train until validation_0-logloss hasn't improved in 5 rounds.\n",
      "[1]\tvalidation_0-logloss:0.638594\n",
      "[2]\tvalidation_0-logloss:0.614165\n",
      "[3]\tvalidation_0-logloss:0.596266\n",
      "[4]\tvalidation_0-logloss:0.581508\n",
      "[5]\tvalidation_0-logloss:0.569146\n",
      "[6]\tvalidation_0-logloss:0.555601\n",
      "[7]\tvalidation_0-logloss:0.548347\n",
      "[8]\tvalidation_0-logloss:0.5407\n",
      "[9]\tvalidation_0-logloss:0.533629\n",
      "[10]\tvalidation_0-logloss:0.527112\n",
      "[11]\tvalidation_0-logloss:0.523614\n",
      "[12]\tvalidation_0-logloss:0.518502\n",
      "[13]\tvalidation_0-logloss:0.515161\n",
      "[14]\tvalidation_0-logloss:0.512742\n",
      "[15]\tvalidation_0-logloss:0.512369\n",
      "[16]\tvalidation_0-logloss:0.509281\n",
      "[17]\tvalidation_0-logloss:0.505474\n",
      "[18]\tvalidation_0-logloss:0.504088\n",
      "[19]\tvalidation_0-logloss:0.503247\n",
      "[20]\tvalidation_0-logloss:0.501015\n",
      "[21]\tvalidation_0-logloss:0.498152\n",
      "[22]\tvalidation_0-logloss:0.497204\n",
      "[23]\tvalidation_0-logloss:0.496385\n",
      "[24]\tvalidation_0-logloss:0.496324\n",
      "[25]\tvalidation_0-logloss:0.493388\n",
      "[26]\tvalidation_0-logloss:0.493843\n",
      "[27]\tvalidation_0-logloss:0.492685\n",
      "[28]\tvalidation_0-logloss:0.494117\n",
      "[29]\tvalidation_0-logloss:0.493605\n",
      "[30]\tvalidation_0-logloss:0.493431\n",
      "[31]\tvalidation_0-logloss:0.493073\n",
      "[32]\tvalidation_0-logloss:0.491477\n",
      "[33]\tvalidation_0-logloss:0.492211\n",
      "[34]\tvalidation_0-logloss:0.492007\n",
      "[35]\tvalidation_0-logloss:0.489295\n",
      "[36]\tvalidation_0-logloss:0.489829\n",
      "[37]\tvalidation_0-logloss:0.490244\n",
      "[38]\tvalidation_0-logloss:0.489837\n",
      "[39]\tvalidation_0-logloss:0.490538\n",
      "[40]\tvalidation_0-logloss:0.491024\n",
      "Stopping. Best iteration:\n",
      "[35]\tvalidation_0-logloss:0.489295\n",
      "\n"
     ]
    },
    {
     "data": {
      "text/plain": [
       "XGBClassifier(base_score=0.5, booster='gbtree', colsample_bylevel=1,\n",
       "              colsample_bynode=1, colsample_bytree=1, gamma=0,\n",
       "              learning_rate=0.1, max_delta_step=0, max_depth=3,\n",
       "              min_child_weight=1, missing=None, n_estimators=100, n_jobs=1,\n",
       "              nthread=None, objective='binary:logistic', random_state=0,\n",
       "              reg_alpha=0, reg_lambda=1, scale_pos_weight=1, seed=None,\n",
       "              silent=None, subsample=1, verbosity=1)"
      ]
     },
     "execution_count": 43,
     "metadata": {},
     "output_type": "execute_result"
    }
   ],
   "source": [
    "eval_set = [(X_test, y_test)]\n",
    "model = XGBClassifier()\n",
    "# 指定early_stopping_rounds让模型可以提前停止训练\n",
    "# 这个参数要求模型在early_stopping_rounds这么多次训练中的error值都要不断下降\n",
    "model.fit(X_train, y_train, eval_set=eval_set, eval_metric=\"logloss\", early_stopping_rounds=5)"
   ]
  },
  {
   "cell_type": "markdown",
   "metadata": {},
   "source": [
    "可以看到当模型发现logloss值不下降之后，就会提前停止训练，并且输出最优的结果。"
   ]
  },
  {
   "cell_type": "markdown",
   "metadata": {},
   "source": [
    "## 输出特征重要性"
   ]
  },
  {
   "cell_type": "code",
   "execution_count": 44,
   "metadata": {},
   "outputs": [],
   "source": [
    "from xgboost import plot_importance"
   ]
  },
  {
   "cell_type": "code",
   "execution_count": 45,
   "metadata": {},
   "outputs": [],
   "source": [
    "%matplotlib inline"
   ]
  },
  {
   "cell_type": "code",
   "execution_count": 46,
   "metadata": {},
   "outputs": [
    {
     "data": {
      "text/plain": [
       "<matplotlib.axes._subplots.AxesSubplot at 0x1a1e4f9e10>"
      ]
     },
     "execution_count": 46,
     "metadata": {},
     "output_type": "execute_result"
    },
    {
     "data": {
      "image/png": "[encoded data removed]",
      "text/plain": [
       "<Figure size 432x288 with 1 Axes>"
      ]
     },
     "metadata": {
      "needs_background": "light"
     },
     "output_type": "display_data"
    }
   ],
   "source": [
    "plot_importance(model)"
   ]
  },
  {
   "cell_type": "markdown",
   "metadata": {},
   "source": [
    "## 调参"
   ]
  },
  {
   "cell_type": "markdown",
   "metadata": {},
   "source": [
    "XGBOOST中可以调节的参数包括（括号中的为默认值）：\n",
    "+ learning_rate(0.1): 学习率，学习率越小说明每次走的长度越小，因此需要更多的树\n",
    "+ n_estimators(100): 树的个数🌲\n",
    "+ max_depth(3): 树的深度🌲\n",
    "+ colsample_bytree(1): 当创建每一棵树的时候，只使用其中的部分属性\n",
    "+ colsample_bylevel(1): 树的每一层只使用其中的部分属性\n",
    "+ colsamole_bynode(1): 分裂每个节点的时候，只使用其中的部分属性\n",
    "+ subsample(1): 只使用部分训练样本\n",
    "\n",
    "`colsample_bytree, colsample_bylevel, colsamole_bynode, subsample`参考了随机森林的方法，用于防止过拟合。"
   ]
  },
  {
   "cell_type": "markdown",
   "metadata": {},
   "source": [
    "### 学习率"
   ]
  },
  {
   "cell_type": "markdown",
   "metadata": {},
   "source": [
    "下面以学习率为例，通过网格搜索的方法寻找最优参数。"
   ]
  },
  {
   "cell_type": "code",
   "execution_count": 47,
   "metadata": {},
   "outputs": [],
   "source": [
    "from sklearn.model_selection import GridSearchCV, StratifiedKFold"
   ]
  },
  {
   "cell_type": "code",
   "execution_count": 49,
   "metadata": {},
   "outputs": [],
   "source": [
    "model = XGBClassifier()\n",
    "learning_rates = [0.0001, 0.001, 0.01, 0.1, 0.2, 0.3]\n",
    "param = dict(learning_rate=learning_rates)\n",
    "kfold = StratifiedKFold(n_splits=10, shuffle=True, random_state=int(time.time()))\n",
    "grid_search = GridSearchCV(model, param_grid=param, scoring=\"neg_log_loss\", cv=kfold)\n",
    "ret = grid_search.fit(X, y)"
   ]
  },
  {
   "cell_type": "code",
   "execution_count": 51,
   "metadata": {},
   "outputs": [
    {
     "data": {
      "text/plain": [
       "(-0.48532649107437464, {'learning_rate': 0.1})"
      ]
     },
     "execution_count": 51,
     "metadata": {},
     "output_type": "execute_result"
    }
   ],
   "source": [
    "# 获取最优参数和对应的结果\n",
    "ret.best_score_, ret.best_params_"
   ]
  },
  {
   "cell_type": "code",
   "execution_count": 57,
   "metadata": {},
   "outputs": [
    {
     "name": "stdout",
     "output_type": "stream",
     "text": [
      "-0.6897171731106937 0.00040455031056076216 {'learning_rate': 0.0001}\n",
      "-0.6613499955274165 0.0035903914452080723 {'learning_rate': 0.001}\n",
      "-0.530141705297865 0.02040763047156933 {'learning_rate': 0.01}\n",
      "-0.48532649107437464 0.04189947381838934 {'learning_rate': 0.1}\n",
      "-0.5348682376841983 0.05535405809252925 {'learning_rate': 0.2}\n",
      "-0.5649503417167333 0.06831279591078589 {'learning_rate': 0.3}\n"
     ]
    }
   ],
   "source": [
    "# 获取每个参数在10折测试中对应结果的均值和方\n",
    "means = ret.cv_results_[\"mean_test_score\"]\n",
    "stds = ret.cv_results_[\"std_test_score\"]\n",
    "params = ret.cv_results_[\"params\"]\n",
    "for mean, std, param in zip(means, stds, params):\n",
    "    print(mean, std, param)"
   ]
  },
  {
   "cell_type": "markdown",
   "metadata": {},
   "source": [
    "### subsample"
   ]
  },
  {
   "cell_type": "code",
   "execution_count": 58,
   "metadata": {},
   "outputs": [],
   "source": [
    "model = XGBClassifier()\n",
    "subsample_ratio = [1, 0.9, 0.8, 0.7]\n",
    "colsample_bytree_ratio = [1, 0.9, 0.8, 0.7]\n",
    "param = dict(subsample=subsample_ratio, colsample_bytree=colsample_bytree_ratio)\n",
    "kfold = StratifiedKFold(n_splits=10, shuffle=True, random_state=int(time.time()))\n",
    "grid_search = GridSearchCV(model, param_grid=param, scoring=\"neg_log_loss\", cv=kfold)\n",
    "ret = grid_search.fit(X, y)"
   ]
  },
  {
   "cell_type": "code",
   "execution_count": 59,
   "metadata": {},
   "outputs": [
    {
     "data": {
      "text/plain": [
       "(-0.48961818076228764, {'colsample_bytree': 0.7, 'subsample': 1})"
      ]
     },
     "execution_count": 59,
     "metadata": {},
     "output_type": "execute_result"
    }
   ],
   "source": [
    "# 获取最优参数和对应的结果\n",
    "ret.best_score_, ret.best_params_"
   ]
  },
  {
   "cell_type": "code",
   "execution_count": 60,
   "metadata": {},
   "outputs": [
    {
     "name": "stdout",
     "output_type": "stream",
     "text": [
      "-0.4911601440129137 0.07166828259954668 {'colsample_bytree': 1, 'subsample': 1}\n",
      "-0.5008964773966605 0.08026046435687785 {'colsample_bytree': 1, 'subsample': 0.9}\n",
      "-0.5036791476286453 0.08576088331871805 {'colsample_bytree': 1, 'subsample': 0.8}\n",
      "-0.509751289907399 0.09280578362748748 {'colsample_bytree': 1, 'subsample': 0.7}\n",
      "-0.4938803892143066 0.07408538527055748 {'colsample_bytree': 0.9, 'subsample': 1}\n",
      "-0.49784539641192777 0.07932142213419963 {'colsample_bytree': 0.9, 'subsample': 0.9}\n",
      "-0.49807773682338546 0.08210942595143153 {'colsample_bytree': 0.9, 'subsample': 0.8}\n",
      "-0.5061238677996395 0.08982376566148907 {'colsample_bytree': 0.9, 'subsample': 0.7}\n",
      "-0.4927833476416102 0.06782473665570085 {'colsample_bytree': 0.8, 'subsample': 1}\n",
      "-0.4933515631443394 0.07927876748214507 {'colsample_bytree': 0.8, 'subsample': 0.9}\n",
      "-0.5015384495694283 0.08551004472870154 {'colsample_bytree': 0.8, 'subsample': 0.8}\n",
      "-0.5046200485812733 0.08461528014070543 {'colsample_bytree': 0.8, 'subsample': 0.7}\n",
      "-0.48961818076228764 0.07460728597345921 {'colsample_bytree': 0.7, 'subsample': 1}\n",
      "-0.4947519394612148 0.07510347017620993 {'colsample_bytree': 0.7, 'subsample': 0.9}\n",
      "-0.5028556188814642 0.08665319459334589 {'colsample_bytree': 0.7, 'subsample': 0.8}\n",
      "-0.496187441622169 0.0803519692567954 {'colsample_bytree': 0.7, 'subsample': 0.7}\n"
     ]
    }
   ],
   "source": [
    "# 获取每个参数在k折测试中对应结果的均值和方\n",
    "means = ret.cv_results_[\"mean_test_score\"]\n",
    "stds = ret.cv_results_[\"std_test_score\"]\n",
    "params = ret.cv_results_[\"params\"]\n",
    "for mean, std, param in zip(means, stds, params):\n",
    "    print(mean, std, param)"
   ]
  },
  {
   "cell_type": "markdown",
   "metadata": {},
   "source": [
    "## 参考资料\n",
    "+ [Kaggle 神器 xgboost](https://www.jianshu.com/p/7e0e2d66b3d4)\n",
    "+ [xgboost的sklearn API](https://xgboost.readthedocs.io/en/latest/python/python_api.html#module-xgboost.sklearn)\n",
    "+ [数据集下载及属性解释](https://www.kaggle.com/kumargh/pimaindiansdiabetescsv)"
   ]
  },
  {
   "cell_type": "code",
   "execution_count": null,
   "metadata": {},
   "outputs": [],
   "source": []
  }
 ],
 "metadata": {
  "kernelspec": {
   "display_name": "Python 3",
   "language": "python",
   "name": "python3"
  },
  "language_info": {
   "codemirror_mode": {
    "name": "ipython",
    "version": 3
   },
   "file_extension": ".py",
   "mimetype": "text/x-python",
   "name": "python",
   "nbconvert_exporter": "python",
   "pygments_lexer": "ipython3",
   "version": "3.7.4"
  },
  "toc": {
   "base_numbering": 1,
   "nav_menu": {},
   "number_sections": true,
   "sideBar": true,
   "skip_h1_title": false,
   "title_cell": "Table of Contents",
   "title_sidebar": "Contents",
   "toc_cell": true,
   "toc_position": {},
   "toc_section_display": true,
   "toc_window_display": false
  }
 },
 "nbformat": 4,
 "nbformat_minor": 2
}
